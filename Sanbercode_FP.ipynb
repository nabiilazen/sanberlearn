{
  "nbformat": 4,
  "nbformat_minor": 0,
  "metadata": {
    "colab": {
      "name": "Sanbercode - FP.ipynb",
      "provenance": [],
      "collapsed_sections": [],
      "authorship_tag": "ABX9TyOMHwwcLABepnFccJBFUM3Z",
      "include_colab_link": true
    },
    "kernelspec": {
      "name": "python3",
      "display_name": "Python 3"
    }
  },
  "cells": [
    {
      "cell_type": "markdown",
      "metadata": {
        "id": "view-in-github",
        "colab_type": "text"
      },
      "source": [
        "<a href=\"https://colab.research.google.com/github/nabiilazen/sanberlearn/blob/main/Sanbercode_FP.ipynb\" target=\"_parent\"><img src=\"https://colab.research.google.com/assets/colab-badge.svg\" alt=\"Open In Colab\"/></a>"
      ]
    },
    {
      "cell_type": "code",
      "metadata": {
        "id": "FEo0D16OQZuq",
        "outputId": "dbcce0dd-3369-46af-f872-acdfd60212cd",
        "colab": {
          "base_uri": "https://localhost:8080/"
        }
      },
      "source": [
        "from google.colab import drive\n",
        "drive.mount('/content/drive')"
      ],
      "execution_count": null,
      "outputs": [
        {
          "output_type": "stream",
          "text": [
            "Drive already mounted at /content/drive; to attempt to forcibly remount, call drive.mount(\"/content/drive\", force_remount=True).\n"
          ],
          "name": "stdout"
        }
      ]
    },
    {
      "cell_type": "code",
      "metadata": {
        "id": "fWPCV4tIQfm8",
        "outputId": "647bccc9-e381-4b7c-fe3f-cb116a18915b",
        "colab": {
          "base_uri": "https://localhost:8080/",
          "height": 289
        }
      },
      "source": [
        "import pandas as pd\n",
        "\n",
        "df_train = pd.read_csv('/content/drive/My Drive/PEKAN 4/pendapatan_train.csv')\n",
        "df_train.head()\n"
      ],
      "execution_count": null,
      "outputs": [
        {
          "output_type": "execute_result",
          "data": {
            "text/html": [
              "<div>\n",
              "<style scoped>\n",
              "    .dataframe tbody tr th:only-of-type {\n",
              "        vertical-align: middle;\n",
              "    }\n",
              "\n",
              "    .dataframe tbody tr th {\n",
              "        vertical-align: top;\n",
              "    }\n",
              "\n",
              "    .dataframe thead th {\n",
              "        text-align: right;\n",
              "    }\n",
              "</style>\n",
              "<table border=\"1\" class=\"dataframe\">\n",
              "  <thead>\n",
              "    <tr style=\"text-align: right;\">\n",
              "      <th></th>\n",
              "      <th>id</th>\n",
              "      <th>Umur</th>\n",
              "      <th>Kelas Pekerja</th>\n",
              "      <th>Berat Akhir</th>\n",
              "      <th>Pendidikan</th>\n",
              "      <th>Jmlh Tahun Pendidikan</th>\n",
              "      <th>Status Perkawinan</th>\n",
              "      <th>Pekerjaan</th>\n",
              "      <th>Jenis Kelamin</th>\n",
              "      <th>Keuntungan Kapital</th>\n",
              "      <th>Kerugian Capital</th>\n",
              "      <th>Jam per Minggu</th>\n",
              "      <th>Gaji</th>\n",
              "    </tr>\n",
              "  </thead>\n",
              "  <tbody>\n",
              "    <tr>\n",
              "      <th>0</th>\n",
              "      <td>0</td>\n",
              "      <td>40</td>\n",
              "      <td>Wiraswasta</td>\n",
              "      <td>205047</td>\n",
              "      <td>SMA</td>\n",
              "      <td>9</td>\n",
              "      <td>Menikah LDR</td>\n",
              "      <td>Perbaikan Kerajinan</td>\n",
              "      <td>Laki2</td>\n",
              "      <td>0.0</td>\n",
              "      <td>0.0</td>\n",
              "      <td>40.0</td>\n",
              "      <td>&gt;7jt</td>\n",
              "    </tr>\n",
              "    <tr>\n",
              "      <th>1</th>\n",
              "      <td>1</td>\n",
              "      <td>33</td>\n",
              "      <td>Pemerintah Lokal</td>\n",
              "      <td>298785</td>\n",
              "      <td>10th</td>\n",
              "      <td>6</td>\n",
              "      <td>Cerai</td>\n",
              "      <td>Supir</td>\n",
              "      <td>Laki2</td>\n",
              "      <td>0.0</td>\n",
              "      <td>0.0</td>\n",
              "      <td>40.0</td>\n",
              "      <td>&lt;=7jt</td>\n",
              "    </tr>\n",
              "    <tr>\n",
              "      <th>2</th>\n",
              "      <td>2</td>\n",
              "      <td>26</td>\n",
              "      <td>Wiraswasta</td>\n",
              "      <td>106856</td>\n",
              "      <td>D4</td>\n",
              "      <td>11</td>\n",
              "      <td>Belum Pernah Menikah</td>\n",
              "      <td>Pemuka Agama</td>\n",
              "      <td>Perempuan</td>\n",
              "      <td>0.0</td>\n",
              "      <td>0.0</td>\n",
              "      <td>40.0</td>\n",
              "      <td>&lt;=7jt</td>\n",
              "    </tr>\n",
              "    <tr>\n",
              "      <th>3</th>\n",
              "      <td>3</td>\n",
              "      <td>54</td>\n",
              "      <td>Pekerja Bebas Perusahaan</td>\n",
              "      <td>117674</td>\n",
              "      <td>Sarjana</td>\n",
              "      <td>13</td>\n",
              "      <td>Menikah</td>\n",
              "      <td>Sales</td>\n",
              "      <td>Laki2</td>\n",
              "      <td>0.0</td>\n",
              "      <td>0.0</td>\n",
              "      <td>40.0</td>\n",
              "      <td>&gt;7jt</td>\n",
              "    </tr>\n",
              "    <tr>\n",
              "      <th>4</th>\n",
              "      <td>4</td>\n",
              "      <td>48</td>\n",
              "      <td>Wiraswasta</td>\n",
              "      <td>268234</td>\n",
              "      <td>SMA</td>\n",
              "      <td>9</td>\n",
              "      <td>Cerai</td>\n",
              "      <td>Perbaikan Kerajinan</td>\n",
              "      <td>Laki2</td>\n",
              "      <td>0.0</td>\n",
              "      <td>0.0</td>\n",
              "      <td>50.0</td>\n",
              "      <td>&lt;=7jt</td>\n",
              "    </tr>\n",
              "  </tbody>\n",
              "</table>\n",
              "</div>"
            ],
            "text/plain": [
              "   id  Umur             Kelas Pekerja  ...  Kerugian Capital Jam per Minggu   Gaji\n",
              "0   0    40                Wiraswasta  ...               0.0           40.0   >7jt\n",
              "1   1    33          Pemerintah Lokal  ...               0.0           40.0  <=7jt\n",
              "2   2    26                Wiraswasta  ...               0.0           40.0  <=7jt\n",
              "3   3    54  Pekerja Bebas Perusahaan  ...               0.0           40.0   >7jt\n",
              "4   4    48                Wiraswasta  ...               0.0           50.0  <=7jt\n",
              "\n",
              "[5 rows x 13 columns]"
            ]
          },
          "metadata": {
            "tags": []
          },
          "execution_count": 56
        }
      ]
    },
    {
      "cell_type": "code",
      "metadata": {
        "id": "YEuUw9f_Q6io",
        "outputId": "79ba6083-baf5-43bc-d896-e34df5131f19",
        "colab": {
          "base_uri": "https://localhost:8080/"
        }
      },
      "source": [
        "print(df_train.shape)"
      ],
      "execution_count": null,
      "outputs": [
        {
          "output_type": "stream",
          "text": [
            "(28794, 13)\n"
          ],
          "name": "stdout"
        }
      ]
    },
    {
      "cell_type": "code",
      "metadata": {
        "id": "zxFnvdstRFsr",
        "outputId": "4fdec36a-8fe7-4f22-8a04-cd1ae0e8a888",
        "colab": {
          "base_uri": "https://localhost:8080/"
        }
      },
      "source": [
        "#mengecek missing value\n",
        "df_train.isna().sum()"
      ],
      "execution_count": null,
      "outputs": [
        {
          "output_type": "execute_result",
          "data": {
            "text/plain": [
              "id                       0\n",
              "Umur                     0\n",
              "Kelas Pekerja            0\n",
              "Berat Akhir              0\n",
              "Pendidikan               0\n",
              "Jmlh Tahun Pendidikan    0\n",
              "Status Perkawinan        0\n",
              "Pekerjaan                0\n",
              "Jenis Kelamin            0\n",
              "Keuntungan Kapital       0\n",
              "Kerugian Capital         0\n",
              "Jam per Minggu           0\n",
              "Gaji                     0\n",
              "dtype: int64"
            ]
          },
          "metadata": {
            "tags": []
          },
          "execution_count": 58
        }
      ]
    },
    {
      "cell_type": "code",
      "metadata": {
        "id": "KNTASdS3RLSC",
        "outputId": "ae3b799d-0e7e-40c1-e654-0df1a32cb192",
        "colab": {
          "base_uri": "https://localhost:8080/"
        }
      },
      "source": [
        "print(df_train['Kelas Pekerja'].unique())\n",
        "print(df_train['Pendidikan'].unique())\n",
        "print(df_train['Status Perkawinan'].unique())\n",
        "print(df_train['Pekerjaan'].unique())\n",
        "print(df_train['Jenis Kelamin'].unique())"
      ],
      "execution_count": null,
      "outputs": [
        {
          "output_type": "stream",
          "text": [
            "['Wiraswasta' 'Pemerintah Lokal' 'Pekerja Bebas Perusahaan'\n",
            " 'Pekerja Bebas Bukan Perusahan' 'Pemerintah Negara' '?'\n",
            " 'Pemerintah Provinsi' 'Tanpa di Bayar' 'Tidak Pernah Bekerja']\n",
            "['SMA' '10th' 'D4' 'Sarjana' 'Pendidikan Tinggi' 'D3' '1st-4th' '5th-6th'\n",
            " '9th' '11th' 'Sekolah Professional' '12th' 'Master' '7th-8th' 'Doktor'\n",
            " 'SD']\n",
            "['Menikah LDR' 'Cerai' 'Belum Pernah Menikah' 'Menikah' 'Berpisah' 'Janda']\n",
            "['Perbaikan Kerajinan' 'Supir' 'Pemuka Agama' 'Sales' 'Pembersih'\n",
            " 'Servis Lainnya' 'Tech-support' 'Spesialis' 'Ekesekutif Managerial' '?'\n",
            " 'Petani' 'Mesin Inspeksi' 'Penjaga' 'Asisten Rumah Tangga' 'Tentara']\n",
            "['Laki2' 'Perempuan']\n"
          ],
          "name": "stdout"
        }
      ]
    },
    {
      "cell_type": "code",
      "metadata": {
        "id": "ZQPo6RClRUON"
      },
      "source": [
        "#encoding categorical data\n",
        "from sklearn.preprocessing import LabelEncoder\n",
        "from sklearn.preprocessing import StandardScaler\n",
        "\n",
        "non_numerikal_data_features = ['Kelas Pekerja','Pendidikan','Status Perkawinan','Pekerjaan','Jenis Kelamin']\n",
        "\n",
        "for data in non_numerikal_data_features:        \n",
        "    df_train[data] = LabelEncoder().fit_transform(df_train[data])"
      ],
      "execution_count": null,
      "outputs": []
    },
    {
      "cell_type": "code",
      "metadata": {
        "id": "IDaqJfL-RfFD",
        "outputId": "49c7c4b0-0b57-4fca-95c8-c5aa88fe7bce",
        "colab": {
          "base_uri": "https://localhost:8080/"
        }
      },
      "source": [
        "print(df_train['Kelas Pekerja'].unique())\n",
        "print(df_train['Pendidikan'].unique())\n",
        "print(df_train['Status Perkawinan'].unique())\n",
        "print(df_train['Pekerjaan'].unique())\n",
        "print(df_train['Jenis Kelamin'].unique())"
      ],
      "execution_count": null,
      "outputs": [
        {
          "output_type": "stream",
          "text": [
            "[8 3 2 1 4 0 5 6 7]\n",
            "[13  0  8 14 11  7  3  4  6  1 15  2 10  5  9 12]\n",
            "[5 2 0 4 1 3]\n",
            "[ 7 12  5  9  4 10 13 11  2  0  8  3  6  1 14]\n",
            "[0 1]\n"
          ],
          "name": "stdout"
        }
      ]
    },
    {
      "cell_type": "code",
      "metadata": {
        "id": "vs8hEW8YRoOT",
        "outputId": "89257d8e-7397-4ff4-931f-4df8babaf2e5",
        "colab": {
          "base_uri": "https://localhost:8080/",
          "height": 221
        }
      },
      "source": [
        "df_train.head()"
      ],
      "execution_count": null,
      "outputs": [
        {
          "output_type": "execute_result",
          "data": {
            "text/html": [
              "<div>\n",
              "<style scoped>\n",
              "    .dataframe tbody tr th:only-of-type {\n",
              "        vertical-align: middle;\n",
              "    }\n",
              "\n",
              "    .dataframe tbody tr th {\n",
              "        vertical-align: top;\n",
              "    }\n",
              "\n",
              "    .dataframe thead th {\n",
              "        text-align: right;\n",
              "    }\n",
              "</style>\n",
              "<table border=\"1\" class=\"dataframe\">\n",
              "  <thead>\n",
              "    <tr style=\"text-align: right;\">\n",
              "      <th></th>\n",
              "      <th>id</th>\n",
              "      <th>Umur</th>\n",
              "      <th>Kelas Pekerja</th>\n",
              "      <th>Berat Akhir</th>\n",
              "      <th>Pendidikan</th>\n",
              "      <th>Jmlh Tahun Pendidikan</th>\n",
              "      <th>Status Perkawinan</th>\n",
              "      <th>Pekerjaan</th>\n",
              "      <th>Jenis Kelamin</th>\n",
              "      <th>Keuntungan Kapital</th>\n",
              "      <th>Kerugian Capital</th>\n",
              "      <th>Jam per Minggu</th>\n",
              "      <th>Gaji</th>\n",
              "    </tr>\n",
              "  </thead>\n",
              "  <tbody>\n",
              "    <tr>\n",
              "      <th>0</th>\n",
              "      <td>0</td>\n",
              "      <td>40</td>\n",
              "      <td>8</td>\n",
              "      <td>205047</td>\n",
              "      <td>13</td>\n",
              "      <td>9</td>\n",
              "      <td>5</td>\n",
              "      <td>7</td>\n",
              "      <td>0</td>\n",
              "      <td>0.0</td>\n",
              "      <td>0.0</td>\n",
              "      <td>40.0</td>\n",
              "      <td>&gt;7jt</td>\n",
              "    </tr>\n",
              "    <tr>\n",
              "      <th>1</th>\n",
              "      <td>1</td>\n",
              "      <td>33</td>\n",
              "      <td>3</td>\n",
              "      <td>298785</td>\n",
              "      <td>0</td>\n",
              "      <td>6</td>\n",
              "      <td>2</td>\n",
              "      <td>12</td>\n",
              "      <td>0</td>\n",
              "      <td>0.0</td>\n",
              "      <td>0.0</td>\n",
              "      <td>40.0</td>\n",
              "      <td>&lt;=7jt</td>\n",
              "    </tr>\n",
              "    <tr>\n",
              "      <th>2</th>\n",
              "      <td>2</td>\n",
              "      <td>26</td>\n",
              "      <td>8</td>\n",
              "      <td>106856</td>\n",
              "      <td>8</td>\n",
              "      <td>11</td>\n",
              "      <td>0</td>\n",
              "      <td>5</td>\n",
              "      <td>1</td>\n",
              "      <td>0.0</td>\n",
              "      <td>0.0</td>\n",
              "      <td>40.0</td>\n",
              "      <td>&lt;=7jt</td>\n",
              "    </tr>\n",
              "    <tr>\n",
              "      <th>3</th>\n",
              "      <td>3</td>\n",
              "      <td>54</td>\n",
              "      <td>2</td>\n",
              "      <td>117674</td>\n",
              "      <td>14</td>\n",
              "      <td>13</td>\n",
              "      <td>4</td>\n",
              "      <td>9</td>\n",
              "      <td>0</td>\n",
              "      <td>0.0</td>\n",
              "      <td>0.0</td>\n",
              "      <td>40.0</td>\n",
              "      <td>&gt;7jt</td>\n",
              "    </tr>\n",
              "    <tr>\n",
              "      <th>4</th>\n",
              "      <td>4</td>\n",
              "      <td>48</td>\n",
              "      <td>8</td>\n",
              "      <td>268234</td>\n",
              "      <td>13</td>\n",
              "      <td>9</td>\n",
              "      <td>2</td>\n",
              "      <td>7</td>\n",
              "      <td>0</td>\n",
              "      <td>0.0</td>\n",
              "      <td>0.0</td>\n",
              "      <td>50.0</td>\n",
              "      <td>&lt;=7jt</td>\n",
              "    </tr>\n",
              "  </tbody>\n",
              "</table>\n",
              "</div>"
            ],
            "text/plain": [
              "   id  Umur  Kelas Pekerja  ...  Kerugian Capital  Jam per Minggu   Gaji\n",
              "0   0    40              8  ...               0.0            40.0   >7jt\n",
              "1   1    33              3  ...               0.0            40.0  <=7jt\n",
              "2   2    26              8  ...               0.0            40.0  <=7jt\n",
              "3   3    54              2  ...               0.0            40.0   >7jt\n",
              "4   4    48              8  ...               0.0            50.0  <=7jt\n",
              "\n",
              "[5 rows x 13 columns]"
            ]
          },
          "metadata": {
            "tags": []
          },
          "execution_count": 62
        }
      ]
    },
    {
      "cell_type": "code",
      "metadata": {
        "id": "21Jxlyj_R2Rr"
      },
      "source": [
        "#split data X\n",
        "X = StandardScaler().fit_transform(df_train.drop(columns=['Gaji']))"
      ],
      "execution_count": null,
      "outputs": []
    },
    {
      "cell_type": "code",
      "metadata": {
        "id": "vaPnkuKcS0lc",
        "outputId": "70fa04a8-7033-4924-9990-1325827e585d",
        "colab": {
          "base_uri": "https://localhost:8080/"
        }
      },
      "source": [
        "X.shape"
      ],
      "execution_count": null,
      "outputs": [
        {
          "output_type": "execute_result",
          "data": {
            "text/plain": [
              "(28794, 12)"
            ]
          },
          "metadata": {
            "tags": []
          },
          "execution_count": 64
        }
      ]
    },
    {
      "cell_type": "code",
      "metadata": {
        "id": "4boXL0yMS2zQ"
      },
      "source": [
        "#mengubah nilai gaji\n",
        "gaji_dict = {'<=7jt':'0',\n",
        "             '>7jt':'1'}\n",
        "\n",
        "df_train['Gaji'] = df_train['Gaji'].replace(gaji_dict)"
      ],
      "execution_count": null,
      "outputs": []
    },
    {
      "cell_type": "code",
      "metadata": {
        "id": "dZex1R3NS8zR",
        "outputId": "ef5173d4-bcb9-4f73-c971-80b3a0082954",
        "colab": {
          "base_uri": "https://localhost:8080/"
        }
      },
      "source": [
        "df_train['Gaji'].value_counts()"
      ],
      "execution_count": null,
      "outputs": [
        {
          "output_type": "execute_result",
          "data": {
            "text/plain": [
              "0    21973\n",
              "1     6821\n",
              "Name: Gaji, dtype: int64"
            ]
          },
          "metadata": {
            "tags": []
          },
          "execution_count": 66
        }
      ]
    },
    {
      "cell_type": "code",
      "metadata": {
        "id": "DY_0kVavS_DG"
      },
      "source": [
        "#split data y\n",
        "y = df_train.iloc[:, -1].values"
      ],
      "execution_count": null,
      "outputs": []
    },
    {
      "cell_type": "code",
      "metadata": {
        "id": "ySKJJwplTkjB",
        "outputId": "057f70cf-02ce-48ef-8e82-78495edf8818",
        "colab": {
          "base_uri": "https://localhost:8080/"
        }
      },
      "source": [
        "y"
      ],
      "execution_count": null,
      "outputs": [
        {
          "output_type": "execute_result",
          "data": {
            "text/plain": [
              "array(['1', '0', '0', ..., '0', '0', '0'], dtype=object)"
            ]
          },
          "metadata": {
            "tags": []
          },
          "execution_count": 68
        }
      ]
    },
    {
      "cell_type": "markdown",
      "metadata": {
        "id": "y8E9KnvKUDum"
      },
      "source": [
        "**Train test split**"
      ]
    },
    {
      "cell_type": "code",
      "metadata": {
        "id": "c42Zg4-ZTn1N"
      },
      "source": [
        "#Membagi dataset menjadi data test dan data training\n",
        "from sklearn.model_selection import train_test_split\n",
        "from sklearn.metrics import accuracy_score\n",
        "\n",
        "X_train, X_test, y_train, y_test = train_test_split(X, y, test_size=0.30, random_state=21, stratify=y)"
      ],
      "execution_count": null,
      "outputs": []
    },
    {
      "cell_type": "code",
      "metadata": {
        "id": "rAnYwS_1UGEE"
      },
      "source": [
        "from sklearn.model_selection import RandomizedSearchCV\n",
        "\n",
        "def bestparam_randCV(model,hyperparam,x_train, y_train, n_iter=1000):\n",
        "    \n",
        "    hyperparam = hyperparam\n",
        "    randomizedCV = RandomizedSearchCV(model, param_distributions = hyperparam, cv = 10,\n",
        "                                             n_iter = n_iter, scoring = 'roc_auc', n_jobs=-1, \n",
        "                                             random_state = 42, verbose = True)\n",
        "    randomizedCV.fit(x_train, y_train)\n",
        "    \n",
        "    #print (randomizedCV.cv_results_)\n",
        "    print ('Best Accuracy', randomizedCV.score(x_train, y_train))\n",
        "    print ('Best Param', randomizedCV.best_params_)\n",
        "    return randomizedCV"
      ],
      "execution_count": null,
      "outputs": []
    },
    {
      "cell_type": "code",
      "metadata": {
        "id": "vauZ4a3UUdz3",
        "outputId": "40375a69-6723-4531-d431-e35cfec09355",
        "colab": {
          "base_uri": "https://localhost:8080/"
        }
      },
      "source": [
        "from sklearn.ensemble import RandomForestClassifier\n",
        "\n",
        "model         = RandomForestClassifier()             \n",
        "\n",
        "hyperparam = {'bootstrap': [True, False],\n",
        " 'max_depth': [10, 20, 30, 40, 50, 60, 70, 80, 90, 100, None],\n",
        " 'max_features': ['auto', 'sqrt'],\n",
        " 'min_samples_leaf': [1, 2, 4],\n",
        " 'min_samples_split': [2, 5, 10],\n",
        " 'n_estimators': [200, 400, 600, 800, 1000, 1200, 1400, 1600, 1800, 2000]\n",
        "} \n",
        "n_iter     = 10\n",
        "best_rfc  = bestparam_randCV(model, hyperparam, X_train, y_train, n_iter)"
      ],
      "execution_count": null,
      "outputs": [
        {
          "output_type": "stream",
          "text": [
            "Fitting 10 folds for each of 10 candidates, totalling 100 fits\n"
          ],
          "name": "stdout"
        },
        {
          "output_type": "stream",
          "text": [
            "[Parallel(n_jobs=-1)]: Using backend LokyBackend with 2 concurrent workers.\n",
            "[Parallel(n_jobs=-1)]: Done  46 tasks      | elapsed: 15.0min\n",
            "/usr/local/lib/python3.6/dist-packages/joblib/externals/loky/process_executor.py:691: UserWarning: A worker stopped while some jobs were given to the executor. This can be caused by a too short worker timeout or by a memory leak.\n",
            "  \"timeout or by a memory leak.\", UserWarning\n",
            "[Parallel(n_jobs=-1)]: Done 100 out of 100 | elapsed: 38.0min finished\n"
          ],
          "name": "stderr"
        },
        {
          "output_type": "stream",
          "text": [
            "Best Accuracy 0.9863322871206912\n",
            "Best Param {'n_estimators': 200, 'min_samples_split': 10, 'min_samples_leaf': 2, 'max_features': 'sqrt', 'max_depth': 50, 'bootstrap': True}\n"
          ],
          "name": "stdout"
        }
      ]
    },
    {
      "cell_type": "code",
      "metadata": {
        "id": "oTivuF-0VB6J"
      },
      "source": [
        "rfc = RandomForestClassifier(bootstrap    = best_rfc.best_params_.get('bootstrap'),\n",
        "                             max_depth    = best_rfc.best_params_.get('max_depth'),\n",
        "                             max_features = best_rfc.best_params_.get('max_features'),\n",
        "                             min_samples_leaf  = best_rfc.best_params_.get('min_samples_leaf'),\n",
        "                             min_samples_split = best_rfc.best_params_.get('min_samples_split'),\n",
        "                             n_estimators     = best_rfc.best_params_.get('n_estimators'))"
      ],
      "execution_count": null,
      "outputs": []
    },
    {
      "cell_type": "code",
      "metadata": {
        "id": "-3HuS-REtFgv",
        "outputId": "3c2e3565-8c5a-497e-99c9-75bf1eccbb20",
        "colab": {
          "base_uri": "https://localhost:8080/"
        }
      },
      "source": [
        "rfc"
      ],
      "execution_count": null,
      "outputs": [
        {
          "output_type": "execute_result",
          "data": {
            "text/plain": [
              "RandomForestClassifier(bootstrap=True, ccp_alpha=0.0, class_weight=None,\n",
              "                       criterion='gini', max_depth=50, max_features='sqrt',\n",
              "                       max_leaf_nodes=None, max_samples=None,\n",
              "                       min_impurity_decrease=0.0, min_impurity_split=None,\n",
              "                       min_samples_leaf=2, min_samples_split=10,\n",
              "                       min_weight_fraction_leaf=0.0, n_estimators=200,\n",
              "                       n_jobs=None, oob_score=False, random_state=None,\n",
              "                       verbose=0, warm_start=False)"
            ]
          },
          "metadata": {
            "tags": []
          },
          "execution_count": 73
        }
      ]
    },
    {
      "cell_type": "code",
      "metadata": {
        "id": "E20xAohc7Vjt"
      },
      "source": [
        "result_rfc = rfc.fit(X_train, y_train)"
      ],
      "execution_count": null,
      "outputs": []
    },
    {
      "cell_type": "code",
      "metadata": {
        "id": "1ILJSEb87X_F"
      },
      "source": [
        "y_predict_train = rfc.predict(X_train)\n",
        "y_predict_test = rfc.predict(X_test)"
      ],
      "execution_count": null,
      "outputs": []
    },
    {
      "cell_type": "code",
      "metadata": {
        "id": "Xp5_7wI28run",
        "outputId": "3371c463-495e-4e48-846a-691b203aca79",
        "colab": {
          "base_uri": "https://localhost:8080/"
        }
      },
      "source": [
        "print('Score data train', accuracy_score(y_train, y_predict_train))\n",
        "print('Score data test', accuracy_score(y_test, y_predict_test))"
      ],
      "execution_count": null,
      "outputs": [
        {
          "output_type": "stream",
          "text": [
            "Score data train 0.9361448772016869\n",
            "Score data test 0.8591272137978933\n"
          ],
          "name": "stdout"
        }
      ]
    },
    {
      "cell_type": "code",
      "metadata": {
        "id": "5_5cUbnk8uYJ",
        "outputId": "eaf7dbf0-6b9d-4dc0-ed4f-6022a9170224",
        "colab": {
          "base_uri": "https://localhost:8080/",
          "height": 272
        }
      },
      "source": [
        "df_test = pd.read_csv('/content/drive/My Drive/PEKAN 4/pendapatan_test.csv')\n",
        "df_test.head()"
      ],
      "execution_count": null,
      "outputs": [
        {
          "output_type": "execute_result",
          "data": {
            "text/html": [
              "<div>\n",
              "<style scoped>\n",
              "    .dataframe tbody tr th:only-of-type {\n",
              "        vertical-align: middle;\n",
              "    }\n",
              "\n",
              "    .dataframe tbody tr th {\n",
              "        vertical-align: top;\n",
              "    }\n",
              "\n",
              "    .dataframe thead th {\n",
              "        text-align: right;\n",
              "    }\n",
              "</style>\n",
              "<table border=\"1\" class=\"dataframe\">\n",
              "  <thead>\n",
              "    <tr style=\"text-align: right;\">\n",
              "      <th></th>\n",
              "      <th>id</th>\n",
              "      <th>Umur</th>\n",
              "      <th>Kelas Pekerja</th>\n",
              "      <th>Berat Akhir</th>\n",
              "      <th>Pendidikan</th>\n",
              "      <th>Jmlh Tahun Pendidikan</th>\n",
              "      <th>Status Perkawinan</th>\n",
              "      <th>Pekerjaan</th>\n",
              "      <th>Jenis Kelamin</th>\n",
              "      <th>Keuntungan Kapital</th>\n",
              "      <th>Kerugian Capital</th>\n",
              "      <th>Jam per Minggu</th>\n",
              "    </tr>\n",
              "  </thead>\n",
              "  <tbody>\n",
              "    <tr>\n",
              "      <th>0</th>\n",
              "      <td>28794</td>\n",
              "      <td>31</td>\n",
              "      <td>Pemerintah Provinsi</td>\n",
              "      <td>207301</td>\n",
              "      <td>SMA</td>\n",
              "      <td>9</td>\n",
              "      <td>Menikah</td>\n",
              "      <td>Pemuka Agama</td>\n",
              "      <td>Perempuan</td>\n",
              "      <td>0.0</td>\n",
              "      <td>0.0</td>\n",
              "      <td>40.0</td>\n",
              "    </tr>\n",
              "    <tr>\n",
              "      <th>1</th>\n",
              "      <td>28795</td>\n",
              "      <td>34</td>\n",
              "      <td>Wiraswasta</td>\n",
              "      <td>324254</td>\n",
              "      <td>SMA</td>\n",
              "      <td>9</td>\n",
              "      <td>Menikah</td>\n",
              "      <td>Mesin Inspeksi</td>\n",
              "      <td>Laki2</td>\n",
              "      <td>0.0</td>\n",
              "      <td>0.0</td>\n",
              "      <td>40.0</td>\n",
              "    </tr>\n",
              "    <tr>\n",
              "      <th>2</th>\n",
              "      <td>28796</td>\n",
              "      <td>58</td>\n",
              "      <td>Wiraswasta</td>\n",
              "      <td>27385</td>\n",
              "      <td>SMA</td>\n",
              "      <td>9</td>\n",
              "      <td>Menikah</td>\n",
              "      <td>Ekesekutif Managerial</td>\n",
              "      <td>Laki2</td>\n",
              "      <td>0.0</td>\n",
              "      <td>0.0</td>\n",
              "      <td>60.0</td>\n",
              "    </tr>\n",
              "    <tr>\n",
              "      <th>3</th>\n",
              "      <td>28797</td>\n",
              "      <td>49</td>\n",
              "      <td>Wiraswasta</td>\n",
              "      <td>723746</td>\n",
              "      <td>SMA</td>\n",
              "      <td>9</td>\n",
              "      <td>Menikah</td>\n",
              "      <td>Perbaikan Kerajinan</td>\n",
              "      <td>Laki2</td>\n",
              "      <td>0.0</td>\n",
              "      <td>0.0</td>\n",
              "      <td>43.0</td>\n",
              "    </tr>\n",
              "    <tr>\n",
              "      <th>4</th>\n",
              "      <td>28798</td>\n",
              "      <td>60</td>\n",
              "      <td>Wiraswasta</td>\n",
              "      <td>194980</td>\n",
              "      <td>SMA</td>\n",
              "      <td>9</td>\n",
              "      <td>Berpisah</td>\n",
              "      <td>Pemuka Agama</td>\n",
              "      <td>Perempuan</td>\n",
              "      <td>0.0</td>\n",
              "      <td>0.0</td>\n",
              "      <td>20.0</td>\n",
              "    </tr>\n",
              "  </tbody>\n",
              "</table>\n",
              "</div>"
            ],
            "text/plain": [
              "      id  Umur  ... Kerugian Capital  Jam per Minggu\n",
              "0  28794    31  ...              0.0            40.0\n",
              "1  28795    34  ...              0.0            40.0\n",
              "2  28796    58  ...              0.0            60.0\n",
              "3  28797    49  ...              0.0            43.0\n",
              "4  28798    60  ...              0.0            20.0\n",
              "\n",
              "[5 rows x 12 columns]"
            ]
          },
          "metadata": {
            "tags": []
          },
          "execution_count": 162
        }
      ]
    },
    {
      "cell_type": "code",
      "metadata": {
        "id": "cMdyH3eH95Fc",
        "outputId": "c7a82de2-7d21-4023-fd7f-13d4776903f3",
        "colab": {
          "base_uri": "https://localhost:8080/"
        }
      },
      "source": [
        "print(df_test.shape)"
      ],
      "execution_count": null,
      "outputs": [
        {
          "output_type": "stream",
          "text": [
            "(9599, 12)\n"
          ],
          "name": "stdout"
        }
      ]
    },
    {
      "cell_type": "code",
      "metadata": {
        "id": "XyJUNXsj-FQe",
        "outputId": "29f155ea-db85-4769-93aa-6ccddf4af655",
        "colab": {
          "base_uri": "https://localhost:8080/"
        }
      },
      "source": [
        "df_test.isna().sum()"
      ],
      "execution_count": null,
      "outputs": [
        {
          "output_type": "execute_result",
          "data": {
            "text/plain": [
              "id                       0\n",
              "Umur                     0\n",
              "Kelas Pekerja            0\n",
              "Berat Akhir              0\n",
              "Pendidikan               0\n",
              "Jmlh Tahun Pendidikan    0\n",
              "Status Perkawinan        0\n",
              "Pekerjaan                0\n",
              "Jenis Kelamin            0\n",
              "Keuntungan Kapital       0\n",
              "Kerugian Capital         0\n",
              "Jam per Minggu           0\n",
              "dtype: int64"
            ]
          },
          "metadata": {
            "tags": []
          },
          "execution_count": 164
        }
      ]
    },
    {
      "cell_type": "code",
      "metadata": {
        "id": "e4LTodTh-YVp",
        "outputId": "1d32fb5a-2f9a-412b-ea22-87a1c08bab11",
        "colab": {
          "base_uri": "https://localhost:8080/"
        }
      },
      "source": [
        "print(df_test['Kelas Pekerja'].unique())\n",
        "print(df_test['Pendidikan'].unique())\n",
        "print(df_test['Status Perkawinan'].unique())\n",
        "print(df_test['Pekerjaan'].unique())\n",
        "print(df_test['Jenis Kelamin'].unique())"
      ],
      "execution_count": null,
      "outputs": [
        {
          "output_type": "stream",
          "text": [
            "['Pemerintah Provinsi' 'Wiraswasta' 'Pekerja Bebas Bukan Perusahan'\n",
            " 'Pemerintah Lokal' 'Pekerja Bebas Perusahaan' 'Pemerintah Negara' '?'\n",
            " 'Tanpa di Bayar' 'Tidak Pernah Bekerja']\n",
            "['SMA' 'Pendidikan Tinggi' '11th' 'Sarjana' '10th' 'Master' '7th-8th'\n",
            " '9th' '12th' 'D3' 'Doktor' 'D4' 'Sekolah Professional' '1st-4th'\n",
            " '5th-6th' 'SD']\n",
            "['Menikah' 'Berpisah' 'Cerai' 'Belum Pernah Menikah' 'Menikah LDR' 'Janda']\n",
            "['Pemuka Agama' 'Mesin Inspeksi' 'Ekesekutif Managerial'\n",
            " 'Perbaikan Kerajinan' 'Spesialis' 'Sales' 'Penjaga' 'Supir' 'Pembersih'\n",
            " 'Petani' 'Servis Lainnya' 'Tech-support' '?' 'Asisten Rumah Tangga'\n",
            " 'Tentara']\n",
            "['Perempuan' 'Laki2']\n"
          ],
          "name": "stdout"
        }
      ]
    },
    {
      "cell_type": "code",
      "metadata": {
        "id": "bUN1mIkY-ctb"
      },
      "source": [
        "#encoding categorical data\n",
        "from sklearn.preprocessing import LabelEncoder\n",
        "from sklearn.preprocessing import StandardScaler\n",
        "\n",
        "non_numerikal_data_features = ['Kelas Pekerja','Pendidikan','Status Perkawinan','Pekerjaan','Jenis Kelamin']\n",
        "\n",
        "for data in non_numerikal_data_features:        \n",
        "    df_test[data] = LabelEncoder().fit_transform(df_test[data])"
      ],
      "execution_count": null,
      "outputs": []
    },
    {
      "cell_type": "code",
      "metadata": {
        "id": "llQ24QRO-ol1",
        "outputId": "f907c9a5-98fb-4eb2-8eaa-6da43dd389e0",
        "colab": {
          "base_uri": "https://localhost:8080/"
        }
      },
      "source": [
        "print(df_test['Kelas Pekerja'].unique())\n",
        "print(df_test['Pendidikan'].unique())\n",
        "print(df_test['Status Perkawinan'].unique())\n",
        "print(df_test['Pekerjaan'].unique())\n",
        "print(df_test['Jenis Kelamin'].unique())"
      ],
      "execution_count": null,
      "outputs": [
        {
          "output_type": "stream",
          "text": [
            "[5 8 1 3 2 4 0 6 7]\n",
            "[13 11  1 14  0 10  5  6  2  7  9  8 15  3  4 12]\n",
            "[4 1 2 0 5 3]\n",
            "[ 5  3  2  7 11  9  6 12  4  8 10 13  0  1 14]\n",
            "[1 0]\n"
          ],
          "name": "stdout"
        }
      ]
    },
    {
      "cell_type": "code",
      "metadata": {
        "id": "DQAJAa_H-sCw",
        "outputId": "f96de089-ee71-4dc4-bdc5-eba0dfef1f03",
        "colab": {
          "base_uri": "https://localhost:8080/",
          "height": 221
        }
      },
      "source": [
        "df_test.head()"
      ],
      "execution_count": null,
      "outputs": [
        {
          "output_type": "execute_result",
          "data": {
            "text/html": [
              "<div>\n",
              "<style scoped>\n",
              "    .dataframe tbody tr th:only-of-type {\n",
              "        vertical-align: middle;\n",
              "    }\n",
              "\n",
              "    .dataframe tbody tr th {\n",
              "        vertical-align: top;\n",
              "    }\n",
              "\n",
              "    .dataframe thead th {\n",
              "        text-align: right;\n",
              "    }\n",
              "</style>\n",
              "<table border=\"1\" class=\"dataframe\">\n",
              "  <thead>\n",
              "    <tr style=\"text-align: right;\">\n",
              "      <th></th>\n",
              "      <th>id</th>\n",
              "      <th>Umur</th>\n",
              "      <th>Kelas Pekerja</th>\n",
              "      <th>Berat Akhir</th>\n",
              "      <th>Pendidikan</th>\n",
              "      <th>Jmlh Tahun Pendidikan</th>\n",
              "      <th>Status Perkawinan</th>\n",
              "      <th>Pekerjaan</th>\n",
              "      <th>Jenis Kelamin</th>\n",
              "      <th>Keuntungan Kapital</th>\n",
              "      <th>Kerugian Capital</th>\n",
              "      <th>Jam per Minggu</th>\n",
              "    </tr>\n",
              "  </thead>\n",
              "  <tbody>\n",
              "    <tr>\n",
              "      <th>0</th>\n",
              "      <td>28794</td>\n",
              "      <td>31</td>\n",
              "      <td>5</td>\n",
              "      <td>207301</td>\n",
              "      <td>13</td>\n",
              "      <td>9</td>\n",
              "      <td>4</td>\n",
              "      <td>5</td>\n",
              "      <td>1</td>\n",
              "      <td>0.0</td>\n",
              "      <td>0.0</td>\n",
              "      <td>40.0</td>\n",
              "    </tr>\n",
              "    <tr>\n",
              "      <th>1</th>\n",
              "      <td>28795</td>\n",
              "      <td>34</td>\n",
              "      <td>8</td>\n",
              "      <td>324254</td>\n",
              "      <td>13</td>\n",
              "      <td>9</td>\n",
              "      <td>4</td>\n",
              "      <td>3</td>\n",
              "      <td>0</td>\n",
              "      <td>0.0</td>\n",
              "      <td>0.0</td>\n",
              "      <td>40.0</td>\n",
              "    </tr>\n",
              "    <tr>\n",
              "      <th>2</th>\n",
              "      <td>28796</td>\n",
              "      <td>58</td>\n",
              "      <td>8</td>\n",
              "      <td>27385</td>\n",
              "      <td>13</td>\n",
              "      <td>9</td>\n",
              "      <td>4</td>\n",
              "      <td>2</td>\n",
              "      <td>0</td>\n",
              "      <td>0.0</td>\n",
              "      <td>0.0</td>\n",
              "      <td>60.0</td>\n",
              "    </tr>\n",
              "    <tr>\n",
              "      <th>3</th>\n",
              "      <td>28797</td>\n",
              "      <td>49</td>\n",
              "      <td>8</td>\n",
              "      <td>723746</td>\n",
              "      <td>13</td>\n",
              "      <td>9</td>\n",
              "      <td>4</td>\n",
              "      <td>7</td>\n",
              "      <td>0</td>\n",
              "      <td>0.0</td>\n",
              "      <td>0.0</td>\n",
              "      <td>43.0</td>\n",
              "    </tr>\n",
              "    <tr>\n",
              "      <th>4</th>\n",
              "      <td>28798</td>\n",
              "      <td>60</td>\n",
              "      <td>8</td>\n",
              "      <td>194980</td>\n",
              "      <td>13</td>\n",
              "      <td>9</td>\n",
              "      <td>1</td>\n",
              "      <td>5</td>\n",
              "      <td>1</td>\n",
              "      <td>0.0</td>\n",
              "      <td>0.0</td>\n",
              "      <td>20.0</td>\n",
              "    </tr>\n",
              "  </tbody>\n",
              "</table>\n",
              "</div>"
            ],
            "text/plain": [
              "      id  Umur  ...  Kerugian Capital  Jam per Minggu\n",
              "0  28794    31  ...               0.0            40.0\n",
              "1  28795    34  ...               0.0            40.0\n",
              "2  28796    58  ...               0.0            60.0\n",
              "3  28797    49  ...               0.0            43.0\n",
              "4  28798    60  ...               0.0            20.0\n",
              "\n",
              "[5 rows x 12 columns]"
            ]
          },
          "metadata": {
            "tags": []
          },
          "execution_count": 168
        }
      ]
    },
    {
      "cell_type": "code",
      "metadata": {
        "id": "ytuhw4t9-yTA"
      },
      "source": [
        "X_test = StandardScaler().fit_transform(df_test)"
      ],
      "execution_count": null,
      "outputs": []
    },
    {
      "cell_type": "code",
      "metadata": {
        "id": "z1dAqGMiQ5V8"
      },
      "source": [
        "df_test_predict = rfc.predict(X_test)"
      ],
      "execution_count": null,
      "outputs": []
    },
    {
      "cell_type": "code",
      "metadata": {
        "id": "pX_mTSIg-0Fg"
      },
      "source": [
        "df_test['Gaji'] = df_test_predict"
      ],
      "execution_count": null,
      "outputs": []
    },
    {
      "cell_type": "code",
      "metadata": {
        "id": "nosL9a-4BgbJ",
        "outputId": "602877d2-ce93-42b5-e09c-c5b2a6d2919a",
        "colab": {
          "base_uri": "https://localhost:8080/"
        }
      },
      "source": [
        "df_test['Gaji']"
      ],
      "execution_count": null,
      "outputs": [
        {
          "output_type": "execute_result",
          "data": {
            "text/plain": [
              "0       0\n",
              "1       0\n",
              "2       0\n",
              "3       0\n",
              "4       0\n",
              "       ..\n",
              "9594    1\n",
              "9595    1\n",
              "9596    0\n",
              "9597    0\n",
              "9598    0\n",
              "Name: Gaji, Length: 9599, dtype: object"
            ]
          },
          "metadata": {
            "tags": []
          },
          "execution_count": 177
        }
      ]
    },
    {
      "cell_type": "code",
      "metadata": {
        "id": "NN-MF8UmNo1Z"
      },
      "source": [
        "result =pd.DataFrame({\n",
        "    'Id':df_test['id'],\n",
        "    'Gaji':df_test['Gaji']\n",
        "})"
      ],
      "execution_count": null,
      "outputs": []
    },
    {
      "cell_type": "code",
      "metadata": {
        "id": "JhQOJfpTNtoZ",
        "outputId": "37184cc2-bf43-40c8-ac22-7b8e6a83b3f5",
        "colab": {
          "base_uri": "https://localhost:8080/",
          "height": 204
        }
      },
      "source": [
        "result.tail()"
      ],
      "execution_count": null,
      "outputs": [
        {
          "output_type": "execute_result",
          "data": {
            "text/html": [
              "<div>\n",
              "<style scoped>\n",
              "    .dataframe tbody tr th:only-of-type {\n",
              "        vertical-align: middle;\n",
              "    }\n",
              "\n",
              "    .dataframe tbody tr th {\n",
              "        vertical-align: top;\n",
              "    }\n",
              "\n",
              "    .dataframe thead th {\n",
              "        text-align: right;\n",
              "    }\n",
              "</style>\n",
              "<table border=\"1\" class=\"dataframe\">\n",
              "  <thead>\n",
              "    <tr style=\"text-align: right;\">\n",
              "      <th></th>\n",
              "      <th>Id</th>\n",
              "      <th>Gaji</th>\n",
              "    </tr>\n",
              "  </thead>\n",
              "  <tbody>\n",
              "    <tr>\n",
              "      <th>9594</th>\n",
              "      <td>38388</td>\n",
              "      <td>1</td>\n",
              "    </tr>\n",
              "    <tr>\n",
              "      <th>9595</th>\n",
              "      <td>38389</td>\n",
              "      <td>1</td>\n",
              "    </tr>\n",
              "    <tr>\n",
              "      <th>9596</th>\n",
              "      <td>38390</td>\n",
              "      <td>0</td>\n",
              "    </tr>\n",
              "    <tr>\n",
              "      <th>9597</th>\n",
              "      <td>38391</td>\n",
              "      <td>0</td>\n",
              "    </tr>\n",
              "    <tr>\n",
              "      <th>9598</th>\n",
              "      <td>38392</td>\n",
              "      <td>0</td>\n",
              "    </tr>\n",
              "  </tbody>\n",
              "</table>\n",
              "</div>"
            ],
            "text/plain": [
              "         Id Gaji\n",
              "9594  38388    1\n",
              "9595  38389    1\n",
              "9596  38390    0\n",
              "9597  38391    0\n",
              "9598  38392    0"
            ]
          },
          "metadata": {
            "tags": []
          },
          "execution_count": 179
        }
      ]
    },
    {
      "cell_type": "code",
      "metadata": {
        "id": "8DYftZcwIwQ3"
      },
      "source": [
        "result.to_csv(\"submission_nabila.csv\", index=False)"
      ],
      "execution_count": null,
      "outputs": []
    }
  ]
}