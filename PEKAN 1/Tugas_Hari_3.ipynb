{
  "nbformat": 4,
  "nbformat_minor": 0,
  "metadata": {
    "kernelspec": {
      "display_name": "Python 3",
      "language": "python",
      "name": "python3"
    },
    "language_info": {
      "codemirror_mode": {
        "name": "ipython",
        "version": 3
      },
      "file_extension": ".py",
      "mimetype": "text/x-python",
      "name": "python",
      "nbconvert_exporter": "python",
      "pygments_lexer": "ipython3",
      "version": "3.7.7"
    },
    "colab": {
      "name": "Tugas Hari 3.ipynb",
      "provenance": [],
      "collapsed_sections": []
    }
  },
  "cells": [
    {
      "cell_type": "markdown",
      "metadata": {
        "id": "a9HYUdCUsrKl"
      },
      "source": [
        "<h2>Soal 1: Comparison Operator</h2>\n",
        "\n",
        "- Berikan contoh comparison dari tipe data string\n",
        "- Berikan contoh comparison dari tipe data boolean\n",
        "- Berikan contoh comparison dari tipe data integer"
      ]
    },
    {
      "cell_type": "code",
      "metadata": {
        "id": "lXMCHZ71srKp",
        "outputId": "2bf23b13-6350-4d99-c74e-6d0880f4ef3c",
        "colab": {
          "base_uri": "https://localhost:8080/",
          "height": 153
        }
      },
      "source": [
        "#Comparison tipe data String\n",
        "o= \"alan\"\n",
        "c= \"dita\"\n",
        "d = o < c\n",
        "print(\"1.\", d)\n",
        "\n",
        "buah = 'Jeruk'\n",
        "print(\"2.\", buah == 'Jeruk')\n",
        "print(\"3.\", buah!= 'Jeruk')\n",
        "\n",
        "print('='*100)\n",
        "\n",
        "#Comparison tipe data Boolean\n",
        "a = True\n",
        "b = False\n",
        "\n",
        "print(a == b)\n",
        "print(a != b)\n",
        "\n",
        "print('='*100)\n",
        "\n",
        "#Comparison tipe data integer\n",
        "k = 9\n",
        "p = 8\n",
        "\n",
        "m = k < p\n",
        "print(m)"
      ],
      "execution_count": null,
      "outputs": [
        {
          "output_type": "stream",
          "text": [
            "1. True\n",
            "2. True\n",
            "3. False\n",
            "====================================================================================================\n",
            "False\n",
            "True\n",
            "====================================================================================================\n",
            "False\n"
          ],
          "name": "stdout"
        }
      ]
    },
    {
      "cell_type": "markdown",
      "metadata": {
        "id": "IbNoZvVssrK5"
      },
      "source": [
        "<h2>Soal 2: Boolean Comparison</h2>\n",
        "\n",
        "- Berikan contoh gabungan multiple comparison menggunkan Boolean Comparisin 'and'\n",
        "- Berikan contoh gabungan multiple comparison menggunkan Boolean Comparisin 'or'\n",
        "- Berikan contoh gabungan multiple comparison menggunkan Boolean Comparisin 'not'"
      ]
    },
    {
      "cell_type": "code",
      "metadata": {
        "id": "ZzPRBUIgnofo",
        "outputId": "05f7cb5a-c365-4f47-ddec-3086100c5d9c",
        "colab": {
          "base_uri": "https://localhost:8080/",
          "height": 34
        }
      },
      "source": [
        "#gabungan multiple comparison menggunkan Boolean Comparisin 'and'\n",
        "x = 7\n",
        "if 0 < x and x < 10:\n",
        "    print(\"x adalah bilangan di range 0-10.\")"
      ],
      "execution_count": null,
      "outputs": [
        {
          "output_type": "stream",
          "text": [
            "x adalah bilangan di range 0-10.\n"
          ],
          "name": "stdout"
        }
      ]
    },
    {
      "cell_type": "code",
      "metadata": {
        "id": "arrYyWpRn3CQ",
        "outputId": "0c6117ec-046b-40f2-8974-8b99fb4d29fc",
        "colab": {
          "base_uri": "https://localhost:8080/",
          "height": 34
        }
      },
      "source": [
        "#gabungan multiple comparison menggunkan Boolean Comparisin 'or'\n",
        "x = 7\n",
        "if 0 < x or x < 10:\n",
        "    print(\"x adalah bilangan di range 0-10.\")"
      ],
      "execution_count": null,
      "outputs": [
        {
          "output_type": "stream",
          "text": [
            "x adalah bilangan di range 0-10.\n"
          ],
          "name": "stdout"
        }
      ]
    },
    {
      "cell_type": "code",
      "metadata": {
        "id": "wtU4__HboUB6",
        "outputId": "6f1e1a06-a3cb-4485-c303-b84efc0279c7",
        "colab": {
          "base_uri": "https://localhost:8080/",
          "height": 34
        }
      },
      "source": [
        "#gabungan multiple comparison menggunkan Boolean Comparisin 'not'\n",
        "daya_pedang = 1.00\n",
        "perisai_pelindung = 200\n",
        "\n",
        "if not ((daya_pedang >= 0.90) and (perisai_pelindung >= 100)):\n",
        "    print(\"Serangan mu tidak mempan, sang naga membakar diri mu menjadi ayam krispi!\")\n",
        "else:\n",
        "    print(\"Sang naga sudah terkapar dan kejang-kejang. Kamu berhasil menyelamatkan sang pangeran cantik! eh\")"
      ],
      "execution_count": null,
      "outputs": [
        {
          "output_type": "stream",
          "text": [
            "Sang naga sudah terkapar dan kejang-kejang. Kamu berhasil menyelamatkan sang pangeran cantik! eh\n"
          ],
          "name": "stdout"
        }
      ]
    },
    {
      "cell_type": "code",
      "metadata": {
        "id": "7eU1vPLCsrK7",
        "outputId": "e45ff691-2c04-4c33-f6da-3b779681bdba",
        "colab": {
          "base_uri": "https://localhost:8080/",
          "height": 34
        }
      },
      "source": [
        "\n",
        "#gabungan multiple comparison menggunkan Boolean Comparisin 'and'\n",
        "x = 17\n",
        "x > 5 and x < 20"
      ],
      "execution_count": null,
      "outputs": [
        {
          "output_type": "execute_result",
          "data": {
            "text/plain": [
              "True"
            ]
          },
          "metadata": {
            "tags": []
          },
          "execution_count": 57
        }
      ]
    },
    {
      "cell_type": "code",
      "metadata": {
        "id": "KbhXGZPXo8U4",
        "outputId": "007990a3-9774-4e88-d099-d72385900e04",
        "colab": {
          "base_uri": "https://localhost:8080/",
          "height": 34
        }
      },
      "source": [
        "#gabungan multiple comparison menggunkan Boolean Comparisin 'or'\n",
        "m = 17\n",
        "m < 17 or m > 17"
      ],
      "execution_count": null,
      "outputs": [
        {
          "output_type": "execute_result",
          "data": {
            "text/plain": [
              "False"
            ]
          },
          "metadata": {
            "tags": []
          },
          "execution_count": 55
        }
      ]
    },
    {
      "cell_type": "markdown",
      "metadata": {
        "id": "Yp_g_sPMsrLH"
      },
      "source": [
        "<h2>Soal 3: If-Else Statement</h2>\n",
        "\n",
        "Lengkapi kode untuk menghasilkan suatu output yang di harapkan\n",
        "\n",
        "- Bualah sebuah if-else statement yang dimana akan mem-print 'Besar' jika ruangan adalah 'Kamar' dan ukuran lebih dari 12, kemudian mem-print 'Sedang' jika ruangan adalah 'Kamar' dan ukuran lebih dari 6 dan memprint 'Kecil' jika ruangan adalah 'Kamar' dan ukuran ruangan lebih kecil dan sama dengan 6."
      ]
    },
    {
      "cell_type": "code",
      "metadata": {
        "id": "euRiRNupsrLK",
        "outputId": "7447528a-7cfc-4768-a061-d624a2dbb881",
        "colab": {
          "base_uri": "https://localhost:8080/",
          "height": 34
        }
      },
      "source": [
        "ruangan = 'Kamar'\n",
        "size = 4\n",
        "\n",
        "if ruangan == 'Kamar' and size > 12:\n",
        "  print(\"Besar\")\n",
        "elif ruangan == 'Kamar' and 6 <= size <= 12:\n",
        "  print(\"Sedang\")\n",
        "elif ruangan == 'Kamar' and size < 6:\n",
        "  print(\"Kecil\")\n",
        "else:\n",
        "  print(\"Mohon diperiksa kembali\")"
      ],
      "execution_count": null,
      "outputs": [
        {
          "output_type": "stream",
          "text": [
            "Kecil\n"
          ],
          "name": "stdout"
        }
      ]
    },
    {
      "cell_type": "markdown",
      "metadata": {
        "id": "IcoJXJT1srLW"
      },
      "source": [
        "<h2>Soal 4: Comparison Operator dengan fungsi</h2>\n",
        "\n",
        "Buatlah sebuah fungsi yang menerima satu argument bertipe data numeric dan menghasilkan sebuah return sebagai berikut :\n",
        "- menghasilkan return 'Aneh' jika nilai dari argument tersebut adalah bilangan ganjil\n",
        "- menghasilkan return 'Tidak Aneh' jika nilai dari argument tersebut adalah bilangan genap dan diantara nilai 2 sampai 5 (2 dan 5 termasuk)\n",
        "- menghasilkan return 'Aneh' jika nilai dari argument tersebut adalah bilangan genap dan diantara nilai 6 sampai 20 (6 dan 20 termasuk)\n",
        "- menghasilkan return 'Tidak Aneh' jika nilai dari argument tersebut adalah bilangan genap dan lebih besari dari 20"
      ]
    },
    {
      "cell_type": "code",
      "metadata": {
        "id": "g8F_qfEKsrLZ",
        "outputId": "c117ea42-5be6-44d6-94c0-e2fc3dd4598b",
        "colab": {
          "base_uri": "https://localhost:8080/",
          "height": 34
        }
      },
      "source": [
        "# Buat fungsi\n",
        "def argumen(x):\n",
        "    if x % 2:\n",
        "      return(x, \"Aneh\")\n",
        "    elif x % 2 == 0 and 2 <= x <= 5:\n",
        "      return(x, \"Tidak Aneh\")\n",
        "    elif x % 2 == 0 and 6 <= x <= 20:\n",
        "      return (x, \"Aneh\")\n",
        "    elif x % 2 and x > 20:\n",
        "      return (x, \"Aneh\")\n",
        "\n",
        "argumen(21)"
      ],
      "execution_count": null,
      "outputs": [
        {
          "output_type": "execute_result",
          "data": {
            "text/plain": [
              "(21, 'Aneh')"
            ]
          },
          "metadata": {
            "tags": []
          },
          "execution_count": 40
        }
      ]
    },
    {
      "cell_type": "markdown",
      "metadata": {
        "id": "gf0D64xOsrLl"
      },
      "source": [
        "<h2>Soal 5: While Loop dan For Loop</h2>\n",
        "\n",
        "- Apa perbedaan while loop dan for loop?\n",
        "- Berikan contoh sederhana cara menggunakan while loop dan for loop"
      ]
    },
    {
      "cell_type": "markdown",
      "metadata": {
        "id": "VvNbg--nyqGb"
      },
      "source": [
        "**Jawaban**\n",
        "\n",
        "While loop = terus menerus melakukan perulangan selama statement masih bernilai TRUE\n",
        "\n",
        "For Loop = perulangan berdasarkan jumlah elemen"
      ]
    },
    {
      "cell_type": "code",
      "metadata": {
        "id": "l7KIgpjHsrLo",
        "outputId": "442a84f1-caff-4aa9-d65f-9aab133cfebb",
        "colab": {
          "base_uri": "https://localhost:8080/",
          "height": 289
        }
      },
      "source": [
        "# Tulis Kode While Loop\n",
        "i = 0\n",
        "while i < 11:\n",
        "    print(i)\n",
        "    i += 1\n",
        "\n",
        "print('='*100)\n",
        "\n",
        "#Tulis kode For loop\n",
        "Planets = ['Merkurius', 'Venus', 'Mars', 'Bumi']\n",
        "\n",
        "for i in Planets:\n",
        "  print(\"Nama Planet\",i)\n"
      ],
      "execution_count": null,
      "outputs": [
        {
          "output_type": "stream",
          "text": [
            "0\n",
            "1\n",
            "2\n",
            "3\n",
            "4\n",
            "5\n",
            "6\n",
            "7\n",
            "8\n",
            "9\n",
            "10\n",
            "====================================================================================================\n",
            "Nama Planet Merkurius\n",
            "Nama Planet Venus\n",
            "Nama Planet Mars\n",
            "Nama Planet Bumi\n"
          ],
          "name": "stdout"
        }
      ]
    },
    {
      "cell_type": "markdown",
      "metadata": {
        "id": "fZQpBGCgsrLz"
      },
      "source": [
        "\n",
        "<h2>Soal 6: While Loop</h2>\n",
        "    \n",
        "Buatlah sebuah code while loop sebagai berikut :\n",
        "- Buatlah suatu fungsi yang merima satu input nilai numeric\n",
        "- Dalam fungsi, Buat sebuah while-loop dengan melakukan comparasi terhadap inputan tersebut, dimana looping/iterasi terus berjalan apabila nilai inputan tidak sama dengan 0\n",
        "- Dalam setiap iterasi update nilai variable inputan itu, jika input lebih dari 0, maka kurangi variabel tersebut sebesar 1, selain itu tambahkan 1\n",
        "- print nilai variable input dalam setiap awal iterasi"
      ]
    },
    {
      "cell_type": "code",
      "metadata": {
        "id": "YpBOmY6Erq8W",
        "outputId": "ec8d8273-1880-4f24-cd1f-0f10c280d0b1",
        "colab": {
          "base_uri": "https://localhost:8080/",
          "height": 187
        }
      },
      "source": [
        "def fungsi_while(a):\n",
        "  while a != 0:\n",
        "    print(a)\n",
        "    a -= 1\n",
        "\n",
        "fungsi_while(10)"
      ],
      "execution_count": null,
      "outputs": [
        {
          "output_type": "stream",
          "text": [
            "10\n",
            "9\n",
            "8\n",
            "7\n",
            "6\n",
            "5\n",
            "4\n",
            "3\n",
            "2\n",
            "1\n"
          ],
          "name": "stdout"
        }
      ]
    },
    {
      "cell_type": "markdown",
      "metadata": {
        "id": "lKzngRrlsrMD"
      },
      "source": [
        "Expected Output:\n",
        "\n",
        "10\n",
        "\n",
        "9\n",
        "\n",
        "8\n",
        "\n",
        "7\n",
        "\n",
        "6\n",
        "\n",
        "5\n",
        "\n",
        "4\n",
        "\n",
        "3\n",
        "\n",
        "2\n",
        "\n",
        "1"
      ]
    },
    {
      "cell_type": "markdown",
      "metadata": {
        "id": "IWg3Z_zZsrMG"
      },
      "source": [
        "<h2>Soal 7: For Loop</h2>\n",
        "    \n",
        "Lengkapi kode untuk menghasilkan suatu output yang di harapkan:\n",
        "\n",
        "- Buatlah sebuah loop dengan mengiterasi sebuah objek list kemudian di kalikan dengan index dari list tersebut dan print hasilnya"
      ]
    },
    {
      "cell_type": "code",
      "metadata": {
        "id": "_Jl5i7WKsrMI",
        "outputId": "b05a8614-00b7-4ec7-9245-1e1e5a0311c7",
        "colab": {
          "base_uri": "https://localhost:8080/",
          "height": 102
        }
      },
      "source": [
        "obj_list= [1, 16, 11, 10, 5]\n",
        "\n",
        "# lengkapi code di bawah\n",
        "for index, obj in enumerate(obj_list) :\n",
        "  print(index * obj)\n"
      ],
      "execution_count": null,
      "outputs": [
        {
          "output_type": "stream",
          "text": [
            "0\n",
            "16\n",
            "22\n",
            "30\n",
            "20\n"
          ],
          "name": "stdout"
        }
      ]
    },
    {
      "cell_type": "markdown",
      "metadata": {
        "id": "OGawROjnsrMU"
      },
      "source": [
        "Expected Output:\n",
        "\n",
        "0\n",
        "\n",
        "16\n",
        "\n",
        "22\n",
        "\n",
        "30\n",
        "\n",
        "20\n"
      ]
    }
  ]
}
