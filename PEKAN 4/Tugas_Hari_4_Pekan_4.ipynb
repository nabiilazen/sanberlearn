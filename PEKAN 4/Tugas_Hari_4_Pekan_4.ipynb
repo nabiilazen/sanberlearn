{
  "nbformat": 4,
  "nbformat_minor": 0,
  "metadata": {
    "kernelspec": {
      "display_name": "Python 3",
      "language": "python",
      "name": "python3"
    },
    "language_info": {
      "codemirror_mode": {
        "name": "ipython",
        "version": 3
      },
      "file_extension": ".py",
      "mimetype": "text/x-python",
      "name": "python",
      "nbconvert_exporter": "python",
      "pygments_lexer": "ipython3",
      "version": "3.7.6"
    },
    "colab": {
      "name": "Tugas Hari 4 Pekan 4.ipynb",
      "provenance": [],
      "collapsed_sections": []
    }
  },
  "cells": [
    {
      "cell_type": "markdown",
      "metadata": {
        "id": "gAq0hQxAe5cj"
      },
      "source": [
        "<h1>Soal 1: Pemahaman</h1>\n",
        "\n",
        "1. Sebutkan apa saja yang termasuk preprocessing data!\n",
        "2. Jelaskan beberapa cara imputing missing value!\n",
        "3. Kapan kita perlu melakukan feature centering dan scaling?\n",
        "4. Bagaimana Data Science Workflow?"
      ]
    },
    {
      "cell_type": "markdown",
      "metadata": {
        "id": "AdcIRws7fTYz"
      },
      "source": [
        "Jawab:\n",
        "\n",
        "1. Feature engineering (mengubah/memanipluasi data yg tadinya gabisa diproses jd bisa diproses oleh library sklearn) yg terdiri atas Encooding caterogical data (utk mengubah tipe data kategori menjd numerik), inputing missing value, centering dan scaling.\n",
        "\n",
        "2. \n",
        "*   Drop missing value\n",
        "*   fill with mean/median\n",
        "*   fill with modus\n",
        "*   fill with bfill atau ffill\n",
        "*   KNN\n",
        "\n",
        "3. ketika ada pertemuan jarak antar data point sehingga harus dirubah distribusinya\n",
        "\n",
        "4.   resource data -> processing -> modelling -> deploy -> monitor"
      ]
    },
    {
      "cell_type": "markdown",
      "metadata": {
        "id": "1xvOfBNog9Ma"
      },
      "source": [
        "---"
      ]
    },
    {
      "cell_type": "markdown",
      "metadata": {
        "id": "xFmBmZcle5dk"
      },
      "source": [
        "<h1>Soal 2: Pengaplikasian</h1>\n",
        "\n",
        "Selamat, sampai tahap ini kalian telah belajar banyak tentang data science, dari mulai python, data manipulasi, visualisasi, dan pembuatan model. Sekarang saatnya untuk mengaplikasikan semuanya.\n",
        "\n",
        "Download dan gunakan data [titanic.csv](https://drive.google.com/uc?export=download&id=15-XQkmqj2UlFQH7rASJH1oxWST6o9mbm) sebagai data untuk pembuatan model ML. Pahami betul data ini dengan melakukan EDA (Explolatory Data Analaysis), Visualisasi, Data Analysis, Preprocessing Data, dan Modeling.\n",
        "\n",
        "<b>(Optional)</b> Download dan gunakan data [titanic_test.csv](https://drive.google.com/uc?export=download&id=15-XQkmqj2UlFQH7rASJH1oxWST6o9mbm) untuk mengetest model kalian dengan melakukan prediksi terhadap data tersebut. Submit hasil prediksinya ke kaggle dan lihat scorenya. https://www.kaggle.com/c/titanic/submit\n",
        "\n",
        "![alt text](https://drive.google.com/uc?id=1SyflO2YeuCdYhxwPF6CAtMeaNN1qTaFx)"
      ]
    },
    {
      "cell_type": "code",
      "metadata": {
        "id": "NIR8VbbJe5d6",
        "outputId": "816a24ec-5ad9-406b-ab54-e1fb6a5d8d41",
        "colab": {
          "base_uri": "https://localhost:8080/",
          "height": 34
        }
      },
      "source": [
        "# Code here\n",
        "from google.colab import drive\n",
        "drive.mount('/content/drive')"
      ],
      "execution_count": null,
      "outputs": [
        {
          "output_type": "stream",
          "text": [
            "Drive already mounted at /content/drive; to attempt to forcibly remount, call drive.mount(\"/content/drive\", force_remount=True).\n"
          ],
          "name": "stdout"
        }
      ]
    },
    {
      "cell_type": "code",
      "metadata": {
        "id": "4ftL8GECekLP",
        "outputId": "4a58184d-aa08-4be3-d255-3dfa7f2315c2",
        "colab": {
          "base_uri": "https://localhost:8080/",
          "height": 204
        }
      },
      "source": [
        "import pandas as pd\n",
        "import numpy as np\n",
        "\n",
        "df = pd.read_csv('/content/drive/My Drive/PEKAN 4/titanic.csv')\n",
        "df.head()"
      ],
      "execution_count": null,
      "outputs": [
        {
          "output_type": "execute_result",
          "data": {
            "text/html": [
              "<div>\n",
              "<style scoped>\n",
              "    .dataframe tbody tr th:only-of-type {\n",
              "        vertical-align: middle;\n",
              "    }\n",
              "\n",
              "    .dataframe tbody tr th {\n",
              "        vertical-align: top;\n",
              "    }\n",
              "\n",
              "    .dataframe thead th {\n",
              "        text-align: right;\n",
              "    }\n",
              "</style>\n",
              "<table border=\"1\" class=\"dataframe\">\n",
              "  <thead>\n",
              "    <tr style=\"text-align: right;\">\n",
              "      <th></th>\n",
              "      <th>PassengerId</th>\n",
              "      <th>Survived</th>\n",
              "      <th>Pclass</th>\n",
              "      <th>Name</th>\n",
              "      <th>Sex</th>\n",
              "      <th>Age</th>\n",
              "      <th>SibSp</th>\n",
              "      <th>Parch</th>\n",
              "      <th>Ticket</th>\n",
              "      <th>Fare</th>\n",
              "      <th>Cabin</th>\n",
              "      <th>Embarked</th>\n",
              "    </tr>\n",
              "  </thead>\n",
              "  <tbody>\n",
              "    <tr>\n",
              "      <th>0</th>\n",
              "      <td>1</td>\n",
              "      <td>0</td>\n",
              "      <td>3</td>\n",
              "      <td>Braund, Mr. Owen Harris</td>\n",
              "      <td>male</td>\n",
              "      <td>22.0</td>\n",
              "      <td>1</td>\n",
              "      <td>0</td>\n",
              "      <td>A/5 21171</td>\n",
              "      <td>7.2500</td>\n",
              "      <td>NaN</td>\n",
              "      <td>S</td>\n",
              "    </tr>\n",
              "    <tr>\n",
              "      <th>1</th>\n",
              "      <td>2</td>\n",
              "      <td>1</td>\n",
              "      <td>1</td>\n",
              "      <td>Cumings, Mrs. John Bradley (Florence Briggs Th...</td>\n",
              "      <td>female</td>\n",
              "      <td>38.0</td>\n",
              "      <td>1</td>\n",
              "      <td>0</td>\n",
              "      <td>PC 17599</td>\n",
              "      <td>71.2833</td>\n",
              "      <td>C85</td>\n",
              "      <td>C</td>\n",
              "    </tr>\n",
              "    <tr>\n",
              "      <th>2</th>\n",
              "      <td>3</td>\n",
              "      <td>1</td>\n",
              "      <td>3</td>\n",
              "      <td>Heikkinen, Miss. Laina</td>\n",
              "      <td>female</td>\n",
              "      <td>26.0</td>\n",
              "      <td>0</td>\n",
              "      <td>0</td>\n",
              "      <td>STON/O2. 3101282</td>\n",
              "      <td>7.9250</td>\n",
              "      <td>NaN</td>\n",
              "      <td>S</td>\n",
              "    </tr>\n",
              "    <tr>\n",
              "      <th>3</th>\n",
              "      <td>4</td>\n",
              "      <td>1</td>\n",
              "      <td>1</td>\n",
              "      <td>Futrelle, Mrs. Jacques Heath (Lily May Peel)</td>\n",
              "      <td>female</td>\n",
              "      <td>35.0</td>\n",
              "      <td>1</td>\n",
              "      <td>0</td>\n",
              "      <td>113803</td>\n",
              "      <td>53.1000</td>\n",
              "      <td>C123</td>\n",
              "      <td>S</td>\n",
              "    </tr>\n",
              "    <tr>\n",
              "      <th>4</th>\n",
              "      <td>5</td>\n",
              "      <td>0</td>\n",
              "      <td>3</td>\n",
              "      <td>Allen, Mr. William Henry</td>\n",
              "      <td>male</td>\n",
              "      <td>35.0</td>\n",
              "      <td>0</td>\n",
              "      <td>0</td>\n",
              "      <td>373450</td>\n",
              "      <td>8.0500</td>\n",
              "      <td>NaN</td>\n",
              "      <td>S</td>\n",
              "    </tr>\n",
              "  </tbody>\n",
              "</table>\n",
              "</div>"
            ],
            "text/plain": [
              "   PassengerId  Survived  Pclass  ...     Fare Cabin  Embarked\n",
              "0            1         0       3  ...   7.2500   NaN         S\n",
              "1            2         1       1  ...  71.2833   C85         C\n",
              "2            3         1       3  ...   7.9250   NaN         S\n",
              "3            4         1       1  ...  53.1000  C123         S\n",
              "4            5         0       3  ...   8.0500   NaN         S\n",
              "\n",
              "[5 rows x 12 columns]"
            ]
          },
          "metadata": {
            "tags": []
          },
          "execution_count": 144
        }
      ]
    },
    {
      "cell_type": "code",
      "metadata": {
        "id": "Wvgf6DPmvV4b",
        "outputId": "a2470183-81d6-4da4-bf52-744d56a7a5b4",
        "colab": {
          "base_uri": "https://localhost:8080/",
          "height": 142
        }
      },
      "source": [
        "df.groupby('Sex')[['Survived']].mean()"
      ],
      "execution_count": null,
      "outputs": [
        {
          "output_type": "execute_result",
          "data": {
            "text/html": [
              "<div>\n",
              "<style scoped>\n",
              "    .dataframe tbody tr th:only-of-type {\n",
              "        vertical-align: middle;\n",
              "    }\n",
              "\n",
              "    .dataframe tbody tr th {\n",
              "        vertical-align: top;\n",
              "    }\n",
              "\n",
              "    .dataframe thead th {\n",
              "        text-align: right;\n",
              "    }\n",
              "</style>\n",
              "<table border=\"1\" class=\"dataframe\">\n",
              "  <thead>\n",
              "    <tr style=\"text-align: right;\">\n",
              "      <th></th>\n",
              "      <th>Survived</th>\n",
              "    </tr>\n",
              "    <tr>\n",
              "      <th>Sex</th>\n",
              "      <th></th>\n",
              "    </tr>\n",
              "  </thead>\n",
              "  <tbody>\n",
              "    <tr>\n",
              "      <th>female</th>\n",
              "      <td>0.742038</td>\n",
              "    </tr>\n",
              "    <tr>\n",
              "      <th>male</th>\n",
              "      <td>0.188908</td>\n",
              "    </tr>\n",
              "  </tbody>\n",
              "</table>\n",
              "</div>"
            ],
            "text/plain": [
              "        Survived\n",
              "Sex             \n",
              "female  0.742038\n",
              "male    0.188908"
            ]
          },
          "metadata": {
            "tags": []
          },
          "execution_count": 145
        }
      ]
    },
    {
      "cell_type": "code",
      "metadata": {
        "id": "L4blN_oYvl4R",
        "outputId": "f6ba4c35-f998-4bf4-dbed-4653e6a3f506",
        "colab": {
          "base_uri": "https://localhost:8080/",
          "height": 142
        }
      },
      "source": [
        "#melihat survival rate by sex n class\n",
        "df.pivot_table('Survived', index='Sex', columns='Pclass')"
      ],
      "execution_count": null,
      "outputs": [
        {
          "output_type": "execute_result",
          "data": {
            "text/html": [
              "<div>\n",
              "<style scoped>\n",
              "    .dataframe tbody tr th:only-of-type {\n",
              "        vertical-align: middle;\n",
              "    }\n",
              "\n",
              "    .dataframe tbody tr th {\n",
              "        vertical-align: top;\n",
              "    }\n",
              "\n",
              "    .dataframe thead th {\n",
              "        text-align: right;\n",
              "    }\n",
              "</style>\n",
              "<table border=\"1\" class=\"dataframe\">\n",
              "  <thead>\n",
              "    <tr style=\"text-align: right;\">\n",
              "      <th>Pclass</th>\n",
              "      <th>1</th>\n",
              "      <th>2</th>\n",
              "      <th>3</th>\n",
              "    </tr>\n",
              "    <tr>\n",
              "      <th>Sex</th>\n",
              "      <th></th>\n",
              "      <th></th>\n",
              "      <th></th>\n",
              "    </tr>\n",
              "  </thead>\n",
              "  <tbody>\n",
              "    <tr>\n",
              "      <th>female</th>\n",
              "      <td>0.968085</td>\n",
              "      <td>0.921053</td>\n",
              "      <td>0.500000</td>\n",
              "    </tr>\n",
              "    <tr>\n",
              "      <th>male</th>\n",
              "      <td>0.368852</td>\n",
              "      <td>0.157407</td>\n",
              "      <td>0.135447</td>\n",
              "    </tr>\n",
              "  </tbody>\n",
              "</table>\n",
              "</div>"
            ],
            "text/plain": [
              "Pclass         1         2         3\n",
              "Sex                                 \n",
              "female  0.968085  0.921053  0.500000\n",
              "male    0.368852  0.157407  0.135447"
            ]
          },
          "metadata": {
            "tags": []
          },
          "execution_count": 146
        }
      ]
    },
    {
      "cell_type": "code",
      "metadata": {
        "id": "OJ99BcMAxPVS",
        "outputId": "b3938c1e-1299-45a6-b451-0a09c5906c08",
        "colab": {
          "base_uri": "https://localhost:8080/",
          "height": 238
        }
      },
      "source": [
        "#cek total missing value dari setiap kolom\n",
        "df.isna().sum()"
      ],
      "execution_count": null,
      "outputs": [
        {
          "output_type": "execute_result",
          "data": {
            "text/plain": [
              "PassengerId      0\n",
              "Survived         0\n",
              "Pclass           0\n",
              "Name             0\n",
              "Sex              0\n",
              "Age            177\n",
              "SibSp            0\n",
              "Parch            0\n",
              "Ticket           0\n",
              "Fare             0\n",
              "Cabin          687\n",
              "Embarked         2\n",
              "dtype: int64"
            ]
          },
          "metadata": {
            "tags": []
          },
          "execution_count": 147
        }
      ]
    },
    {
      "cell_type": "code",
      "metadata": {
        "id": "6x-KzdjVx0Zf",
        "outputId": "f82b7cea-e5a1-4da0-ff08-72586320128a",
        "colab": {
          "base_uri": "https://localhost:8080/",
          "height": 68
        }
      },
      "source": [
        "df['Survived'].value_counts()"
      ],
      "execution_count": null,
      "outputs": [
        {
          "output_type": "execute_result",
          "data": {
            "text/plain": [
              "0    549\n",
              "1    342\n",
              "Name: Survived, dtype: int64"
            ]
          },
          "metadata": {
            "tags": []
          },
          "execution_count": 148
        }
      ]
    },
    {
      "cell_type": "code",
      "metadata": {
        "id": "RaeAMy_i4oFP",
        "outputId": "66f58657-d090-4e65-d01a-510f878aeab6",
        "colab": {
          "base_uri": "https://localhost:8080/",
          "height": 238
        }
      },
      "source": [
        "#melihat tipe data\n",
        "df.dtypes"
      ],
      "execution_count": null,
      "outputs": [
        {
          "output_type": "execute_result",
          "data": {
            "text/plain": [
              "PassengerId      int64\n",
              "Survived         int64\n",
              "Pclass           int64\n",
              "Name            object\n",
              "Sex             object\n",
              "Age            float64\n",
              "SibSp            int64\n",
              "Parch            int64\n",
              "Ticket          object\n",
              "Fare           float64\n",
              "Cabin           object\n",
              "Embarked        object\n",
              "dtype: object"
            ]
          },
          "metadata": {
            "tags": []
          },
          "execution_count": 149
        }
      ]
    },
    {
      "cell_type": "code",
      "metadata": {
        "id": "zIJeq6obkY4D",
        "outputId": "341490e5-e49a-4a3c-a198-292f22e82bb7",
        "colab": {
          "base_uri": "https://localhost:8080/",
          "height": 419
        }
      },
      "source": [
        "# Menghapus kolom Passenger ID, Name, Ticket, and Cabin \n",
        "df = df.drop(['PassengerId', 'Name', 'Ticket', 'Cabin'], axis=1)\n",
        "df"
      ],
      "execution_count": null,
      "outputs": [
        {
          "output_type": "execute_result",
          "data": {
            "text/html": [
              "<div>\n",
              "<style scoped>\n",
              "    .dataframe tbody tr th:only-of-type {\n",
              "        vertical-align: middle;\n",
              "    }\n",
              "\n",
              "    .dataframe tbody tr th {\n",
              "        vertical-align: top;\n",
              "    }\n",
              "\n",
              "    .dataframe thead th {\n",
              "        text-align: right;\n",
              "    }\n",
              "</style>\n",
              "<table border=\"1\" class=\"dataframe\">\n",
              "  <thead>\n",
              "    <tr style=\"text-align: right;\">\n",
              "      <th></th>\n",
              "      <th>Survived</th>\n",
              "      <th>Pclass</th>\n",
              "      <th>Sex</th>\n",
              "      <th>Age</th>\n",
              "      <th>SibSp</th>\n",
              "      <th>Parch</th>\n",
              "      <th>Fare</th>\n",
              "      <th>Embarked</th>\n",
              "    </tr>\n",
              "  </thead>\n",
              "  <tbody>\n",
              "    <tr>\n",
              "      <th>0</th>\n",
              "      <td>0</td>\n",
              "      <td>3</td>\n",
              "      <td>male</td>\n",
              "      <td>22.0</td>\n",
              "      <td>1</td>\n",
              "      <td>0</td>\n",
              "      <td>7.2500</td>\n",
              "      <td>S</td>\n",
              "    </tr>\n",
              "    <tr>\n",
              "      <th>1</th>\n",
              "      <td>1</td>\n",
              "      <td>1</td>\n",
              "      <td>female</td>\n",
              "      <td>38.0</td>\n",
              "      <td>1</td>\n",
              "      <td>0</td>\n",
              "      <td>71.2833</td>\n",
              "      <td>C</td>\n",
              "    </tr>\n",
              "    <tr>\n",
              "      <th>2</th>\n",
              "      <td>1</td>\n",
              "      <td>3</td>\n",
              "      <td>female</td>\n",
              "      <td>26.0</td>\n",
              "      <td>0</td>\n",
              "      <td>0</td>\n",
              "      <td>7.9250</td>\n",
              "      <td>S</td>\n",
              "    </tr>\n",
              "    <tr>\n",
              "      <th>3</th>\n",
              "      <td>1</td>\n",
              "      <td>1</td>\n",
              "      <td>female</td>\n",
              "      <td>35.0</td>\n",
              "      <td>1</td>\n",
              "      <td>0</td>\n",
              "      <td>53.1000</td>\n",
              "      <td>S</td>\n",
              "    </tr>\n",
              "    <tr>\n",
              "      <th>4</th>\n",
              "      <td>0</td>\n",
              "      <td>3</td>\n",
              "      <td>male</td>\n",
              "      <td>35.0</td>\n",
              "      <td>0</td>\n",
              "      <td>0</td>\n",
              "      <td>8.0500</td>\n",
              "      <td>S</td>\n",
              "    </tr>\n",
              "    <tr>\n",
              "      <th>...</th>\n",
              "      <td>...</td>\n",
              "      <td>...</td>\n",
              "      <td>...</td>\n",
              "      <td>...</td>\n",
              "      <td>...</td>\n",
              "      <td>...</td>\n",
              "      <td>...</td>\n",
              "      <td>...</td>\n",
              "    </tr>\n",
              "    <tr>\n",
              "      <th>886</th>\n",
              "      <td>0</td>\n",
              "      <td>2</td>\n",
              "      <td>male</td>\n",
              "      <td>27.0</td>\n",
              "      <td>0</td>\n",
              "      <td>0</td>\n",
              "      <td>13.0000</td>\n",
              "      <td>S</td>\n",
              "    </tr>\n",
              "    <tr>\n",
              "      <th>887</th>\n",
              "      <td>1</td>\n",
              "      <td>1</td>\n",
              "      <td>female</td>\n",
              "      <td>19.0</td>\n",
              "      <td>0</td>\n",
              "      <td>0</td>\n",
              "      <td>30.0000</td>\n",
              "      <td>S</td>\n",
              "    </tr>\n",
              "    <tr>\n",
              "      <th>888</th>\n",
              "      <td>0</td>\n",
              "      <td>3</td>\n",
              "      <td>female</td>\n",
              "      <td>NaN</td>\n",
              "      <td>1</td>\n",
              "      <td>2</td>\n",
              "      <td>23.4500</td>\n",
              "      <td>S</td>\n",
              "    </tr>\n",
              "    <tr>\n",
              "      <th>889</th>\n",
              "      <td>1</td>\n",
              "      <td>1</td>\n",
              "      <td>male</td>\n",
              "      <td>26.0</td>\n",
              "      <td>0</td>\n",
              "      <td>0</td>\n",
              "      <td>30.0000</td>\n",
              "      <td>C</td>\n",
              "    </tr>\n",
              "    <tr>\n",
              "      <th>890</th>\n",
              "      <td>0</td>\n",
              "      <td>3</td>\n",
              "      <td>male</td>\n",
              "      <td>32.0</td>\n",
              "      <td>0</td>\n",
              "      <td>0</td>\n",
              "      <td>7.7500</td>\n",
              "      <td>Q</td>\n",
              "    </tr>\n",
              "  </tbody>\n",
              "</table>\n",
              "<p>891 rows × 8 columns</p>\n",
              "</div>"
            ],
            "text/plain": [
              "     Survived  Pclass     Sex   Age  SibSp  Parch     Fare Embarked\n",
              "0           0       3    male  22.0      1      0   7.2500        S\n",
              "1           1       1  female  38.0      1      0  71.2833        C\n",
              "2           1       3  female  26.0      0      0   7.9250        S\n",
              "3           1       1  female  35.0      1      0  53.1000        S\n",
              "4           0       3    male  35.0      0      0   8.0500        S\n",
              "..        ...     ...     ...   ...    ...    ...      ...      ...\n",
              "886         0       2    male  27.0      0      0  13.0000        S\n",
              "887         1       1  female  19.0      0      0  30.0000        S\n",
              "888         0       3  female   NaN      1      2  23.4500        S\n",
              "889         1       1    male  26.0      0      0  30.0000        C\n",
              "890         0       3    male  32.0      0      0   7.7500        Q\n",
              "\n",
              "[891 rows x 8 columns]"
            ]
          },
          "metadata": {
            "tags": []
          },
          "execution_count": 150
        }
      ]
    },
    {
      "cell_type": "code",
      "metadata": {
        "id": "KmOlS9F49O68"
      },
      "source": [
        "#remove the rows with missing value\n",
        "df = df.dropna(subset=['Embarked', 'Age'])"
      ],
      "execution_count": null,
      "outputs": []
    },
    {
      "cell_type": "code",
      "metadata": {
        "id": "HjfDB8sz7D0p",
        "outputId": "dced45bd-059a-4a54-8766-15a6ee06aa31",
        "colab": {
          "base_uri": "https://localhost:8080/",
          "height": 170
        }
      },
      "source": [
        "df.dtypes"
      ],
      "execution_count": null,
      "outputs": [
        {
          "output_type": "execute_result",
          "data": {
            "text/plain": [
              "Survived      int64\n",
              "Pclass        int64\n",
              "Sex          object\n",
              "Age         float64\n",
              "SibSp         int64\n",
              "Parch         int64\n",
              "Fare        float64\n",
              "Embarked     object\n",
              "dtype: object"
            ]
          },
          "metadata": {
            "tags": []
          },
          "execution_count": 152
        }
      ]
    },
    {
      "cell_type": "code",
      "metadata": {
        "id": "dcHFAlu19lYX",
        "outputId": "1c331695-4652-4153-f84a-b687978d5dd0",
        "colab": {
          "base_uri": "https://localhost:8080/",
          "height": 34
        }
      },
      "source": [
        "df.shape"
      ],
      "execution_count": null,
      "outputs": [
        {
          "output_type": "execute_result",
          "data": {
            "text/plain": [
              "(712, 8)"
            ]
          },
          "metadata": {
            "tags": []
          },
          "execution_count": 153
        }
      ]
    },
    {
      "cell_type": "code",
      "metadata": {
        "id": "SzvENDBG84Kl",
        "outputId": "3b48c534-48fe-49cc-aeba-c64f7a7fef08",
        "colab": {
          "base_uri": "https://localhost:8080/",
          "height": 51
        }
      },
      "source": [
        "print(df['Sex'].unique())\n",
        "print(df['Embarked'].unique())"
      ],
      "execution_count": null,
      "outputs": [
        {
          "output_type": "stream",
          "text": [
            "['male' 'female']\n",
            "['S' 'C' 'Q']\n"
          ],
          "name": "stdout"
        }
      ]
    },
    {
      "cell_type": "code",
      "metadata": {
        "id": "Y7xIMNkJ-bAq",
        "outputId": "ff56f564-b8fb-4948-b32d-63461528973f",
        "colab": {
          "base_uri": "https://localhost:8080/",
          "height": 119
        }
      },
      "source": [
        "from sklearn.preprocessing import LabelEncoder\n",
        "labelencoder = LabelEncoder()\n",
        "\n",
        "#Encoding kolom sex\n",
        "df.iloc[:, 2] = labelencoder.fit_transform(df.iloc[:, 2].values)\n",
        "\n",
        "#Encoding kolom embarked\n",
        "df.iloc[:, 7] = labelencoder.fit_transform(df.iloc[:, 7].values)"
      ],
      "execution_count": null,
      "outputs": [
        {
          "output_type": "stream",
          "text": [
            "/usr/local/lib/python3.6/dist-packages/pandas/core/indexing.py:1745: SettingWithCopyWarning: \n",
            "A value is trying to be set on a copy of a slice from a DataFrame.\n",
            "Try using .loc[row_indexer,col_indexer] = value instead\n",
            "\n",
            "See the caveats in the documentation: https://pandas.pydata.org/pandas-docs/stable/user_guide/indexing.html#returning-a-view-versus-a-copy\n",
            "  isetter(ilocs[0], value)\n"
          ],
          "name": "stderr"
        }
      ]
    },
    {
      "cell_type": "code",
      "metadata": {
        "id": "B_1SiKnk-hul",
        "outputId": "8da54446-2f5c-46dd-80c9-ee9b13640077",
        "colab": {
          "base_uri": "https://localhost:8080/",
          "height": 51
        }
      },
      "source": [
        "print(df['Sex'].unique())\n",
        "print(df['Embarked'].unique())"
      ],
      "execution_count": null,
      "outputs": [
        {
          "output_type": "stream",
          "text": [
            "[1 0]\n",
            "[2 0 1]\n"
          ],
          "name": "stdout"
        }
      ]
    },
    {
      "cell_type": "code",
      "metadata": {
        "id": "-JinRT4O7GF5"
      },
      "source": [
        "#Split data menjadi data X dan Y\n",
        "X = df.iloc[:, 1:8].values\n",
        "Y = df.iloc[:, 0].values"
      ],
      "execution_count": null,
      "outputs": []
    },
    {
      "cell_type": "code",
      "metadata": {
        "id": "rVp-f9G_7W9N"
      },
      "source": [
        "#Membagi dataset menjadi data test dan data training\n",
        "from sklearn.model_selection import train_test_split\n",
        "\n",
        "\n",
        "X_train, X_test, Y_train, Y_test = train_test_split(X, Y, test_size=0.2, random_state=0)"
      ],
      "execution_count": null,
      "outputs": []
    },
    {
      "cell_type": "code",
      "metadata": {
        "id": "zQtKcH0yUGU8"
      },
      "source": [
        "from sklearn.metrics import accuracy_score\n",
        "from sklearn.metrics import recall_score\n",
        "from sklearn.metrics import precision_score\n",
        "from sklearn.metrics import f1_score\n",
        "from sklearn.metrics import log_loss\n",
        "from sklearn.metrics import roc_auc_score\n",
        "from sklearn.metrics import roc_curve\n",
        "from sklearn.metrics import confusion_matrix\n",
        "import matplotlib.pyplot as pl\n",
        "\n",
        "def evalModel(y, pred, proba):\n",
        "    print (\"Accuracy  : %.5f\" % accuracy_score(y, pred))\n",
        "    print (\"Recall    : %.5f\" % recall_score(y, pred))\n",
        "    print (\"Precision : %.5f\" % precision_score(y, pred))\n",
        "    print (\"F1 score  : %.5f\" % f1_score(y, pred))\n",
        "    print (\"Log_loss  : %.5f\" % log_loss(y, proba))\n",
        "    print (\"AUC score : %.5f\" % roc_auc_score(y, proba))\n",
        "    \n",
        "def plotAUC(y, proba):\n",
        "    fpr,tpr,thresholds = roc_curve(y, proba)\n",
        "    pl.figure()\n",
        "    pl.plot(fpr, tpr, color='darkorange',lw=2, label='ROC curve (area = {0})'.format(roc_auc_score(y, proba)))\n",
        "    pl.plot([0, 1], [0, 1], color='navy', lw=2, linestyle='--')\n",
        "    pl.xlim([0.0, 1.0])\n",
        "    pl.ylim([0.0, 1.05])\n",
        "    pl.xlabel('False Positive Rate')\n",
        "    pl.ylabel('True Positive Rate')\n",
        "    pl.title('Receiver operating characteristic graph')\n",
        "    pl.legend(loc=\"lower right\")\n",
        "    pl.show()\n",
        "    \n",
        "def classificationTable(y, proba):\n",
        "    cuts=[]\n",
        "    acc=[]\n",
        "    sens=[]\n",
        "    spec=[]\n",
        "    tp_l=[]\n",
        "    tn_l=[]\n",
        "    fp_l=[]\n",
        "    fn_l=[]\n",
        "\n",
        "    for cutoff in [0.01*p for p in range(1,100)]:\n",
        "        lg1 = [1 if proba > cutoff else 0 for proba in proba]\n",
        "        tn, fp, fn, tp = confusion_matrix(y, lg1).ravel()\n",
        "        cuts.append(cutoff)\n",
        "        acc.append((tp+tn)/(tp+fp+fn+tn))\n",
        "        sens.append(tp/(tp+fn))\n",
        "        spec.append(tn/(tn+fp))\n",
        "        tp_l.append(tp)\n",
        "        tn_l.append(tn)\n",
        "        fp_l.append(fp)\n",
        "        fn_l.append(fn)\n",
        "    d={'Cutoff':cuts,'Accuracy':acc,'Sensitivity':sens,'Spesificity':spec,'tp': tp_l,'tn': tn_l, 'fp': fp_l, 'fn': fn_l }\n",
        "    result=pd.DataFrame(data=d)\n",
        "    result=result[['Cutoff','Accuracy','Sensitivity', 'Spesificity', 'tp', 'tn', 'fp', 'fn']]\n",
        "    \n",
        "    with pd.option_context('display.max_rows', None, 'display.max_columns', None): \n",
        "        print(result)\n",
        "        \n",
        "def modelEvaluationStat(x, y, clf):\n",
        "    pred = clf.predict(x)\n",
        "    proba = clf.predict_proba(x)[:,1]\n",
        "    evalModel(y, pred, proba)\n",
        "    classificationTable(y, proba)\n",
        "    plotAUC(y, proba)"
      ],
      "execution_count": null,
      "outputs": []
    },
    {
      "cell_type": "markdown",
      "metadata": {
        "id": "BMdlH67cf5SQ"
      },
      "source": [
        "**RANDOM FOREST MODEL**"
      ]
    },
    {
      "cell_type": "code",
      "metadata": {
        "id": "TcSKt9oPUjsn",
        "outputId": "06d1c387-9862-412a-e3a6-f45d2baf0c49",
        "colab": {
          "base_uri": "https://localhost:8080/",
          "height": 153
        }
      },
      "source": [
        "from sklearn.ensemble import RandomForestClassifier\n",
        "forest = RandomForestClassifier(n_estimators=10, criterion = 'entropy', random_state=0)\n",
        "forest.fit(X_train, Y_train)"
      ],
      "execution_count": null,
      "outputs": [
        {
          "output_type": "execute_result",
          "data": {
            "text/plain": [
              "RandomForestClassifier(bootstrap=True, ccp_alpha=0.0, class_weight=None,\n",
              "                       criterion='entropy', max_depth=None, max_features='auto',\n",
              "                       max_leaf_nodes=None, max_samples=None,\n",
              "                       min_impurity_decrease=0.0, min_impurity_split=None,\n",
              "                       min_samples_leaf=1, min_samples_split=2,\n",
              "                       min_weight_fraction_leaf=0.0, n_estimators=10,\n",
              "                       n_jobs=None, oob_score=False, random_state=0, verbose=0,\n",
              "                       warm_start=False)"
            ]
          },
          "metadata": {
            "tags": []
          },
          "execution_count": 161
        }
      ]
    },
    {
      "cell_type": "markdown",
      "metadata": {
        "id": "TpEMai3Ib4uP"
      },
      "source": [
        "**Evaluasi model terhadap data training**"
      ]
    },
    {
      "cell_type": "code",
      "metadata": {
        "id": "NUyv_YMjUsEA",
        "outputId": "6545d445-56f5-4dfe-e43b-5c8e2b4cc824",
        "colab": {
          "base_uri": "https://localhost:8080/",
          "height": 1000
        }
      },
      "source": [
        "modelEvaluationStat(X_train, Y_train, forest)"
      ],
      "execution_count": null,
      "outputs": [
        {
          "output_type": "stream",
          "text": [
            "Accuracy  : 0.97540\n",
            "Recall    : 0.96035\n",
            "Precision : 0.97758\n",
            "F1 score  : 0.96889\n",
            "Log_loss  : 0.12020\n",
            "AUC score : 0.99771\n",
            "    Cutoff  Accuracy  Sensitivity  Spesificity   tp   tn   fp   fn\n",
            "0     0.01  0.752197     1.000000     0.587719  227  201  141    0\n",
            "1     0.02  0.752197     1.000000     0.587719  227  201  141    0\n",
            "2     0.03  0.752197     1.000000     0.587719  227  201  141    0\n",
            "3     0.04  0.753954     1.000000     0.590643  227  202  140    0\n",
            "4     0.05  0.760984     1.000000     0.602339  227  206  136    0\n",
            "5     0.06  0.760984     1.000000     0.602339  227  206  136    0\n",
            "6     0.07  0.760984     1.000000     0.602339  227  206  136    0\n",
            "7     0.08  0.760984     1.000000     0.602339  227  206  136    0\n",
            "8     0.09  0.760984     1.000000     0.602339  227  206  136    0\n",
            "9     0.10  0.861160     1.000000     0.769006  227  263   79    0\n",
            "10    0.11  0.861160     1.000000     0.769006  227  263   79    0\n",
            "11    0.12  0.861160     1.000000     0.769006  227  263   79    0\n",
            "12    0.13  0.861160     1.000000     0.769006  227  263   79    0\n",
            "13    0.14  0.861160     1.000000     0.769006  227  263   79    0\n",
            "14    0.15  0.861160     1.000000     0.769006  227  263   79    0\n",
            "15    0.16  0.861160     1.000000     0.769006  227  263   79    0\n",
            "16    0.17  0.861160     1.000000     0.769006  227  263   79    0\n",
            "17    0.18  0.862917     1.000000     0.771930  227  264   78    0\n",
            "18    0.19  0.862917     1.000000     0.771930  227  264   78    0\n",
            "19    0.20  0.922671     1.000000     0.871345  227  298   44    0\n",
            "20    0.21  0.922671     1.000000     0.871345  227  298   44    0\n",
            "21    0.22  0.922671     1.000000     0.871345  227  298   44    0\n",
            "22    0.23  0.922671     1.000000     0.871345  227  298   44    0\n",
            "23    0.24  0.924429     1.000000     0.874269  227  299   43    0\n",
            "24    0.25  0.924429     1.000000     0.874269  227  299   43    0\n",
            "25    0.26  0.924429     1.000000     0.874269  227  299   43    0\n",
            "26    0.27  0.924429     1.000000     0.874269  227  299   43    0\n",
            "27    0.28  0.924429     1.000000     0.874269  227  299   43    0\n",
            "28    0.29  0.924429     1.000000     0.874269  227  299   43    0\n",
            "29    0.30  0.954306     1.000000     0.923977  227  316   26    0\n",
            "30    0.31  0.954306     1.000000     0.923977  227  316   26    0\n",
            "31    0.32  0.954306     1.000000     0.923977  227  316   26    0\n",
            "32    0.33  0.954306     1.000000     0.923977  227  316   26    0\n",
            "33    0.34  0.954306     1.000000     0.923977  227  316   26    0\n",
            "34    0.35  0.954306     0.995595     0.926901  226  317   25    1\n",
            "35    0.36  0.954306     0.995595     0.926901  226  317   25    1\n",
            "36    0.37  0.954306     0.995595     0.926901  226  317   25    1\n",
            "37    0.38  0.954306     0.995595     0.926901  226  317   25    1\n",
            "38    0.39  0.954306     0.995595     0.926901  226  317   25    1\n",
            "39    0.40  0.977153     0.986784     0.970760  224  332   10    3\n",
            "40    0.41  0.977153     0.986784     0.970760  224  332   10    3\n",
            "41    0.42  0.977153     0.986784     0.970760  224  332   10    3\n",
            "42    0.43  0.977153     0.986784     0.970760  224  332   10    3\n",
            "43    0.44  0.977153     0.986784     0.970760  224  332   10    3\n",
            "44    0.45  0.977153     0.986784     0.970760  224  332   10    3\n",
            "45    0.46  0.977153     0.986784     0.970760  224  332   10    3\n",
            "46    0.47  0.977153     0.986784     0.970760  224  332   10    3\n",
            "47    0.48  0.977153     0.986784     0.970760  224  332   10    3\n",
            "48    0.49  0.977153     0.986784     0.970760  224  332   10    3\n",
            "49    0.50  0.975395     0.960352     0.985380  218  337    5    9\n",
            "50    0.51  0.975395     0.960352     0.985380  218  337    5    9\n",
            "51    0.52  0.975395     0.960352     0.985380  218  337    5    9\n",
            "52    0.53  0.975395     0.960352     0.985380  218  337    5    9\n",
            "53    0.54  0.975395     0.955947     0.988304  217  338    4   10\n",
            "54    0.55  0.975395     0.955947     0.988304  217  338    4   10\n",
            "55    0.56  0.975395     0.955947     0.988304  217  338    4   10\n",
            "56    0.57  0.975395     0.955947     0.988304  217  338    4   10\n",
            "57    0.58  0.975395     0.955947     0.988304  217  338    4   10\n",
            "58    0.59  0.975395     0.955947     0.988304  217  338    4   10\n",
            "59    0.60  0.964851     0.916300     0.997076  208  341    1   19\n",
            "60    0.61  0.964851     0.916300     0.997076  208  341    1   19\n",
            "61    0.62  0.964851     0.916300     0.997076  208  341    1   19\n",
            "62    0.63  0.964851     0.916300     0.997076  208  341    1   19\n",
            "63    0.64  0.964851     0.916300     0.997076  208  341    1   19\n",
            "64    0.65  0.963093     0.911894     0.997076  207  341    1   20\n",
            "65    0.66  0.963093     0.911894     0.997076  207  341    1   20\n",
            "66    0.67  0.963093     0.911894     0.997076  207  341    1   20\n",
            "67    0.68  0.963093     0.911894     0.997076  207  341    1   20\n",
            "68    0.69  0.963093     0.911894     0.997076  207  341    1   20\n",
            "69    0.70  0.936731     0.845815     0.997076  192  341    1   35\n",
            "70    0.71  0.936731     0.845815     0.997076  192  341    1   35\n",
            "71    0.72  0.936731     0.845815     0.997076  192  341    1   35\n",
            "72    0.73  0.936731     0.845815     0.997076  192  341    1   35\n",
            "73    0.74  0.936731     0.845815     0.997076  192  341    1   35\n",
            "74    0.75  0.936731     0.845815     0.997076  192  341    1   35\n",
            "75    0.76  0.936731     0.845815     0.997076  192  341    1   35\n",
            "76    0.77  0.936731     0.845815     0.997076  192  341    1   35\n",
            "77    0.78  0.936731     0.845815     0.997076  192  341    1   35\n",
            "78    0.79  0.936731     0.845815     0.997076  192  341    1   35\n",
            "79    0.80  0.882250     0.709251     0.997076  161  341    1   66\n",
            "80    0.81  0.880492     0.700441     1.000000  159  342    0   68\n",
            "81    0.82  0.880492     0.700441     1.000000  159  342    0   68\n",
            "82    0.83  0.880492     0.700441     1.000000  159  342    0   68\n",
            "83    0.84  0.880492     0.700441     1.000000  159  342    0   68\n",
            "84    0.85  0.876977     0.691630     1.000000  157  342    0   70\n",
            "85    0.86  0.876977     0.691630     1.000000  157  342    0   70\n",
            "86    0.87  0.876977     0.691630     1.000000  157  342    0   70\n",
            "87    0.88  0.876977     0.691630     1.000000  157  342    0   70\n",
            "88    0.89  0.876977     0.691630     1.000000  157  342    0   70\n",
            "89    0.90  0.785589     0.462555     1.000000  105  342    0  122\n",
            "90    0.91  0.785589     0.462555     1.000000  105  342    0  122\n",
            "91    0.92  0.785589     0.462555     1.000000  105  342    0  122\n",
            "92    0.93  0.785589     0.462555     1.000000  105  342    0  122\n",
            "93    0.94  0.782074     0.453744     1.000000  103  342    0  124\n",
            "94    0.95  0.782074     0.453744     1.000000  103  342    0  124\n",
            "95    0.96  0.782074     0.453744     1.000000  103  342    0  124\n",
            "96    0.97  0.782074     0.453744     1.000000  103  342    0  124\n",
            "97    0.98  0.782074     0.453744     1.000000  103  342    0  124\n",
            "98    0.99  0.782074     0.453744     1.000000  103  342    0  124\n"
          ],
          "name": "stdout"
        },
        {
          "output_type": "display_data",
          "data": {
            "image/png": "[encoded data removed]",
            "text/plain": [
              "<Figure size 432x288 with 1 Axes>"
            ]
          },
          "metadata": {
            "tags": [],
            "needs_background": "light"
          }
        }
      ]
    },
    {
      "cell_type": "markdown",
      "metadata": {
        "id": "omHiddBQfqnP"
      },
      "source": [
        "**Evaluasi model terhadap data test**"
      ]
    },
    {
      "cell_type": "code",
      "metadata": {
        "id": "Ar6-zB2lb_q9",
        "outputId": "7464acb9-facd-4577-8cec-dc1611c46f82",
        "colab": {
          "base_uri": "https://localhost:8080/",
          "height": 1000
        }
      },
      "source": [
        "modelEvaluationStat(X_test, Y_test, forest)"
      ],
      "execution_count": null,
      "outputs": [
        {
          "output_type": "stream",
          "text": [
            "Accuracy  : 0.80420\n",
            "Recall    : 0.78689\n",
            "Precision : 0.76190\n",
            "F1 score  : 0.77419\n",
            "Log_loss  : 1.30645\n",
            "AUC score : 0.87335\n",
            "    Cutoff  Accuracy  Sensitivity  Spesificity  tp  tn  fp  fn\n",
            "0     0.01  0.594406     0.950820     0.329268  58  27  55   3\n",
            "1     0.02  0.594406     0.950820     0.329268  58  27  55   3\n",
            "2     0.03  0.594406     0.950820     0.329268  58  27  55   3\n",
            "3     0.04  0.601399     0.950820     0.341463  58  28  54   3\n",
            "4     0.05  0.615385     0.950820     0.365854  58  30  52   3\n",
            "5     0.06  0.615385     0.950820     0.365854  58  30  52   3\n",
            "6     0.07  0.615385     0.950820     0.365854  58  30  52   3\n",
            "7     0.08  0.615385     0.950820     0.365854  58  30  52   3\n",
            "8     0.09  0.615385     0.950820     0.365854  58  30  52   3\n",
            "9     0.10  0.685315     0.950820     0.487805  58  40  42   3\n",
            "10    0.11  0.685315     0.950820     0.487805  58  40  42   3\n",
            "11    0.12  0.685315     0.950820     0.487805  58  40  42   3\n",
            "12    0.13  0.685315     0.950820     0.487805  58  40  42   3\n",
            "13    0.14  0.685315     0.950820     0.487805  58  40  42   3\n",
            "14    0.15  0.685315     0.950820     0.487805  58  40  42   3\n",
            "15    0.16  0.685315     0.950820     0.487805  58  40  42   3\n",
            "16    0.17  0.678322     0.934426     0.487805  57  40  42   4\n",
            "17    0.18  0.678322     0.934426     0.487805  57  40  42   4\n",
            "18    0.19  0.678322     0.934426     0.487805  57  40  42   4\n",
            "19    0.20  0.734266     0.885246     0.621951  54  51  31   7\n",
            "20    0.21  0.734266     0.885246     0.621951  54  51  31   7\n",
            "21    0.22  0.734266     0.885246     0.621951  54  51  31   7\n",
            "22    0.23  0.734266     0.885246     0.621951  54  51  31   7\n",
            "23    0.24  0.734266     0.885246     0.621951  54  51  31   7\n",
            "24    0.25  0.734266     0.885246     0.621951  54  51  31   7\n",
            "25    0.26  0.734266     0.885246     0.621951  54  51  31   7\n",
            "26    0.27  0.734266     0.885246     0.621951  54  51  31   7\n",
            "27    0.28  0.734266     0.885246     0.621951  54  51  31   7\n",
            "28    0.29  0.734266     0.885246     0.621951  54  51  31   7\n",
            "29    0.30  0.755245     0.868852     0.670732  53  55  27   8\n",
            "30    0.31  0.755245     0.868852     0.670732  53  55  27   8\n",
            "31    0.32  0.755245     0.868852     0.670732  53  55  27   8\n",
            "32    0.33  0.755245     0.868852     0.670732  53  55  27   8\n",
            "33    0.34  0.755245     0.868852     0.670732  53  55  27   8\n",
            "34    0.35  0.762238     0.868852     0.682927  53  56  26   8\n",
            "35    0.36  0.762238     0.868852     0.682927  53  56  26   8\n",
            "36    0.37  0.762238     0.868852     0.682927  53  56  26   8\n",
            "37    0.38  0.762238     0.868852     0.682927  53  56  26   8\n",
            "38    0.39  0.762238     0.868852     0.682927  53  56  26   8\n",
            "39    0.40  0.783217     0.803279     0.768293  49  63  19  12\n",
            "40    0.41  0.783217     0.803279     0.768293  49  63  19  12\n",
            "41    0.42  0.783217     0.803279     0.768293  49  63  19  12\n",
            "42    0.43  0.783217     0.803279     0.768293  49  63  19  12\n",
            "43    0.44  0.783217     0.803279     0.768293  49  63  19  12\n",
            "44    0.45  0.783217     0.803279     0.768293  49  63  19  12\n",
            "45    0.46  0.783217     0.803279     0.768293  49  63  19  12\n",
            "46    0.47  0.783217     0.803279     0.768293  49  63  19  12\n",
            "47    0.48  0.783217     0.803279     0.768293  49  63  19  12\n",
            "48    0.49  0.783217     0.803279     0.768293  49  63  19  12\n",
            "49    0.50  0.804196     0.786885     0.817073  48  67  15  13\n",
            "50    0.51  0.804196     0.786885     0.817073  48  67  15  13\n",
            "51    0.52  0.804196     0.786885     0.817073  48  67  15  13\n",
            "52    0.53  0.804196     0.786885     0.817073  48  67  15  13\n",
            "53    0.54  0.804196     0.786885     0.817073  48  67  15  13\n",
            "54    0.55  0.804196     0.786885     0.817073  48  67  15  13\n",
            "55    0.56  0.804196     0.786885     0.817073  48  67  15  13\n",
            "56    0.57  0.804196     0.786885     0.817073  48  67  15  13\n",
            "57    0.58  0.804196     0.786885     0.817073  48  67  15  13\n",
            "58    0.59  0.797203     0.770492     0.817073  47  67  15  14\n",
            "59    0.60  0.825175     0.737705     0.890244  45  73   9  16\n",
            "60    0.61  0.825175     0.737705     0.890244  45  73   9  16\n",
            "61    0.62  0.825175     0.737705     0.890244  45  73   9  16\n",
            "62    0.63  0.825175     0.737705     0.890244  45  73   9  16\n",
            "63    0.64  0.825175     0.737705     0.890244  45  73   9  16\n",
            "64    0.65  0.825175     0.737705     0.890244  45  73   9  16\n",
            "65    0.66  0.825175     0.737705     0.890244  45  73   9  16\n",
            "66    0.67  0.825175     0.737705     0.890244  45  73   9  16\n",
            "67    0.68  0.825175     0.737705     0.890244  45  73   9  16\n",
            "68    0.69  0.825175     0.737705     0.890244  45  73   9  16\n",
            "69    0.70  0.818182     0.688525     0.914634  42  75   7  19\n",
            "70    0.71  0.818182     0.688525     0.914634  42  75   7  19\n",
            "71    0.72  0.818182     0.688525     0.914634  42  75   7  19\n",
            "72    0.73  0.818182     0.688525     0.914634  42  75   7  19\n",
            "73    0.74  0.818182     0.688525     0.914634  42  75   7  19\n",
            "74    0.75  0.818182     0.688525     0.914634  42  75   7  19\n",
            "75    0.76  0.818182     0.688525     0.914634  42  75   7  19\n",
            "76    0.77  0.818182     0.688525     0.914634  42  75   7  19\n",
            "77    0.78  0.818182     0.688525     0.914634  42  75   7  19\n",
            "78    0.79  0.818182     0.688525     0.914634  42  75   7  19\n",
            "79    0.80  0.776224     0.524590     0.963415  32  79   3  29\n",
            "80    0.81  0.776224     0.524590     0.963415  32  79   3  29\n",
            "81    0.82  0.776224     0.524590     0.963415  32  79   3  29\n",
            "82    0.83  0.776224     0.524590     0.963415  32  79   3  29\n",
            "83    0.84  0.776224     0.524590     0.963415  32  79   3  29\n",
            "84    0.85  0.783217     0.524590     0.975610  32  80   2  29\n",
            "85    0.86  0.783217     0.524590     0.975610  32  80   2  29\n",
            "86    0.87  0.783217     0.524590     0.975610  32  80   2  29\n",
            "87    0.88  0.783217     0.524590     0.975610  32  80   2  29\n",
            "88    0.89  0.783217     0.524590     0.975610  32  80   2  29\n",
            "89    0.90  0.713287     0.344262     0.987805  21  81   1  40\n",
            "90    0.91  0.713287     0.344262     0.987805  21  81   1  40\n",
            "91    0.92  0.713287     0.344262     0.987805  21  81   1  40\n",
            "92    0.93  0.713287     0.344262     0.987805  21  81   1  40\n",
            "93    0.94  0.706294     0.327869     0.987805  20  81   1  41\n",
            "94    0.95  0.706294     0.327869     0.987805  20  81   1  41\n",
            "95    0.96  0.706294     0.327869     0.987805  20  81   1  41\n",
            "96    0.97  0.706294     0.327869     0.987805  20  81   1  41\n",
            "97    0.98  0.706294     0.327869     0.987805  20  81   1  41\n",
            "98    0.99  0.706294     0.327869     0.987805  20  81   1  41\n"
          ],
          "name": "stdout"
        },
        {
          "output_type": "display_data",
          "data": {
            "image/png": "[encoded data removed]",
            "text/plain": [
              "<Figure size 432x288 with 1 Axes>"
            ]
          },
          "metadata": {
            "tags": [],
            "needs_background": "light"
          }
        }
      ]
    },
    {
      "cell_type": "markdown",
      "metadata": {
        "id": "SFBivRKvfy2h"
      },
      "source": [
        "**Hyperparameter default**"
      ]
    },
    {
      "cell_type": "code",
      "metadata": {
        "id": "zPxSmxAZbHk6",
        "outputId": "0f8016e7-202a-4f3d-ec3e-23e3fb18576d",
        "colab": {
          "base_uri": "https://localhost:8080/",
          "height": 153
        }
      },
      "source": [
        "from sklearn.ensemble import RandomForestClassifier\n",
        "forest2 = RandomForestClassifier()\n",
        "forest2.fit(X_train, Y_train)"
      ],
      "execution_count": null,
      "outputs": [
        {
          "output_type": "execute_result",
          "data": {
            "text/plain": [
              "RandomForestClassifier(bootstrap=True, ccp_alpha=0.0, class_weight=None,\n",
              "                       criterion='gini', max_depth=None, max_features='auto',\n",
              "                       max_leaf_nodes=None, max_samples=None,\n",
              "                       min_impurity_decrease=0.0, min_impurity_split=None,\n",
              "                       min_samples_leaf=1, min_samples_split=2,\n",
              "                       min_weight_fraction_leaf=0.0, n_estimators=100,\n",
              "                       n_jobs=None, oob_score=False, random_state=None,\n",
              "                       verbose=0, warm_start=False)"
            ]
          },
          "metadata": {
            "tags": []
          },
          "execution_count": 164
        }
      ]
    },
    {
      "cell_type": "code",
      "metadata": {
        "id": "lL6LfsJXbJS-",
        "outputId": "286a2967-8cc3-40fc-dcb0-d79b7fdcaa43",
        "colab": {
          "base_uri": "https://localhost:8080/",
          "height": 1000
        }
      },
      "source": [
        "modelEvaluationStat(X_train, Y_train, forest2)"
      ],
      "execution_count": null,
      "outputs": [
        {
          "output_type": "stream",
          "text": [
            "Accuracy  : 0.99297\n",
            "Recall    : 0.98678\n",
            "Precision : 0.99556\n",
            "F1 score  : 0.99115\n",
            "Log_loss  : 0.11472\n",
            "AUC score : 0.99979\n",
            "    Cutoff  Accuracy  Sensitivity  Spesificity   tp   tn   fp   fn\n",
            "0     0.01  0.586995     1.000000     0.312865  227  107  235    0\n",
            "1     0.02  0.620387     1.000000     0.368421  227  126  216    0\n",
            "2     0.03  0.657293     1.000000     0.429825  227  147  195    0\n",
            "3     0.04  0.697715     1.000000     0.497076  227  170  172    0\n",
            "4     0.05  0.724077     1.000000     0.540936  227  185  157    0\n",
            "5     0.06  0.757469     1.000000     0.596491  227  204  138    0\n",
            "6     0.07  0.782074     1.000000     0.637427  227  218  124    0\n",
            "7     0.08  0.794376     1.000000     0.657895  227  225  117    0\n",
            "8     0.09  0.811951     1.000000     0.687135  227  235  107    0\n",
            "9     0.10  0.826011     1.000000     0.710526  227  243   99    0\n",
            "10    0.11  0.840070     1.000000     0.733918  227  251   91    0\n",
            "11    0.12  0.855888     1.000000     0.760234  227  260   82    0\n",
            "12    0.13  0.861160     1.000000     0.769006  227  263   79    0\n",
            "13    0.14  0.871705     1.000000     0.786550  227  269   73    0\n",
            "14    0.15  0.878735     1.000000     0.798246  227  273   69    0\n",
            "15    0.16  0.884007     1.000000     0.807018  227  276   66    0\n",
            "16    0.17  0.896309     1.000000     0.827485  227  283   59    0\n",
            "17    0.18  0.915641     1.000000     0.859649  227  294   48    0\n",
            "18    0.19  0.920914     1.000000     0.868421  227  297   45    0\n",
            "19    0.20  0.929701     1.000000     0.883041  227  302   40    0\n",
            "20    0.21  0.933216     1.000000     0.888889  227  304   38    0\n",
            "21    0.22  0.938489     1.000000     0.897661  227  307   35    0\n",
            "22    0.23  0.943761     1.000000     0.906433  227  310   32    0\n",
            "23    0.24  0.947276     1.000000     0.912281  227  312   30    0\n",
            "24    0.25  0.950791     1.000000     0.918129  227  314   28    0\n",
            "25    0.26  0.957821     1.000000     0.929825  227  318   24    0\n",
            "26    0.27  0.961336     1.000000     0.935673  227  320   22    0\n",
            "27    0.28  0.968366     1.000000     0.947368  227  324   18    0\n",
            "28    0.29  0.978910     1.000000     0.964912  227  330   12    0\n",
            "29    0.30  0.980668     1.000000     0.967836  227  331   11    0\n",
            "30    0.31  0.980668     1.000000     0.967836  227  331   11    0\n",
            "31    0.32  0.980668     1.000000     0.967836  227  331   11    0\n",
            "32    0.33  0.982425     0.995595     0.973684  226  333    9    1\n",
            "33    0.34  0.985940     0.995595     0.979532  226  335    7    1\n",
            "34    0.35  0.985940     0.995595     0.979532  226  335    7    1\n",
            "35    0.36  0.987698     0.995595     0.982456  226  336    6    1\n",
            "36    0.37  0.989455     0.995595     0.985380  226  337    5    1\n",
            "37    0.38  0.991213     0.995595     0.988304  226  338    4    1\n",
            "38    0.39  0.991213     0.995595     0.988304  226  338    4    1\n",
            "39    0.40  0.991213     0.995595     0.988304  226  338    4    1\n",
            "40    0.41  0.991213     0.995595     0.988304  226  338    4    1\n",
            "41    0.42  0.991213     0.995595     0.988304  226  338    4    1\n",
            "42    0.43  0.991213     0.995595     0.988304  226  338    4    1\n",
            "43    0.44  0.991213     0.991189     0.991228  225  339    3    2\n",
            "44    0.45  0.991213     0.991189     0.991228  225  339    3    2\n",
            "45    0.46  0.991213     0.986784     0.994152  224  340    2    3\n",
            "46    0.47  0.992970     0.986784     0.997076  224  341    1    3\n",
            "47    0.48  0.992970     0.986784     0.997076  224  341    1    3\n",
            "48    0.49  0.992970     0.986784     0.997076  224  341    1    3\n",
            "49    0.50  0.992970     0.986784     0.997076  224  341    1    3\n",
            "50    0.51  0.992970     0.986784     0.997076  224  341    1    3\n",
            "51    0.52  0.992970     0.986784     0.997076  224  341    1    3\n",
            "52    0.53  0.992970     0.986784     0.997076  224  341    1    3\n",
            "53    0.54  0.992970     0.982379     1.000000  223  342    0    4\n",
            "54    0.55  0.991213     0.977974     1.000000  222  342    0    5\n",
            "55    0.56  0.991213     0.977974     1.000000  222  342    0    5\n",
            "56    0.57  0.991213     0.977974     1.000000  222  342    0    5\n",
            "57    0.58  0.991213     0.977974     1.000000  222  342    0    5\n",
            "58    0.59  0.991213     0.977974     1.000000  222  342    0    5\n",
            "59    0.60  0.991213     0.977974     1.000000  222  342    0    5\n",
            "60    0.61  0.991213     0.977974     1.000000  222  342    0    5\n",
            "61    0.62  0.987698     0.969163     1.000000  220  342    0    7\n",
            "62    0.63  0.985940     0.964758     1.000000  219  342    0    8\n",
            "63    0.64  0.978910     0.947137     1.000000  215  342    0   12\n",
            "64    0.65  0.975395     0.938326     1.000000  213  342    0   14\n",
            "65    0.66  0.971880     0.929515     1.000000  211  342    0   16\n",
            "66    0.67  0.966608     0.916300     1.000000  208  342    0   19\n",
            "67    0.68  0.952548     0.881057     1.000000  200  342    0   27\n",
            "68    0.69  0.947276     0.867841     1.000000  197  342    0   30\n",
            "69    0.70  0.943761     0.859031     1.000000  195  342    0   32\n",
            "70    0.71  0.938489     0.845815     1.000000  192  342    0   35\n",
            "71    0.72  0.920914     0.801762     1.000000  182  342    0   45\n",
            "72    0.73  0.915641     0.788546     1.000000  179  342    0   48\n",
            "73    0.74  0.912127     0.779736     1.000000  177  342    0   50\n",
            "74    0.75  0.906854     0.766520     1.000000  174  342    0   53\n",
            "75    0.76  0.903339     0.757709     1.000000  172  342    0   55\n",
            "76    0.77  0.899824     0.748899     1.000000  170  342    0   57\n",
            "77    0.78  0.899824     0.748899     1.000000  170  342    0   57\n",
            "78    0.79  0.894552     0.735683     1.000000  167  342    0   60\n",
            "79    0.80  0.892794     0.731278     1.000000  166  342    0   61\n",
            "80    0.81  0.889279     0.722467     1.000000  164  342    0   63\n",
            "81    0.82  0.885764     0.713656     1.000000  162  342    0   65\n",
            "82    0.83  0.882250     0.704846     1.000000  160  342    0   67\n",
            "83    0.84  0.873462     0.682819     1.000000  155  342    0   72\n",
            "84    0.85  0.862917     0.656388     1.000000  149  342    0   78\n",
            "85    0.86  0.855888     0.638767     1.000000  145  342    0   82\n",
            "86    0.87  0.850615     0.625551     1.000000  142  342    0   85\n",
            "87    0.88  0.843585     0.607930     1.000000  138  342    0   89\n",
            "88    0.89  0.834798     0.585903     1.000000  133  342    0   94\n",
            "89    0.90  0.822496     0.555066     1.000000  126  342    0  101\n",
            "90    0.91  0.810193     0.524229     1.000000  119  342    0  108\n",
            "91    0.92  0.799649     0.497797     1.000000  113  342    0  114\n",
            "92    0.93  0.790861     0.475771     1.000000  108  342    0  119\n",
            "93    0.94  0.780316     0.449339     1.000000  102  342    0  125\n",
            "94    0.95  0.771529     0.427313     1.000000   97  342    0  130\n",
            "95    0.96  0.746924     0.365639     1.000000   83  342    0  144\n",
            "96    0.97  0.725835     0.312775     1.000000   71  342    0  156\n",
            "97    0.98  0.685413     0.211454     1.000000   48  342    0  179\n",
            "98    0.99  0.639719     0.096916     1.000000   22  342    0  205\n"
          ],
          "name": "stdout"
        },
        {
          "output_type": "display_data",
          "data": {
            "image/png": "[encoded data removed]",
            "text/plain": [
              "<Figure size 432x288 with 1 Axes>"
            ]
          },
          "metadata": {
            "tags": [],
            "needs_background": "light"
          }
        }
      ]
    },
    {
      "cell_type": "markdown",
      "metadata": {
        "id": "uDy6bvitZXx9"
      },
      "source": [
        "**DECISION TREE CLASSIFIER MODEL**"
      ]
    },
    {
      "cell_type": "code",
      "metadata": {
        "id": "Sbb0pt9ygBjO",
        "outputId": "8420f7f9-2ac0-4a3f-de9f-3ba5455f9752",
        "colab": {
          "base_uri": "https://localhost:8080/",
          "height": 119
        }
      },
      "source": [
        "from sklearn.tree import DecisionTreeClassifier\n",
        "tree = DecisionTreeClassifier()\n",
        "tree.fit(X_train, Y_train)"
      ],
      "execution_count": null,
      "outputs": [
        {
          "output_type": "execute_result",
          "data": {
            "text/plain": [
              "DecisionTreeClassifier(ccp_alpha=0.0, class_weight=None, criterion='gini',\n",
              "                       max_depth=None, max_features=None, max_leaf_nodes=None,\n",
              "                       min_impurity_decrease=0.0, min_impurity_split=None,\n",
              "                       min_samples_leaf=1, min_samples_split=2,\n",
              "                       min_weight_fraction_leaf=0.0, presort='deprecated',\n",
              "                       random_state=None, splitter='best')"
            ]
          },
          "metadata": {
            "tags": []
          },
          "execution_count": 166
        }
      ]
    },
    {
      "cell_type": "code",
      "metadata": {
        "id": "HSlO3K6UgG1X",
        "outputId": "6da2b4c1-95c5-4805-b9f7-151327e24112",
        "colab": {
          "base_uri": "https://localhost:8080/",
          "height": 1000
        }
      },
      "source": [
        "modelEvaluationStat(X_train, Y_train, tree)"
      ],
      "execution_count": null,
      "outputs": [
        {
          "output_type": "stream",
          "text": [
            "Accuracy  : 0.99297\n",
            "Recall    : 0.98238\n",
            "Precision : 1.00000\n",
            "F1 score  : 0.99111\n",
            "Log_loss  : 0.01067\n",
            "AUC score : 0.99989\n",
            "    Cutoff  Accuracy  Sensitivity  Spesificity   tp   tn  fp  fn\n",
            "0     0.01  0.991213     1.000000     0.985380  227  337   5   0\n",
            "1     0.02  0.991213     1.000000     0.985380  227  337   5   0\n",
            "2     0.03  0.991213     1.000000     0.985380  227  337   5   0\n",
            "3     0.04  0.991213     1.000000     0.985380  227  337   5   0\n",
            "4     0.05  0.991213     1.000000     0.985380  227  337   5   0\n",
            "5     0.06  0.991213     1.000000     0.985380  227  337   5   0\n",
            "6     0.07  0.991213     1.000000     0.985380  227  337   5   0\n",
            "7     0.08  0.991213     1.000000     0.985380  227  337   5   0\n",
            "8     0.09  0.991213     1.000000     0.985380  227  337   5   0\n",
            "9     0.10  0.991213     1.000000     0.985380  227  337   5   0\n",
            "10    0.11  0.991213     1.000000     0.985380  227  337   5   0\n",
            "11    0.12  0.991213     1.000000     0.985380  227  337   5   0\n",
            "12    0.13  0.991213     1.000000     0.985380  227  337   5   0\n",
            "13    0.14  0.991213     1.000000     0.985380  227  337   5   0\n",
            "14    0.15  0.991213     1.000000     0.985380  227  337   5   0\n",
            "15    0.16  0.991213     1.000000     0.985380  227  337   5   0\n",
            "16    0.17  0.991213     1.000000     0.985380  227  337   5   0\n",
            "17    0.18  0.991213     1.000000     0.985380  227  337   5   0\n",
            "18    0.19  0.991213     1.000000     0.985380  227  337   5   0\n",
            "19    0.20  0.991213     1.000000     0.985380  227  337   5   0\n",
            "20    0.21  0.991213     1.000000     0.985380  227  337   5   0\n",
            "21    0.22  0.991213     1.000000     0.985380  227  337   5   0\n",
            "22    0.23  0.991213     1.000000     0.985380  227  337   5   0\n",
            "23    0.24  0.991213     1.000000     0.985380  227  337   5   0\n",
            "24    0.25  0.991213     1.000000     0.985380  227  337   5   0\n",
            "25    0.26  0.991213     1.000000     0.985380  227  337   5   0\n",
            "26    0.27  0.991213     1.000000     0.985380  227  337   5   0\n",
            "27    0.28  0.991213     1.000000     0.985380  227  337   5   0\n",
            "28    0.29  0.991213     1.000000     0.985380  227  337   5   0\n",
            "29    0.30  0.991213     1.000000     0.985380  227  337   5   0\n",
            "30    0.31  0.991213     1.000000     0.985380  227  337   5   0\n",
            "31    0.32  0.991213     1.000000     0.985380  227  337   5   0\n",
            "32    0.33  0.991213     1.000000     0.985380  227  337   5   0\n",
            "33    0.34  0.992970     0.995595     0.991228  226  339   3   1\n",
            "34    0.35  0.992970     0.995595     0.991228  226  339   3   1\n",
            "35    0.36  0.992970     0.995595     0.991228  226  339   3   1\n",
            "36    0.37  0.992970     0.995595     0.991228  226  339   3   1\n",
            "37    0.38  0.992970     0.995595     0.991228  226  339   3   1\n",
            "38    0.39  0.992970     0.995595     0.991228  226  339   3   1\n",
            "39    0.40  0.992970     0.995595     0.991228  226  339   3   1\n",
            "40    0.41  0.992970     0.995595     0.991228  226  339   3   1\n",
            "41    0.42  0.992970     0.995595     0.991228  226  339   3   1\n",
            "42    0.43  0.992970     0.995595     0.991228  226  339   3   1\n",
            "43    0.44  0.992970     0.995595     0.991228  226  339   3   1\n",
            "44    0.45  0.992970     0.995595     0.991228  226  339   3   1\n",
            "45    0.46  0.992970     0.995595     0.991228  226  339   3   1\n",
            "46    0.47  0.992970     0.995595     0.991228  226  339   3   1\n",
            "47    0.48  0.992970     0.995595     0.991228  226  339   3   1\n",
            "48    0.49  0.992970     0.995595     0.991228  226  339   3   1\n",
            "49    0.50  0.992970     0.982379     1.000000  223  342   0   4\n",
            "50    0.51  0.992970     0.982379     1.000000  223  342   0   4\n",
            "51    0.52  0.992970     0.982379     1.000000  223  342   0   4\n",
            "52    0.53  0.992970     0.982379     1.000000  223  342   0   4\n",
            "53    0.54  0.992970     0.982379     1.000000  223  342   0   4\n",
            "54    0.55  0.992970     0.982379     1.000000  223  342   0   4\n",
            "55    0.56  0.992970     0.982379     1.000000  223  342   0   4\n",
            "56    0.57  0.992970     0.982379     1.000000  223  342   0   4\n",
            "57    0.58  0.992970     0.982379     1.000000  223  342   0   4\n",
            "58    0.59  0.992970     0.982379     1.000000  223  342   0   4\n",
            "59    0.60  0.992970     0.982379     1.000000  223  342   0   4\n",
            "60    0.61  0.992970     0.982379     1.000000  223  342   0   4\n",
            "61    0.62  0.992970     0.982379     1.000000  223  342   0   4\n",
            "62    0.63  0.992970     0.982379     1.000000  223  342   0   4\n",
            "63    0.64  0.992970     0.982379     1.000000  223  342   0   4\n",
            "64    0.65  0.992970     0.982379     1.000000  223  342   0   4\n",
            "65    0.66  0.992970     0.982379     1.000000  223  342   0   4\n",
            "66    0.67  0.992970     0.982379     1.000000  223  342   0   4\n",
            "67    0.68  0.992970     0.982379     1.000000  223  342   0   4\n",
            "68    0.69  0.992970     0.982379     1.000000  223  342   0   4\n",
            "69    0.70  0.992970     0.982379     1.000000  223  342   0   4\n",
            "70    0.71  0.992970     0.982379     1.000000  223  342   0   4\n",
            "71    0.72  0.992970     0.982379     1.000000  223  342   0   4\n",
            "72    0.73  0.992970     0.982379     1.000000  223  342   0   4\n",
            "73    0.74  0.992970     0.982379     1.000000  223  342   0   4\n",
            "74    0.75  0.992970     0.982379     1.000000  223  342   0   4\n",
            "75    0.76  0.992970     0.982379     1.000000  223  342   0   4\n",
            "76    0.77  0.992970     0.982379     1.000000  223  342   0   4\n",
            "77    0.78  0.992970     0.982379     1.000000  223  342   0   4\n",
            "78    0.79  0.992970     0.982379     1.000000  223  342   0   4\n",
            "79    0.80  0.992970     0.982379     1.000000  223  342   0   4\n",
            "80    0.81  0.992970     0.982379     1.000000  223  342   0   4\n",
            "81    0.82  0.992970     0.982379     1.000000  223  342   0   4\n",
            "82    0.83  0.992970     0.982379     1.000000  223  342   0   4\n",
            "83    0.84  0.992970     0.982379     1.000000  223  342   0   4\n",
            "84    0.85  0.992970     0.982379     1.000000  223  342   0   4\n",
            "85    0.86  0.992970     0.982379     1.000000  223  342   0   4\n",
            "86    0.87  0.992970     0.982379     1.000000  223  342   0   4\n",
            "87    0.88  0.992970     0.982379     1.000000  223  342   0   4\n",
            "88    0.89  0.992970     0.982379     1.000000  223  342   0   4\n",
            "89    0.90  0.992970     0.982379     1.000000  223  342   0   4\n",
            "90    0.91  0.992970     0.982379     1.000000  223  342   0   4\n",
            "91    0.92  0.992970     0.982379     1.000000  223  342   0   4\n",
            "92    0.93  0.992970     0.982379     1.000000  223  342   0   4\n",
            "93    0.94  0.992970     0.982379     1.000000  223  342   0   4\n",
            "94    0.95  0.992970     0.982379     1.000000  223  342   0   4\n",
            "95    0.96  0.992970     0.982379     1.000000  223  342   0   4\n",
            "96    0.97  0.992970     0.982379     1.000000  223  342   0   4\n",
            "97    0.98  0.992970     0.982379     1.000000  223  342   0   4\n",
            "98    0.99  0.992970     0.982379     1.000000  223  342   0   4\n"
          ],
          "name": "stdout"
        },
        {
          "output_type": "display_data",
          "data": {
            "image/png": "[encoded data removed]",
            "text/plain": [
              "<Figure size 432x288 with 1 Axes>"
            ]
          },
          "metadata": {
            "tags": [],
            "needs_background": "light"
          }
        }
      ]
    },
    {
      "cell_type": "code",
      "metadata": {
        "id": "VlI1vzs2gOTe",
        "outputId": "8d624861-67f7-4974-fa73-2b67fffd9367",
        "colab": {
          "base_uri": "https://localhost:8080/",
          "height": 1000
        }
      },
      "source": [
        "modelEvaluationStat(X_test, Y_test, tree)"
      ],
      "execution_count": null,
      "outputs": [
        {
          "output_type": "stream",
          "text": [
            "Accuracy  : 0.76923\n",
            "Recall    : 0.80328\n",
            "Precision : 0.70000\n",
            "F1 score  : 0.74809\n",
            "Log_loss  : 7.50492\n",
            "AUC score : 0.78449\n",
            "    Cutoff  Accuracy  Sensitivity  Spesificity  tp  tn  fp  fn\n",
            "0     0.01  0.776224     0.836066     0.731707  51  60  22  10\n",
            "1     0.02  0.776224     0.836066     0.731707  51  60  22  10\n",
            "2     0.03  0.776224     0.836066     0.731707  51  60  22  10\n",
            "3     0.04  0.776224     0.836066     0.731707  51  60  22  10\n",
            "4     0.05  0.776224     0.836066     0.731707  51  60  22  10\n",
            "5     0.06  0.776224     0.836066     0.731707  51  60  22  10\n",
            "6     0.07  0.776224     0.836066     0.731707  51  60  22  10\n",
            "7     0.08  0.776224     0.836066     0.731707  51  60  22  10\n",
            "8     0.09  0.776224     0.836066     0.731707  51  60  22  10\n",
            "9     0.10  0.776224     0.836066     0.731707  51  60  22  10\n",
            "10    0.11  0.776224     0.836066     0.731707  51  60  22  10\n",
            "11    0.12  0.776224     0.836066     0.731707  51  60  22  10\n",
            "12    0.13  0.776224     0.836066     0.731707  51  60  22  10\n",
            "13    0.14  0.776224     0.836066     0.731707  51  60  22  10\n",
            "14    0.15  0.776224     0.836066     0.731707  51  60  22  10\n",
            "15    0.16  0.776224     0.836066     0.731707  51  60  22  10\n",
            "16    0.17  0.776224     0.836066     0.731707  51  60  22  10\n",
            "17    0.18  0.776224     0.836066     0.731707  51  60  22  10\n",
            "18    0.19  0.776224     0.836066     0.731707  51  60  22  10\n",
            "19    0.20  0.776224     0.836066     0.731707  51  60  22  10\n",
            "20    0.21  0.776224     0.836066     0.731707  51  60  22  10\n",
            "21    0.22  0.776224     0.836066     0.731707  51  60  22  10\n",
            "22    0.23  0.776224     0.836066     0.731707  51  60  22  10\n",
            "23    0.24  0.776224     0.836066     0.731707  51  60  22  10\n",
            "24    0.25  0.776224     0.836066     0.731707  51  60  22  10\n",
            "25    0.26  0.776224     0.836066     0.731707  51  60  22  10\n",
            "26    0.27  0.776224     0.836066     0.731707  51  60  22  10\n",
            "27    0.28  0.776224     0.836066     0.731707  51  60  22  10\n",
            "28    0.29  0.776224     0.836066     0.731707  51  60  22  10\n",
            "29    0.30  0.776224     0.836066     0.731707  51  60  22  10\n",
            "30    0.31  0.776224     0.836066     0.731707  51  60  22  10\n",
            "31    0.32  0.776224     0.836066     0.731707  51  60  22  10\n",
            "32    0.33  0.776224     0.836066     0.731707  51  60  22  10\n",
            "33    0.34  0.769231     0.819672     0.731707  50  60  22  11\n",
            "34    0.35  0.769231     0.819672     0.731707  50  60  22  11\n",
            "35    0.36  0.769231     0.819672     0.731707  50  60  22  11\n",
            "36    0.37  0.769231     0.819672     0.731707  50  60  22  11\n",
            "37    0.38  0.769231     0.819672     0.731707  50  60  22  11\n",
            "38    0.39  0.769231     0.819672     0.731707  50  60  22  11\n",
            "39    0.40  0.769231     0.819672     0.731707  50  60  22  11\n",
            "40    0.41  0.769231     0.819672     0.731707  50  60  22  11\n",
            "41    0.42  0.769231     0.819672     0.731707  50  60  22  11\n",
            "42    0.43  0.769231     0.819672     0.731707  50  60  22  11\n",
            "43    0.44  0.769231     0.819672     0.731707  50  60  22  11\n",
            "44    0.45  0.769231     0.819672     0.731707  50  60  22  11\n",
            "45    0.46  0.769231     0.819672     0.731707  50  60  22  11\n",
            "46    0.47  0.769231     0.819672     0.731707  50  60  22  11\n",
            "47    0.48  0.769231     0.819672     0.731707  50  60  22  11\n",
            "48    0.49  0.769231     0.819672     0.731707  50  60  22  11\n",
            "49    0.50  0.769231     0.803279     0.743902  49  61  21  12\n",
            "50    0.51  0.769231     0.803279     0.743902  49  61  21  12\n",
            "51    0.52  0.769231     0.803279     0.743902  49  61  21  12\n",
            "52    0.53  0.769231     0.803279     0.743902  49  61  21  12\n",
            "53    0.54  0.769231     0.803279     0.743902  49  61  21  12\n",
            "54    0.55  0.769231     0.803279     0.743902  49  61  21  12\n",
            "55    0.56  0.769231     0.803279     0.743902  49  61  21  12\n",
            "56    0.57  0.769231     0.803279     0.743902  49  61  21  12\n",
            "57    0.58  0.769231     0.803279     0.743902  49  61  21  12\n",
            "58    0.59  0.769231     0.803279     0.743902  49  61  21  12\n",
            "59    0.60  0.769231     0.803279     0.743902  49  61  21  12\n",
            "60    0.61  0.769231     0.803279     0.743902  49  61  21  12\n",
            "61    0.62  0.769231     0.803279     0.743902  49  61  21  12\n",
            "62    0.63  0.769231     0.803279     0.743902  49  61  21  12\n",
            "63    0.64  0.769231     0.803279     0.743902  49  61  21  12\n",
            "64    0.65  0.769231     0.803279     0.743902  49  61  21  12\n",
            "65    0.66  0.769231     0.803279     0.743902  49  61  21  12\n",
            "66    0.67  0.769231     0.803279     0.743902  49  61  21  12\n",
            "67    0.68  0.769231     0.803279     0.743902  49  61  21  12\n",
            "68    0.69  0.769231     0.803279     0.743902  49  61  21  12\n",
            "69    0.70  0.769231     0.803279     0.743902  49  61  21  12\n",
            "70    0.71  0.769231     0.803279     0.743902  49  61  21  12\n",
            "71    0.72  0.769231     0.803279     0.743902  49  61  21  12\n",
            "72    0.73  0.769231     0.803279     0.743902  49  61  21  12\n",
            "73    0.74  0.769231     0.803279     0.743902  49  61  21  12\n",
            "74    0.75  0.769231     0.803279     0.743902  49  61  21  12\n",
            "75    0.76  0.769231     0.803279     0.743902  49  61  21  12\n",
            "76    0.77  0.769231     0.803279     0.743902  49  61  21  12\n",
            "77    0.78  0.769231     0.803279     0.743902  49  61  21  12\n",
            "78    0.79  0.769231     0.803279     0.743902  49  61  21  12\n",
            "79    0.80  0.769231     0.803279     0.743902  49  61  21  12\n",
            "80    0.81  0.769231     0.803279     0.743902  49  61  21  12\n",
            "81    0.82  0.769231     0.803279     0.743902  49  61  21  12\n",
            "82    0.83  0.769231     0.803279     0.743902  49  61  21  12\n",
            "83    0.84  0.769231     0.803279     0.743902  49  61  21  12\n",
            "84    0.85  0.769231     0.803279     0.743902  49  61  21  12\n",
            "85    0.86  0.769231     0.803279     0.743902  49  61  21  12\n",
            "86    0.87  0.769231     0.803279     0.743902  49  61  21  12\n",
            "87    0.88  0.769231     0.803279     0.743902  49  61  21  12\n",
            "88    0.89  0.769231     0.803279     0.743902  49  61  21  12\n",
            "89    0.90  0.769231     0.803279     0.743902  49  61  21  12\n",
            "90    0.91  0.769231     0.803279     0.743902  49  61  21  12\n",
            "91    0.92  0.769231     0.803279     0.743902  49  61  21  12\n",
            "92    0.93  0.769231     0.803279     0.743902  49  61  21  12\n",
            "93    0.94  0.769231     0.803279     0.743902  49  61  21  12\n",
            "94    0.95  0.769231     0.803279     0.743902  49  61  21  12\n",
            "95    0.96  0.769231     0.803279     0.743902  49  61  21  12\n",
            "96    0.97  0.769231     0.803279     0.743902  49  61  21  12\n",
            "97    0.98  0.769231     0.803279     0.743902  49  61  21  12\n",
            "98    0.99  0.769231     0.803279     0.743902  49  61  21  12\n"
          ],
          "name": "stdout"
        },
        {
          "output_type": "display_data",
          "data": {
            "image/png": "[encoded data removed]",
            "text/plain": [
              "<Figure size 432x288 with 1 Axes>"
            ]
          },
          "metadata": {
            "tags": [],
            "needs_background": "light"
          }
        }
      ]
    },
    {
      "cell_type": "code",
      "metadata": {
        "id": "WhJQE_nGm1lL",
        "outputId": "bf4cf86b-a5b3-4431-c4e9-76a102afb91e",
        "colab": {
          "base_uri": "https://localhost:8080/",
          "height": 170
        }
      },
      "source": [
        "#print random forest prediction\n",
        "pred = forest.predict(X_test)\n",
        "print(pred)\n",
        "\n",
        "print()\n",
        "\n",
        "#print actual values\n",
        "print(Y_test)"
      ],
      "execution_count": null,
      "outputs": [
        {
          "output_type": "stream",
          "text": [
            "[1 1 1 0 0 0 1 0 0 1 1 1 1 0 0 1 0 1 0 0 1 1 1 1 0 0 0 0 0 0 0 0 0 1 1 1 1\n",
            " 1 1 0 0 0 1 0 1 0 1 0 0 1 1 0 1 0 1 0 0 1 1 1 0 0 0 1 0 0 1 0 1 1 1 1 1 1\n",
            " 0 0 1 0 0 0 0 1 0 1 1 0 0 0 1 0 0 0 1 1 1 0 1 1 0 0 0 1 0 0 0 0 1 0 0 0 1\n",
            " 0 1 1 0 1 0 0 0 0 0 0 0 1 0 0 0 0 0 1 0 1 1 1 1 1 1 0 0 0 0 0 1]\n",
            "\n",
            "[0 0 1 0 0 0 1 0 0 0 1 1 1 0 0 1 0 1 1 0 0 1 1 1 0 0 0 0 1 0 0 0 0 1 1 0 1\n",
            " 1 1 1 1 1 0 0 0 0 1 0 0 1 1 0 1 0 0 0 0 0 1 0 0 0 0 1 0 0 1 1 0 1 0 1 1 1\n",
            " 0 0 1 1 0 0 0 1 1 1 1 0 0 0 1 0 0 0 1 1 1 0 1 1 0 1 0 1 0 0 0 0 1 0 0 0 0\n",
            " 1 1 1 0 0 1 0 0 1 0 0 0 0 0 0 0 0 0 1 1 1 1 1 1 1 1 0 0 0 0 0 1]\n"
          ],
          "name": "stdout"
        }
      ]
    },
    {
      "cell_type": "code",
      "metadata": {
        "id": "14BRKjskm1hu",
        "outputId": "f173e51d-f3ce-41c9-f2ba-f37c9052ccb2",
        "colab": {
          "base_uri": "https://localhost:8080/",
          "height": 51
        }
      },
      "source": [
        "#my survival\n",
        "my_survival = [[3, 0, 22, 0, 0, 0, 1]]\n",
        "\n",
        "\n",
        "#scaling survival\n",
        "from sklearn.preprocessing import StandardScaler\n",
        "sc = StandardScaler()\n",
        "my_survival_scale = sc.fit_transform(my_survival)\n",
        "\n",
        "#prediksi my survival dengan model random forest\n",
        "pred = forest.predict(my_survival_scale)\n",
        "print(pred)\n",
        "\n",
        "if pred == 0:\n",
        "  print('Oh, no, u didnt survived')\n",
        "else:\n",
        "  print('Yay! u survived')\n"
      ],
      "execution_count": null,
      "outputs": [
        {
          "output_type": "stream",
          "text": [
            "[1]\n",
            "Yay! u survived\n"
          ],
          "name": "stdout"
        }
      ]
    }
  ]
}
