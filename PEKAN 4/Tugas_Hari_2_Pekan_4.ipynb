{
  "nbformat": 4,
  "nbformat_minor": 0,
  "metadata": {
    "kernelspec": {
      "display_name": "Python 3",
      "language": "python",
      "name": "python3"
    },
    "language_info": {
      "codemirror_mode": {
        "name": "ipython",
        "version": 3
      },
      "file_extension": ".py",
      "mimetype": "text/x-python",
      "name": "python",
      "nbconvert_exporter": "python",
      "pygments_lexer": "ipython3",
      "version": "3.7.6"
    },
    "colab": {
      "name": "Tugas Hari 2 Pekan 4.ipynb",
      "provenance": [],
      "collapsed_sections": []
    }
  },
  "cells": [
    {
      "cell_type": "markdown",
      "metadata": {
        "id": "5K6xQ_mFbt7B"
      },
      "source": [
        "<h1>Soal 1: Pemahaman Algoritma</h1>\n",
        "\n",
        "Jawab Pertanyaan di bawah ini dengan penyampaian bahasa sendiri!\n",
        "\n",
        "1. Bagaimana proses algoritma KNN?\n",
        "2. Jelaskan minimal 2 kekurangan dari algoritma KNN?"
      ]
    },
    {
      "cell_type": "markdown",
      "metadata": {
        "id": "00A5KWAygagM"
      },
      "source": [
        "**Jawab:**\n",
        "\n",
        "1. PROSES ALGORITMA KNN:\n",
        "*   Menentukan parameter k, bilangan bulat positif sebagai nearest neighbor(banyak tetangga terdekat\n",
        "*   Hitung jarak antara data baru dan semua data yg ada di data training\n",
        "*   Menentukan k tetangga terdekat berdasarkan jarak minimum\n",
        "*   Tetangga yg memiliki frekuensi terbanyak diambil sebagai nilai prediksi atau hasil klasifikasi dari data baru tersebut\n",
        "\n",
        "2. KEKURANGAN:\n",
        "*   Sangat sensitif terhadap data pencilan (data yg bernilai jauh dari sekumpulan data)\n",
        "*   Jika K nya genap, KNN akan terkecoh kalau label/n terdekatnya berjumlah sama\n",
        "\n"
      ]
    },
    {
      "cell_type": "markdown",
      "metadata": {
        "id": "UDvanK5pgcnF"
      },
      "source": [
        "---"
      ]
    },
    {
      "cell_type": "markdown",
      "metadata": {
        "id": "VsHxDJ4jbt7P"
      },
      "source": [
        "<h1>Soal 2: Pengaplikasian Algoritma KNN</h1>\n",
        "\n",
        "- Buatlah model KNN\n",
        "- Training model tersebut kepada data X_train dengan hyperparameter kombinasi antara  2<= k <=20 dan weights bernilai 'uniform', dan 'distance'  \n",
        "- Lakukan prediksi terhadap data X_test untuk model di setiap kombinasi k dan weights\n",
        "- Score dengan accuracy dari hasil prediksi terhadap data X_test untuk setiap kombinasi hyperparameter, masukan score tersebut ke dalam objek list dengan di groupkan berdasarkan jenis weights, sehingga di akhir kita punya variable misalkan list_uniform_score, dan list_distance_score\n",
        "- Plot kedua list tersebut dengan lineplot kedalam satu axis dan bandingkan hasilnya"
      ]
    },
    {
      "cell_type": "code",
      "metadata": {
        "id": "Gng40Wu8bt7c"
      },
      "source": [
        "from sklearn.datasets import load_wine\n",
        "import pandas as pd\n",
        "import numpy as np\n",
        "\n",
        "wine = load_wine()\n",
        "df = pd.DataFrame(np.c_[wine['data'], wine['target']], columns= wine['feature_names'] + ['class'])\n",
        "\n",
        "#Preprocessing data\n",
        "X = df.drop('class', axis=1)\n",
        "y = df['class']\n",
        "\n",
        "from sklearn.model_selection import train_test_split\n",
        "\n",
        "X_train, X_test, y_train, y_test = train_test_split(X, y, test_size=0.2, random_state=21)"
      ],
      "execution_count": 9,
      "outputs": []
    },
    {
      "cell_type": "code",
      "metadata": {
        "id": "zoRMFOxb78Ih",
        "outputId": "11da3d9a-51bf-49a1-a6c7-65eb645d6227",
        "colab": {
          "base_uri": "https://localhost:8080/",
          "height": 340
        }
      },
      "source": [
        "from sklearn import neighbors\n",
        "from sklearn.neighbors import KNeighborsClassifier\n",
        "from sklearn.model_selection import cross_validate, cross_val_score\n",
        "from sklearn.metrics import accuracy_score\n",
        "\n",
        "\n",
        "k_range = range(2, 21)\n",
        "\n",
        "# list of distance scores from k_range\n",
        "list_uniform_score = []\n",
        "\n",
        "# looping\n",
        "for k in k_range:\n",
        "    # KNeighborsClassifier 'uniform'\n",
        "    knn = KNeighborsClassifier(n_neighbors=k, weights = 'uniform')\n",
        "    knn.fit(X_train, y_train)\n",
        "    # prediksi terhadap data X_test untuk model di setiap kombinasi k dan weights\n",
        "    predict = knn.predict(X_test)\n",
        "    # Score dengan accuracy dari hasil prediksi terhadap data X_test \n",
        "    scores = accuracy_score(y_test, predict)\n",
        "    # append mean dari scores\n",
        "    list_uniform_score.append(scores.mean())\n",
        "\n",
        "list_uniform_score"
      ],
      "execution_count": 10,
      "outputs": [
        {
          "output_type": "execute_result",
          "data": {
            "text/plain": [
              "[0.6944444444444444,\n",
              " 0.8055555555555556,\n",
              " 0.7222222222222222,\n",
              " 0.6666666666666666,\n",
              " 0.6388888888888888,\n",
              " 0.75,\n",
              " 0.6388888888888888,\n",
              " 0.6944444444444444,\n",
              " 0.6944444444444444,\n",
              " 0.7222222222222222,\n",
              " 0.6388888888888888,\n",
              " 0.6666666666666666,\n",
              " 0.6388888888888888,\n",
              " 0.6666666666666666,\n",
              " 0.6111111111111112,\n",
              " 0.6666666666666666,\n",
              " 0.6388888888888888,\n",
              " 0.6666666666666666,\n",
              " 0.6111111111111112]"
            ]
          },
          "metadata": {
            "tags": []
          },
          "execution_count": 10
        }
      ]
    },
    {
      "cell_type": "code",
      "metadata": {
        "id": "BnvQShmB8CV2",
        "outputId": "54272155-75a0-4442-e158-0664dcaef8cf",
        "colab": {
          "base_uri": "https://localhost:8080/",
          "height": 340
        }
      },
      "source": [
        "k_range2 = range(2, 21)\n",
        "\n",
        "# list of distance scores from k_range2\n",
        "list_distance_score = []\n",
        "\n",
        "# looping\n",
        "for k in k_range2:\n",
        "    # KNeighborsClassifier 'distance'\n",
        "    knn = KNeighborsClassifier(n_neighbors=k, weights ='distance')\n",
        "    knn.fit(X_train, y_train)\n",
        "    # prediksi terhadap data X_test untuk model di setiap kombinasi k dan weights\n",
        "    predict = knn.predict(X_test)\n",
        "    # Score dengan accuracy dari hasil prediksi terhadap data X_test \n",
        "    scores = accuracy_score(y_test, predict)\n",
        "    # append mean dari scores\n",
        "    list_distance_score.append(scores.mean())\n",
        "\n",
        "list_distance_score"
      ],
      "execution_count": 11,
      "outputs": [
        {
          "output_type": "execute_result",
          "data": {
            "text/plain": [
              "[0.75,\n",
              " 0.8333333333333334,\n",
              " 0.7777777777777778,\n",
              " 0.75,\n",
              " 0.7222222222222222,\n",
              " 0.75,\n",
              " 0.6944444444444444,\n",
              " 0.7222222222222222,\n",
              " 0.6944444444444444,\n",
              " 0.6944444444444444,\n",
              " 0.6944444444444444,\n",
              " 0.6944444444444444,\n",
              " 0.6944444444444444,\n",
              " 0.6666666666666666,\n",
              " 0.6666666666666666,\n",
              " 0.6666666666666666,\n",
              " 0.6666666666666666,\n",
              " 0.6666666666666666,\n",
              " 0.6666666666666666]"
            ]
          },
          "metadata": {
            "tags": []
          },
          "execution_count": 11
        }
      ]
    },
    {
      "cell_type": "code",
      "metadata": {
        "id": "G-M5-gTc8Ijm",
        "outputId": "ee5e22bf-7fbc-4a64-f488-6aa88d252525",
        "colab": {
          "base_uri": "https://localhost:8080/",
          "height": 514
        }
      },
      "source": [
        "# plot the value of K for KNN (x-axis) versus the cross-validated accuracy (y-axis)\n",
        "import matplotlib.pyplot as plt\n",
        "\n",
        "fig, ax = plt.subplots(figsize=(12,8))\n",
        "plt.plot(k_range, list_uniform_score, marker='x', label='Uniform Scores')\n",
        "plt.plot(k_range2, list_distance_score, marker='o', label='Distance Scores')\n",
        "plt.legend()\n",
        "plt.xlabel('K-Value')\n",
        "plt.ylabel('Scores')"
      ],
      "execution_count": 12,
      "outputs": [
        {
          "output_type": "execute_result",
          "data": {
            "text/plain": [
              "Text(0, 0.5, 'Scores')"
            ]
          },
          "metadata": {
            "tags": []
          },
          "execution_count": 12
        },
        {
          "output_type": "display_data",
          "data": {
            "image/png": "[encoded data removed]",
            "text/plain": [
              "<Figure size 864x576 with 1 Axes>"
            ]
          },
          "metadata": {
            "tags": [],
            "needs_background": "light"
          }
        }
      ]
    },
    {
      "cell_type": "markdown",
      "metadata": {
        "id": "9IRv63G0bt8T"
      },
      "source": [
        "Contoh hasil yang di harapkan :\n",
        "\n",
        "\n",
        "```\n",
        "Uniform Scores:\n",
        "[0.6944444444444444,\n",
        " 0.8055555555555556,\n",
        " 0.7222222222222222,\n",
        " 0.6666666666666666,\n",
        " 0.6388888888888888,\n",
        " 0.75,\n",
        " 0.6388888888888888,\n",
        " 0.6944444444444444,\n",
        " 0.6944444444444444,\n",
        " 0.7222222222222222,\n",
        " 0.6388888888888888,\n",
        " 0.6666666666666666,\n",
        " 0.6388888888888888,\n",
        " 0.6666666666666666,\n",
        " 0.6111111111111112,\n",
        " 0.6666666666666666,\n",
        " 0.6388888888888888,\n",
        " 0.6666666666666666,\n",
        " 0.6111111111111112]\n",
        "\n",
        "Distance scores:\n",
        "[0.75,\n",
        " 0.8333333333333334,\n",
        " 0.7777777777777778,\n",
        " 0.75,\n",
        " 0.7222222222222222,\n",
        " 0.75,\n",
        " 0.6944444444444444,\n",
        " 0.7222222222222222,\n",
        " 0.6944444444444444,\n",
        " 0.6944444444444444,\n",
        " 0.6944444444444444,\n",
        " 0.6944444444444444,\n",
        " 0.6944444444444444,\n",
        " 0.6666666666666666,\n",
        " 0.6666666666666666,\n",
        " 0.6666666666666666,\n",
        " 0.6666666666666666,\n",
        " 0.6666666666666666,\n",
        " 0.6666666666666666]\n",
        "```\n",
        "\n",
        "\n",
        "\n",
        " \n",
        "\n",
        "\n",
        "![alt text](https://drive.google.com/uc?id=1pppy_BWQsg5tdgOBEU1GgiHSklLLoimt)"
      ]
    },
    {
      "cell_type": "markdown",
      "metadata": {
        "id": "UnInuMmFgfQp"
      },
      "source": [
        "---"
      ]
    },
    {
      "cell_type": "markdown",
      "metadata": {
        "id": "1xGA6Usmbt8b"
      },
      "source": [
        "<h1>Soal 3: Pengaplikasian Model Linear Regression</h1>\n",
        "\n",
        "Applikasikan model linear regresi kedalam data berikut. Kemudian tunjukan parameter koefesien dan intercept dari model tersebut."
      ]
    },
    {
      "cell_type": "code",
      "metadata": {
        "id": "IEsbrAiybt8i"
      },
      "source": [
        "import numpy as np\n",
        "import matplotlib.pyplot as plt\n",
        "\n",
        "\n",
        "rng = np.random.RandomState(1)\n",
        "\n",
        "X = 10 * rng.rand(50, 4)\n",
        "y = np.array([  0.9826564 ,  49.40390035,  85.76013175,  29.17254633,\n",
        "        11.270054  ,  61.53852735, -19.52503854,  10.10230867,\n",
        "        82.03058206,  45.72660678,  82.09252575,  90.78872391,\n",
        "        67.94178098,  39.97492762, 124.78866966,  85.24615819,\n",
        "        85.68491086,  80.39481211,  14.54591581, 137.19722354,\n",
        "        85.04063428,  94.76681927,  84.64289989,  38.76421156,\n",
        "        47.33953927,  94.50853335,  77.3276567 ,  -9.77846805,\n",
        "        61.13434468,  42.12124052,  26.65634335, 120.41593333,\n",
        "       138.08132504, 103.33745675, 145.64447692,  19.54777986,\n",
        "        87.40631024, 111.47327389,  95.94874761, 146.34817502,\n",
        "       118.10333528,  56.85956484, 108.57660235, 114.30790247,\n",
        "        40.27107041,  73.83871008,  45.52217182,  -7.57752547,\n",
        "       147.81772162, 139.40285349])"
      ],
      "execution_count": null,
      "outputs": []
    },
    {
      "cell_type": "code",
      "metadata": {
        "id": "U7TRwOLYndQF"
      },
      "source": [
        "from sklearn.linear_model import LinearRegression\n",
        "model_lr = LinearRegression(fit_intercept=True)"
      ],
      "execution_count": null,
      "outputs": []
    },
    {
      "cell_type": "code",
      "metadata": {
        "id": "REe68lVFo1GD",
        "outputId": "376369b1-7d4b-47b0-bae4-ba02beb810a7",
        "colab": {
          "base_uri": "https://localhost:8080/",
          "height": 34
        }
      },
      "source": [
        "X.shape"
      ],
      "execution_count": null,
      "outputs": [
        {
          "output_type": "execute_result",
          "data": {
            "text/plain": [
              "(50, 4)"
            ]
          },
          "metadata": {
            "tags": []
          },
          "execution_count": 13
        }
      ]
    },
    {
      "cell_type": "code",
      "metadata": {
        "id": "NUNG64Jto65j",
        "outputId": "8dd0e427-0aa9-4f22-8fce-ab0317f9160f",
        "colab": {
          "base_uri": "https://localhost:8080/",
          "height": 34
        }
      },
      "source": [
        "model_lr.fit(X, y)"
      ],
      "execution_count": null,
      "outputs": [
        {
          "output_type": "execute_result",
          "data": {
            "text/plain": [
              "LinearRegression(copy_X=True, fit_intercept=True, n_jobs=None, normalize=False)"
            ]
          },
          "metadata": {
            "tags": []
          },
          "execution_count": 14
        }
      ]
    },
    {
      "cell_type": "code",
      "metadata": {
        "id": "J2trhFVQpGws"
      },
      "source": [
        "y_predict = model_lr.predict(X)"
      ],
      "execution_count": null,
      "outputs": []
    },
    {
      "cell_type": "code",
      "metadata": {
        "id": "qDLevrF2pRL7",
        "outputId": "b8991efd-a6fe-4029-9d75-7a2f20f200b7",
        "colab": {
          "base_uri": "https://localhost:8080/",
          "height": 34
        }
      },
      "source": [
        "model_lr.coef_"
      ],
      "execution_count": null,
      "outputs": [
        {
          "output_type": "execute_result",
          "data": {
            "text/plain": [
              "array([ 1.5, -5. ,  9. , 10. ])"
            ]
          },
          "metadata": {
            "tags": []
          },
          "execution_count": 18
        }
      ]
    },
    {
      "cell_type": "code",
      "metadata": {
        "id": "GG1zBnMUpcI7",
        "outputId": "b1777b62-d2f9-4e38-f302-3d63eeebab6e",
        "colab": {
          "base_uri": "https://localhost:8080/",
          "height": 34
        }
      },
      "source": [
        "model_lr.intercept_"
      ],
      "execution_count": null,
      "outputs": [
        {
          "output_type": "execute_result",
          "data": {
            "text/plain": [
              "0.5000000016247981"
            ]
          },
          "metadata": {
            "tags": []
          },
          "execution_count": 19
        }
      ]
    }
  ]
}
