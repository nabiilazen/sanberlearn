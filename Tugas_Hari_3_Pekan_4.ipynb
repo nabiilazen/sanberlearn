{
  "nbformat": 4,
  "nbformat_minor": 0,
  "metadata": {
    "kernelspec": {
      "display_name": "Python 3",
      "language": "python",
      "name": "python3"
    },
    "language_info": {
      "codemirror_mode": {
        "name": "ipython",
        "version": 3
      },
      "file_extension": ".py",
      "mimetype": "text/x-python",
      "name": "python",
      "nbconvert_exporter": "python",
      "pygments_lexer": "ipython3",
      "version": "3.7.6"
    },
    "colab": {
      "name": "Tugas Hari 3 Pekan 4.ipynb",
      "provenance": [],
      "collapsed_sections": []
    }
  },
  "cells": [
    {
      "cell_type": "markdown",
      "metadata": {
        "id": "PrQVcF-ldGWQ"
      },
      "source": [
        "<h1> Soal 1: Pemahaman Tentang Model Evaluasi</h1>\n",
        "\n",
        "Jawab pertanyaan di bawah ini dengan bahasa masing-masing?\n",
        "\n",
        "1. Apa perbedaan antara data latih, data validasi, dan data test?\n",
        "2. Bagaimana cara kita menilai performa suatu model?\n",
        "3. Apa itu Confusion Matrix? Jelaskan secara lengkap!\n",
        "4. Apa itu Classification Report dari sklearn?"
      ]
    },
    {
      "cell_type": "markdown",
      "metadata": {
        "id": "sr6D5UIhgpwO"
      },
      "source": [
        "Jawab:\n",
        "1. Data Latih: data yang digunakan untuk training model\n",
        "\n",
        "  Data Validasi: digunakan untuk proses validasi model dan mencegah overfitting.\n",
        "\n",
        "  Data Test: digunakan untuk testing model, sebagai simulasi penggunaan model pada dunia nyata. Data testing tidak boleh pernah dilihat oleh model sebelumnya.\n",
        "\n",
        "2. kita jangan memakai data yg sama dengan data yg kita latih. kita harus memiliki data lain yg tidak kita latih kemudian kita jadikan data test. cara mendapatkan data testnya bisa dengan menggunakan function sklearn yaitu train_test_split yg fungsinya mensplit data kita menjadi data traning dan data testing\n",
        "\n",
        "3. Confusion matrix juga sering disebut error matrix. Pada dasarnya confusion matrix memberikan informasi perbandingan hasil klasifikasi yang dilakukan oleh sistem (model) dengan hasil klasifikasi sebenarnya. Confusion matrix berbentuk tabel matriks yang menggambarkan kinerja model klasifikasi pada serangkaian data uji yang nilai sebenarnya diketahui. Terdapat 4 istilah sebagai representasi hasil proses klasifikasi pada confusion matrix. Keempat istilah tersebut adalah True Positive (TP), True Negative (TN), False Positive (FP) dan False Negative (FN).\n",
        "\n",
        "4. untuk melakukan report dari hasil prediksi modelling. dimana reportnya berdasarkan confusion matrix (precision, recall, f1score). "
      ]
    },
    {
      "cell_type": "markdown",
      "metadata": {
        "id": "uY-s7-KDgrkV"
      },
      "source": [
        "---"
      ]
    },
    {
      "cell_type": "markdown",
      "metadata": {
        "id": "Fv2TVsgAdGWY"
      },
      "source": [
        "<h1>Soal 2: Aplikasi Model Evaluasi</h1>\n",
        "\n",
        "Kali ini kita akan menggunakan data untuk memprediksi kelangsungan hidup pasien yang telah mengalami operasi payudara. Dengan informasi yang dimiliki terkait pasien, kita akan membuat model untuk memprediksi apakah pasien akan bertahan hidup dalam waktu lebih dari 5 tahun atau tidak.\n",
        "\n",
        "Lebih Lengkapnya kalian bisa membaca informasi tentang dataset di link berikut: https://raw.githubusercontent.com/jbrownlee/Datasets/master/haberman.names\n",
        "\n",
        "Buat model Klasifikasi (Model/Algoritma Bebas) untuk memprediksi status pasien dengan ketentuan sebagai berikut:\n",
        "\n",
        "1. Bagi kedua data ini menjadi data training dan data test dengan test_size=0.25.\n",
        "3. Pelajar tentang metrics roc_auc_score kemudian buatlah model dan evaluasi dengan menggunakan teknik cross-validation dengan scoring 'roc_auc'. Baca https://scikit-learn.org/stable/modules/generated/sklearn.model_selection.cross_val_score.html untuk menggunakan metric roc_auc saat cross-validation.\n",
        "3. Berapa score rata2 dari model dengan teknik cross-validation tersebut?\n",
        "4. Prediksi data test dengan model yang telah kalian buat!\n",
        "5. Bagaimana hasil confusion matrix dari hasil prediksi tersebut?\n",
        "6. Bagaimana classification report dari hasil prediksi tersebut?\n",
        "5. Seberapa baik model anda dalam memprediksi seorang pasien mempunyai status positive?\n",
        "6. Seberapa baik model anda dalam memprediksi seorang pasien mempunyai status negatif?"
      ]
    },
    {
      "cell_type": "code",
      "metadata": {
        "id": "g4UqaWyPdGWj"
      },
      "source": [
        "import pandas as pd\n",
        "\n",
        "url = 'https://raw.githubusercontent.com/jbrownlee/Datasets/master/haberman.csv'\n",
        "list_cols = ['Age', \"Patient's Years\", \"N_positive_ax\", \"survival_status\"]\n",
        "df = pd.read_csv(url, names=list_cols)"
      ],
      "execution_count": null,
      "outputs": []
    },
    {
      "cell_type": "code",
      "metadata": {
        "id": "YrbPNGtHdGXV",
        "outputId": "3193fa1a-5697-4f05-da61-a625fd3191e3",
        "colab": {
          "base_uri": "https://localhost:8080/",
          "height": 204
        }
      },
      "source": [
        "df.head()"
      ],
      "execution_count": null,
      "outputs": [
        {
          "output_type": "execute_result",
          "data": {
            "text/html": [
              "<div>\n",
              "<style scoped>\n",
              "    .dataframe tbody tr th:only-of-type {\n",
              "        vertical-align: middle;\n",
              "    }\n",
              "\n",
              "    .dataframe tbody tr th {\n",
              "        vertical-align: top;\n",
              "    }\n",
              "\n",
              "    .dataframe thead th {\n",
              "        text-align: right;\n",
              "    }\n",
              "</style>\n",
              "<table border=\"1\" class=\"dataframe\">\n",
              "  <thead>\n",
              "    <tr style=\"text-align: right;\">\n",
              "      <th></th>\n",
              "      <th>Age</th>\n",
              "      <th>Patient's Years</th>\n",
              "      <th>N_positive_ax</th>\n",
              "      <th>survival_status</th>\n",
              "    </tr>\n",
              "  </thead>\n",
              "  <tbody>\n",
              "    <tr>\n",
              "      <th>0</th>\n",
              "      <td>30</td>\n",
              "      <td>64</td>\n",
              "      <td>1</td>\n",
              "      <td>1</td>\n",
              "    </tr>\n",
              "    <tr>\n",
              "      <th>1</th>\n",
              "      <td>30</td>\n",
              "      <td>62</td>\n",
              "      <td>3</td>\n",
              "      <td>1</td>\n",
              "    </tr>\n",
              "    <tr>\n",
              "      <th>2</th>\n",
              "      <td>30</td>\n",
              "      <td>65</td>\n",
              "      <td>0</td>\n",
              "      <td>1</td>\n",
              "    </tr>\n",
              "    <tr>\n",
              "      <th>3</th>\n",
              "      <td>31</td>\n",
              "      <td>59</td>\n",
              "      <td>2</td>\n",
              "      <td>1</td>\n",
              "    </tr>\n",
              "    <tr>\n",
              "      <th>4</th>\n",
              "      <td>31</td>\n",
              "      <td>65</td>\n",
              "      <td>4</td>\n",
              "      <td>1</td>\n",
              "    </tr>\n",
              "  </tbody>\n",
              "</table>\n",
              "</div>"
            ],
            "text/plain": [
              "   Age  Patient's Years  N_positive_ax  survival_status\n",
              "0   30               64              1                1\n",
              "1   30               62              3                1\n",
              "2   30               65              0                1\n",
              "3   31               59              2                1\n",
              "4   31               65              4                1"
            ]
          },
          "metadata": {
            "tags": []
          },
          "execution_count": 317
        }
      ]
    },
    {
      "cell_type": "code",
      "metadata": {
        "id": "-dxYNPg7dGX4",
        "outputId": "f79adcfc-7369-4de3-e2c5-6d7dedd4fbad",
        "colab": {
          "base_uri": "https://localhost:8080/",
          "height": 68
        }
      },
      "source": [
        "df['survival_status'].value_counts()"
      ],
      "execution_count": null,
      "outputs": [
        {
          "output_type": "execute_result",
          "data": {
            "text/plain": [
              "1    225\n",
              "2     81\n",
              "Name: survival_status, dtype: int64"
            ]
          },
          "metadata": {
            "tags": []
          },
          "execution_count": 318
        }
      ]
    },
    {
      "cell_type": "code",
      "metadata": {
        "id": "8W2amvZgdGYX"
      },
      "source": [
        "# Code here\n",
        "#import class algorithm\n",
        "from sklearn.neighbors import KNeighborsClassifier\n",
        "from sklearn.model_selection import train_test_split\n",
        "\n",
        "#splitting data feature and data target\n",
        "x = df.drop('survival_status', axis=1)\n",
        "y = df['survival_status']\n",
        "\n",
        "#Bagi kedua data menjadi data training dan data test dengan test_size=0.25.\n",
        "x_train, x_test, y_train, y_test = train_test_split(x, y, test_size=0.25, random_state=21, stratify=y)"
      ],
      "execution_count": null,
      "outputs": []
    },
    {
      "cell_type": "code",
      "metadata": {
        "id": "07ytmCdtM4KC",
        "outputId": "cfc26bf6-55c8-4412-e7c9-1cf32e66fc66",
        "colab": {
          "base_uri": "https://localhost:8080/",
          "height": 34
        }
      },
      "source": [
        "print(x.shape, x_train.shape, x_test.shape, y_train.shape, y_test.shape)"
      ],
      "execution_count": null,
      "outputs": [
        {
          "output_type": "stream",
          "text": [
            "(306, 3) (229, 3) (77, 3) (229,) (77,)\n"
          ],
          "name": "stdout"
        }
      ]
    },
    {
      "cell_type": "code",
      "metadata": {
        "id": "LTnxep5dM7uz",
        "outputId": "9b9ab44a-3f49-4195-95a6-5d2ddc75ae4a",
        "colab": {
          "base_uri": "https://localhost:8080/",
          "height": 68
        }
      },
      "source": [
        "#membuat objek model\n",
        "model_knn = KNeighborsClassifier(n_neighbors=2)\n",
        "model_knn.fit(x_train, y_train)"
      ],
      "execution_count": null,
      "outputs": [
        {
          "output_type": "execute_result",
          "data": {
            "text/plain": [
              "KNeighborsClassifier(algorithm='auto', leaf_size=30, metric='minkowski',\n",
              "                     metric_params=None, n_jobs=None, n_neighbors=2, p=2,\n",
              "                     weights='uniform')"
            ]
          },
          "metadata": {
            "tags": []
          },
          "execution_count": 321
        }
      ]
    },
    {
      "cell_type": "code",
      "metadata": {
        "id": "R-KzmTNFM7ys",
        "outputId": "cdff7c5f-2ee0-4832-9716-e4524e534a51",
        "colab": {
          "base_uri": "https://localhost:8080/",
          "height": 34
        }
      },
      "source": [
        "from sklearn.model_selection import cross_val_score\n",
        "\n",
        "#model dan evaluasi dengan menggunakan teknik cross-validation dengan scoring 'roc_auc'\n",
        "model_knn = KNeighborsClassifier(n_neighbors=2)\n",
        "cv_result = cross_val_score(model_knn, x, y, cv=5, scoring='roc_auc')\n",
        "cv_result"
      ],
      "execution_count": null,
      "outputs": [
        {
          "output_type": "execute_result",
          "data": {
            "text/plain": [
              "array([0.65555556, 0.54166667, 0.61041667, 0.63194444, 0.63888889])"
            ]
          },
          "metadata": {
            "tags": []
          },
          "execution_count": 322
        }
      ]
    },
    {
      "cell_type": "code",
      "metadata": {
        "id": "ECSvCG40NPPb",
        "outputId": "c83391fb-12c9-44c5-8b19-0f5cc7070b3c",
        "colab": {
          "base_uri": "https://localhost:8080/",
          "height": 34
        }
      },
      "source": [
        "#rata-rata dari model dengan teknik cross-validation\n",
        "cv_result.mean()"
      ],
      "execution_count": null,
      "outputs": [
        {
          "output_type": "execute_result",
          "data": {
            "text/plain": [
              "0.6156944444444444"
            ]
          },
          "metadata": {
            "tags": []
          },
          "execution_count": 323
        }
      ]
    },
    {
      "cell_type": "code",
      "metadata": {
        "id": "p0D8zw0HNPVK",
        "outputId": "32192207-cc91-40ce-dc77-f46e220677f0",
        "colab": {
          "base_uri": "https://localhost:8080/",
          "height": 51
        }
      },
      "source": [
        "from sklearn.metrics import confusion_matrix, classification_report\n",
        "\n",
        "#confusion_matrix dari hasil prediksi\n",
        "confusion_matrix(y_test, y_predik)"
      ],
      "execution_count": null,
      "outputs": [
        {
          "output_type": "execute_result",
          "data": {
            "text/plain": [
              "array([[50,  7],\n",
              "       [14,  6]])"
            ]
          },
          "metadata": {
            "tags": []
          },
          "execution_count": 324
        }
      ]
    },
    {
      "cell_type": "code",
      "metadata": {
        "id": "4iudZP4LNWyP",
        "outputId": "9bac012b-618e-4ae7-f126-a5fb9c77396c",
        "colab": {
          "base_uri": "https://localhost:8080/",
          "height": 170
        }
      },
      "source": [
        "#classification report dari hasil prediksi\n",
        "print(classification_report(y_test, y_predik))"
      ],
      "execution_count": null,
      "outputs": [
        {
          "output_type": "stream",
          "text": [
            "              precision    recall  f1-score   support\n",
            "\n",
            "           1       0.78      0.88      0.83        57\n",
            "           2       0.46      0.30      0.36        20\n",
            "\n",
            "    accuracy                           0.73        77\n",
            "   macro avg       0.62      0.59      0.60        77\n",
            "weighted avg       0.70      0.73      0.71        77\n",
            "\n"
          ],
          "name": "stdout"
        }
      ]
    },
    {
      "cell_type": "code",
      "metadata": {
        "id": "qWatrKwdNbP-",
        "outputId": "d00d12e7-26a4-474e-a50a-e0b7a263f110",
        "colab": {
          "base_uri": "https://localhost:8080/",
          "height": 119
        }
      },
      "source": [
        "TP = 50\n",
        "FN = 7\n",
        "FP = 14\n",
        "TN = 6\n",
        "\n",
        "#Seberapa baik model dalam memprediksi seorang pasien mempunyai status positive\n",
        "precision = TP/(TP+FP)\n",
        "print('precision', precision)\n",
        "print('='*50)\n",
        "\n",
        "recall = TP/(TP+FN)\n",
        "print('recall' ,recall)\n",
        "print('='*50)\n",
        "\n",
        "f1score = 2*precision*recall/(precision + recall)\n",
        "print('f1score' ,f1score)\n",
        "print('='*50)"
      ],
      "execution_count": null,
      "outputs": [
        {
          "output_type": "stream",
          "text": [
            "precision 0.78125\n",
            "==================================================\n",
            "recall 0.8771929824561403\n",
            "==================================================\n",
            "f1score 0.8264462809917354\n",
            "==================================================\n"
          ],
          "name": "stdout"
        }
      ]
    },
    {
      "cell_type": "code",
      "metadata": {
        "id": "_7vqv0qMNdAg",
        "outputId": "ca97434c-7104-4504-8c24-c79a6890deea",
        "colab": {
          "base_uri": "https://localhost:8080/",
          "height": 119
        }
      },
      "source": [
        "#Seberapa baik model dalam memprediksi seorang pasien mempunyai status negative\n",
        "precision = TN/(TN+FN)\n",
        "print('precision', precision)\n",
        "print('='*50)\n",
        "\n",
        "recall = TN/(TN+FP)\n",
        "print('recall' ,recall)\n",
        "print('='*50)\n",
        "\n",
        "f1score = (precision*recall*2)/(precision+recall)\n",
        "print('f1score' ,f1score)\n",
        "print('='*50)"
      ],
      "execution_count": null,
      "outputs": [
        {
          "output_type": "stream",
          "text": [
            "precision 0.46153846153846156\n",
            "==================================================\n",
            "recall 0.3\n",
            "==================================================\n",
            "f1score 0.3636363636363637\n",
            "==================================================\n"
          ],
          "name": "stdout"
        }
      ]
    },
    {
      "cell_type": "markdown",
      "metadata": {
        "id": "I6v_dgoN-7wL"
      },
      "source": [
        "---"
      ]
    },
    {
      "cell_type": "markdown",
      "metadata": {
        "id": "teekoyIw--g2"
      },
      "source": [
        "<h1> Soal 3: Pemahaman Tentang Model Selection</h1>\n",
        "\n",
        "Jelaskan dengan bahasa sendiri!\n",
        "\n",
        "1. Apa itu Bias dan Variance?\n",
        "2. Apa itu Overfitting dan Underfitting?\n",
        "3. Apa yang bisa kita lakukan untuk mengatur kompleksitas dari model?\n",
        "4. Bagaimana model yang baik?\n",
        "5. Kapan kita menggunakan GridSearchcv dan kapan menggunakan RandomizedSearchCV?"
      ]
    },
    {
      "cell_type": "markdown",
      "metadata": {
        "id": "4a1l4RNf_FcU"
      },
      "source": [
        "Jawab:\n",
        "\n",
        "1. Bias = error yang disebabkan oleh suatu perbedaan hasil prediksi dengan nilai sebenarnya (modelnya terlalu simple). Variance = Model yang terlalu attention terhadap data training dan tidak bisa mengeneralisir terhadap data yang belum mereka lihat (modelnya terlalu kompleks)\n",
        "\n",
        "2. Overfitting = suatu keadaan dimana suatu data itu terlalu belajar terhadap data training sehingga terlalu menangkap detail dan noise. Underfitting = suatu keadaan dimana modelnya buruk ketika belajar dalam data training\n",
        "\n",
        "3.  dengan cara mencari nilai tengah/trade off dari sebuah model\n",
        "\n",
        "4. model yang baik adalah model yang memiliki error bias dan variance yang kecil\n",
        "\n",
        "5. GridSearchCV digunakan ketika kita ingin melakukan semua kombinasi hyperparameter. RandomizedSearchCV digunakan untuk melakukan beberapa kombinasi parameter saja"
      ]
    },
    {
      "cell_type": "markdown",
      "metadata": {
        "id": "Svj_cgxF_IZv"
      },
      "source": [
        "---"
      ]
    },
    {
      "cell_type": "markdown",
      "metadata": {
        "id": "Hkh-PeRL_LZp"
      },
      "source": [
        "<h1> Soal 4: Aplikasi Model Selection</h1>\n",
        "\n",
        "1. Bagi kedua data berikut ini menjadi data training dan data test dengan test_size=0.25.\n",
        "2. Gunakan algoritma KNN sebagai model classifier.\n",
        "3. Gunakan fungsi GridSearchCV untuk hyperparameter tuning dan model selection.\n",
        "4. jumlah fold bebas!, gunakan scoring 'roc_auc'\n",
        "5. Definisikan kombinasi hyperparameter untuk model selection dengan GridSearchCV. kombinasi Hyperparameter bebas, baca lagi dokumentasi KNN di link berikut https://scikit-learn.org/stable/modules/generated/sklearn.neighbors.KNeighborsClassifier.html untuk memahami lagi jenis2 hyperparameter di algorithma KNN.\n",
        "6. Latih model terhadap data training.\n",
        "7. Apa hyperparameter terbaik untuk kombinasi hyperparameter kalian?\n",
        "8. Berapa score validasi terbaik dari model tersebut?\n",
        "9. Prediksi probabilitasi output dari model yang telah di buat terhadap data test. note : gunakan method .predict_proba() untuk menghasilkan output probabilitas\n",
        "10. Perhatikan bahwa hasil prediksi ada 2, dimana masing2 adalah nilai probabilitas untuk setiap class label. Ambil nilai probabilitas pasien phositive meninggal dalam waktu kurang dari 5 tahun. note : gunakan bantuan attirubte .classes_ untuk mengetahui urutan label dari hasil prediksi probabilitas.\n",
        "11. Berapa nilai score roc_auc untuk data test?\n",
        "12. Apakah model anda termasuk baik, overtting, atau underfitting?\n",
        "13. Ulangi tahap di atas namun kali ini menggunakan algoritma DecisionTreeClassifier dan kalian bisa menggunakan RandomizedSearchCV apabila process training lama. pelajari algoritma DecisionTreeClassifier di linkberikut: https://scikit-learn.org/stable/modules/generated/sklearn.tree.DecisionTreeClassifier.html?highlight=decisiontreeclassifier#sklearn.tree.DecisionTreeClassifier\n",
        "14. Bandingkan scorenya dengan Algoritma KNN, mana yang lebih baik?\n",
        "\n",
        "Note : Data Science adalah experiment, sangat di dimungkinkan memerlukan beberapa kali percobaan untuk mendapatkan hasil yang terbaik! Happy Coding :)"
      ]
    },
    {
      "cell_type": "code",
      "metadata": {
        "id": "l_zK8Mqb-9Z6"
      },
      "source": [
        "import pandas as pd\n",
        "\n",
        "url = 'https://raw.githubusercontent.com/jbrownlee/Datasets/master/haberman.csv'\n",
        "list_cols = ['Age', \"Patient's Years\", \"N_positive_ax\", \"survival_status\"]\n",
        "df = pd.read_csv(url, names=list_cols)"
      ],
      "execution_count": null,
      "outputs": []
    },
    {
      "cell_type": "code",
      "metadata": {
        "id": "qb-AD43R_V_d",
        "outputId": "0927e1b4-7bd7-4f87-df11-2b56652e6d27",
        "colab": {
          "base_uri": "https://localhost:8080/",
          "height": 204
        }
      },
      "source": [
        "df.head()"
      ],
      "execution_count": null,
      "outputs": [
        {
          "output_type": "execute_result",
          "data": {
            "text/html": [
              "<div>\n",
              "<style scoped>\n",
              "    .dataframe tbody tr th:only-of-type {\n",
              "        vertical-align: middle;\n",
              "    }\n",
              "\n",
              "    .dataframe tbody tr th {\n",
              "        vertical-align: top;\n",
              "    }\n",
              "\n",
              "    .dataframe thead th {\n",
              "        text-align: right;\n",
              "    }\n",
              "</style>\n",
              "<table border=\"1\" class=\"dataframe\">\n",
              "  <thead>\n",
              "    <tr style=\"text-align: right;\">\n",
              "      <th></th>\n",
              "      <th>Age</th>\n",
              "      <th>Patient's Years</th>\n",
              "      <th>N_positive_ax</th>\n",
              "      <th>survival_status</th>\n",
              "    </tr>\n",
              "  </thead>\n",
              "  <tbody>\n",
              "    <tr>\n",
              "      <th>0</th>\n",
              "      <td>30</td>\n",
              "      <td>64</td>\n",
              "      <td>1</td>\n",
              "      <td>1</td>\n",
              "    </tr>\n",
              "    <tr>\n",
              "      <th>1</th>\n",
              "      <td>30</td>\n",
              "      <td>62</td>\n",
              "      <td>3</td>\n",
              "      <td>1</td>\n",
              "    </tr>\n",
              "    <tr>\n",
              "      <th>2</th>\n",
              "      <td>30</td>\n",
              "      <td>65</td>\n",
              "      <td>0</td>\n",
              "      <td>1</td>\n",
              "    </tr>\n",
              "    <tr>\n",
              "      <th>3</th>\n",
              "      <td>31</td>\n",
              "      <td>59</td>\n",
              "      <td>2</td>\n",
              "      <td>1</td>\n",
              "    </tr>\n",
              "    <tr>\n",
              "      <th>4</th>\n",
              "      <td>31</td>\n",
              "      <td>65</td>\n",
              "      <td>4</td>\n",
              "      <td>1</td>\n",
              "    </tr>\n",
              "  </tbody>\n",
              "</table>\n",
              "</div>"
            ],
            "text/plain": [
              "   Age  Patient's Years  N_positive_ax  survival_status\n",
              "0   30               64              1                1\n",
              "1   30               62              3                1\n",
              "2   30               65              0                1\n",
              "3   31               59              2                1\n",
              "4   31               65              4                1"
            ]
          },
          "metadata": {
            "tags": []
          },
          "execution_count": 305
        }
      ]
    },
    {
      "cell_type": "code",
      "metadata": {
        "id": "znc1dEGO_XU2"
      },
      "source": [
        "# Code here\n",
        "#import class algorithm\n",
        "from sklearn.neighbors import KNeighborsClassifier\n",
        "from sklearn.model_selection import train_test_split\n",
        "\n",
        "#splitting data feature and data target\n",
        "x = df.drop('survival_status', axis=1)\n",
        "y = df['survival_status']\n",
        "\n",
        "#Bagi kedua data menjadi data training dan data test dengan test_size=0.25.\n",
        "x_train, x_test, y_train, y_test = train_test_split(x, y, test_size=0.25, random_state=21, stratify=y)"
      ],
      "execution_count": null,
      "outputs": []
    },
    {
      "cell_type": "code",
      "metadata": {
        "id": "yO8iCjcX472q",
        "outputId": "9e017a2a-5c3e-450c-c876-37e3df39bf11",
        "colab": {
          "base_uri": "https://localhost:8080/",
          "height": 34
        }
      },
      "source": [
        "print(x.shape, x_train.shape, x_test.shape, y_train.shape, y_test.shape)"
      ],
      "execution_count": null,
      "outputs": [
        {
          "output_type": "stream",
          "text": [
            "(306, 3) (229, 3) (77, 3) (229,) (77,)\n"
          ],
          "name": "stdout"
        }
      ]
    },
    {
      "cell_type": "code",
      "metadata": {
        "id": "RN9cm5M95LV2",
        "outputId": "50800003-8ced-421e-9361-b754aabf69d5",
        "colab": {
          "base_uri": "https://localhost:8080/",
          "height": 204
        }
      },
      "source": [
        "from sklearn.model_selection import GridSearchCV, RandomizedSearchCV\n",
        "import numpy as np\n",
        "\n",
        "#algoritma KNN sebagai model classifier\n",
        "model = KNeighborsClassifier()\n",
        "param_grid = {'n_neighbors':np.arange(5, 10), 'weights':['distance', 'uniform']}\n",
        "gscv = GridSearchCV(model, param_grid=param_grid, scoring='roc_auc', cv=5)\n",
        "\n",
        "#latih model thd data training\n",
        "gscv.fit(x_train, y_train)"
      ],
      "execution_count": null,
      "outputs": [
        {
          "output_type": "execute_result",
          "data": {
            "text/plain": [
              "GridSearchCV(cv=5, error_score=nan,\n",
              "             estimator=KNeighborsClassifier(algorithm='auto', leaf_size=30,\n",
              "                                            metric='minkowski',\n",
              "                                            metric_params=None, n_jobs=None,\n",
              "                                            n_neighbors=5, p=2,\n",
              "                                            weights='uniform'),\n",
              "             iid='deprecated', n_jobs=None,\n",
              "             param_grid={'n_neighbors': array([5, 6, 7, 8, 9]),\n",
              "                         'weights': ['distance', 'uniform']},\n",
              "             pre_dispatch='2*n_jobs', refit=True, return_train_score=False,\n",
              "             scoring='roc_auc', verbose=0)"
            ]
          },
          "metadata": {
            "tags": []
          },
          "execution_count": 308
        }
      ]
    },
    {
      "cell_type": "code",
      "metadata": {
        "id": "E__lOxb25goH",
        "outputId": "75727573-7b49-4a89-a741-14e9056b2624",
        "colab": {
          "base_uri": "https://localhost:8080/",
          "height": 34
        }
      },
      "source": [
        "#hyperparameter terbaik untuk kombinasi hyperparameter\n",
        "gscv.best_params_"
      ],
      "execution_count": null,
      "outputs": [
        {
          "output_type": "execute_result",
          "data": {
            "text/plain": [
              "{'n_neighbors': 9, 'weights': 'distance'}"
            ]
          },
          "metadata": {
            "tags": []
          },
          "execution_count": 309
        }
      ]
    },
    {
      "cell_type": "code",
      "metadata": {
        "id": "TkY-Pgxn5v-u",
        "outputId": "586e0cbe-7262-4133-c01f-f5f08dc62b02",
        "colab": {
          "base_uri": "https://localhost:8080/",
          "height": 34
        }
      },
      "source": [
        "#score validasi terbaik \n",
        "gscv.best_score_"
      ],
      "execution_count": null,
      "outputs": [
        {
          "output_type": "execute_result",
          "data": {
            "text/plain": [
              "0.6963749485808309"
            ]
          },
          "metadata": {
            "tags": []
          },
          "execution_count": 310
        }
      ]
    },
    {
      "cell_type": "code",
      "metadata": {
        "id": "sOwcz6ch5yQE",
        "outputId": "84f58898-6d7b-4caf-d81b-ddcdca84dded",
        "colab": {
          "base_uri": "https://localhost:8080/",
          "height": 1000
        }
      },
      "source": [
        "print(gscv.predict_proba(x_test))"
      ],
      "execution_count": null,
      "outputs": [
        {
          "output_type": "stream",
          "text": [
            "[[0.76640791 0.23359209]\n",
            " [0.8102686  0.1897314 ]\n",
            " [0.66587193 0.33412807]\n",
            " [0.         1.        ]\n",
            " [0.63561764 0.36438236]\n",
            " [1.         0.        ]\n",
            " [0.56890607 0.43109393]\n",
            " [0.74925211 0.25074789]\n",
            " [0.86748364 0.13251636]\n",
            " [0.63561764 0.36438236]\n",
            " [0.08456511 0.91543489]\n",
            " [0.93701007 0.06298993]\n",
            " [0.74975557 0.25024443]\n",
            " [1.         0.        ]\n",
            " [0.85599152 0.14400848]\n",
            " [0.67505757 0.32494243]\n",
            " [0.86486004 0.13513996]\n",
            " [0.70977071 0.29022929]\n",
            " [1.         0.        ]\n",
            " [0.42283057 0.57716943]\n",
            " [0.58663027 0.41336973]\n",
            " [0.85599152 0.14400848]\n",
            " [1.         0.        ]\n",
            " [0.38560065 0.61439935]\n",
            " [0.93181605 0.06818395]\n",
            " [1.         0.        ]\n",
            " [0.67699442 0.32300558]\n",
            " [0.61450726 0.38549274]\n",
            " [0.49787749 0.50212251]\n",
            " [0.77022146 0.22977854]\n",
            " [1.         0.        ]\n",
            " [0.         1.        ]\n",
            " [0.70920083 0.29079917]\n",
            " [0.91620233 0.08379767]\n",
            " [0.25035954 0.74964046]\n",
            " [0.79728995 0.20271005]\n",
            " [0.88682464 0.11317536]\n",
            " [0.90426252 0.09573748]\n",
            " [0.51609136 0.48390864]\n",
            " [0.79950313 0.20049687]\n",
            " [0.4663574  0.5336426 ]\n",
            " [0.59621125 0.40378875]\n",
            " [0.74160185 0.25839815]\n",
            " [0.49059582 0.50940418]\n",
            " [0.87156043 0.12843957]\n",
            " [1.         0.        ]\n",
            " [1.         0.        ]\n",
            " [0.91678933 0.08321067]\n",
            " [0.87330433 0.12669567]\n",
            " [0.10850447 0.89149553]\n",
            " [0.74356248 0.25643752]\n",
            " [0.45351283 0.54648717]\n",
            " [0.56739356 0.43260644]\n",
            " [0.89604495 0.10395505]\n",
            " [0.54101941 0.45898059]\n",
            " [1.         0.        ]\n",
            " [0.74533272 0.25466728]\n",
            " [0.55345835 0.44654165]\n",
            " [1.         0.        ]\n",
            " [0.10424717 0.89575283]\n",
            " [0.55048243 0.44951757]\n",
            " [0.76955754 0.23044246]\n",
            " [0.79235698 0.20764302]\n",
            " [1.         0.        ]\n",
            " [0.76039498 0.23960502]\n",
            " [0.81119487 0.18880513]\n",
            " [0.67281102 0.32718898]\n",
            " [0.89311194 0.10688806]\n",
            " [0.33567466 0.66432534]\n",
            " [1.         0.        ]\n",
            " [0.31216633 0.68783367]\n",
            " [0.76167484 0.23832516]\n",
            " [1.         0.        ]\n",
            " [0.12067642 0.87932358]\n",
            " [0.7602572  0.2397428 ]\n",
            " [0.91630097 0.08369903]\n",
            " [0.36547026 0.63452974]]\n"
          ],
          "name": "stdout"
        }
      ]
    },
    {
      "cell_type": "code",
      "metadata": {
        "id": "At_z4N4YArPh",
        "outputId": "0abf380d-4c06-4234-877a-7e9545d38fa8",
        "colab": {
          "base_uri": "https://localhost:8080/",
          "height": 34
        }
      },
      "source": [
        "from sklearn.metrics import roc_auc_score\n",
        "\n",
        "y_score = gscv.predict(x_test)\n",
        "roc_auc_score(y_test, y_score)"
      ],
      "execution_count": null,
      "outputs": [
        {
          "output_type": "execute_result",
          "data": {
            "text/plain": [
              "0.5960526315789474"
            ]
          },
          "metadata": {
            "tags": []
          },
          "execution_count": 289
        }
      ]
    },
    {
      "cell_type": "code",
      "metadata": {
        "id": "5xmsxeUI8Cry",
        "outputId": "c2311e56-4371-4172-9205-a74da29f0a19",
        "colab": {
          "base_uri": "https://localhost:8080/",
          "height": 289
        }
      },
      "source": [
        "probability_class_1 = gscv.predict_proba(x_test)[:, 0]\n",
        "probability_class_1"
      ],
      "execution_count": null,
      "outputs": [
        {
          "output_type": "execute_result",
          "data": {
            "text/plain": [
              "array([0.76640791, 0.8102686 , 0.66587193, 0.        , 0.63561764,\n",
              "       1.        , 0.56890607, 0.74925211, 0.86748364, 0.63561764,\n",
              "       0.08456511, 0.93701007, 0.74975557, 1.        , 0.85599152,\n",
              "       0.67505757, 0.86486004, 0.70977071, 1.        , 0.42283057,\n",
              "       0.58663027, 0.85599152, 1.        , 0.38560065, 0.93181605,\n",
              "       1.        , 0.67699442, 0.61450726, 0.49787749, 0.77022146,\n",
              "       1.        , 0.        , 0.70920083, 0.91620233, 0.25035954,\n",
              "       0.79728995, 0.88682464, 0.90426252, 0.51609136, 0.79950313,\n",
              "       0.4663574 , 0.59621125, 0.74160185, 0.49059582, 0.87156043,\n",
              "       1.        , 1.        , 0.91678933, 0.87330433, 0.10850447,\n",
              "       0.74356248, 0.45351283, 0.56739356, 0.89604495, 0.54101941,\n",
              "       1.        , 0.74533272, 0.55345835, 1.        , 0.10424717,\n",
              "       0.55048243, 0.76955754, 0.79235698, 1.        , 0.76039498,\n",
              "       0.81119487, 0.67281102, 0.89311194, 0.33567466, 1.        ,\n",
              "       0.31216633, 0.76167484, 1.        , 0.12067642, 0.7602572 ,\n",
              "       0.91630097, 0.36547026])"
            ]
          },
          "metadata": {
            "tags": []
          },
          "execution_count": 312
        }
      ]
    },
    {
      "cell_type": "code",
      "metadata": {
        "id": "wit9uQkF8JYJ",
        "outputId": "9f193a98-b279-4be8-f35d-ed6dbfe9e27b",
        "colab": {
          "base_uri": "https://localhost:8080/",
          "height": 289
        }
      },
      "source": [
        "probability_class_2 = gscv.predict_proba(x_test)[:, 1]\n",
        "probability_class_2"
      ],
      "execution_count": null,
      "outputs": [
        {
          "output_type": "execute_result",
          "data": {
            "text/plain": [
              "array([0.23359209, 0.1897314 , 0.33412807, 1.        , 0.36438236,\n",
              "       0.        , 0.43109393, 0.25074789, 0.13251636, 0.36438236,\n",
              "       0.91543489, 0.06298993, 0.25024443, 0.        , 0.14400848,\n",
              "       0.32494243, 0.13513996, 0.29022929, 0.        , 0.57716943,\n",
              "       0.41336973, 0.14400848, 0.        , 0.61439935, 0.06818395,\n",
              "       0.        , 0.32300558, 0.38549274, 0.50212251, 0.22977854,\n",
              "       0.        , 1.        , 0.29079917, 0.08379767, 0.74964046,\n",
              "       0.20271005, 0.11317536, 0.09573748, 0.48390864, 0.20049687,\n",
              "       0.5336426 , 0.40378875, 0.25839815, 0.50940418, 0.12843957,\n",
              "       0.        , 0.        , 0.08321067, 0.12669567, 0.89149553,\n",
              "       0.25643752, 0.54648717, 0.43260644, 0.10395505, 0.45898059,\n",
              "       0.        , 0.25466728, 0.44654165, 0.        , 0.89575283,\n",
              "       0.44951757, 0.23044246, 0.20764302, 0.        , 0.23960502,\n",
              "       0.18880513, 0.32718898, 0.10688806, 0.66432534, 0.        ,\n",
              "       0.68783367, 0.23832516, 0.        , 0.87932358, 0.2397428 ,\n",
              "       0.08369903, 0.63452974])"
            ]
          },
          "metadata": {
            "tags": []
          },
          "execution_count": 313
        }
      ]
    },
    {
      "cell_type": "code",
      "metadata": {
        "id": "dfVrwQ8I8WNe",
        "outputId": "60b77ea6-d3f8-423b-c48c-56725d3ea81f",
        "colab": {
          "base_uri": "https://localhost:8080/",
          "height": 306
        }
      },
      "source": [
        "x_test_new = x_test\n",
        "\n",
        "x_test_new['Prob to survive < 5'] = probability_class_2\n",
        "x_test_new.tail(5).reset_index(drop=True)"
      ],
      "execution_count": null,
      "outputs": [
        {
          "output_type": "stream",
          "text": [
            "/usr/local/lib/python3.6/dist-packages/ipykernel_launcher.py:3: SettingWithCopyWarning: \n",
            "A value is trying to be set on a copy of a slice from a DataFrame.\n",
            "Try using .loc[row_indexer,col_indexer] = value instead\n",
            "\n",
            "See the caveats in the documentation: https://pandas.pydata.org/pandas-docs/stable/user_guide/indexing.html#returning-a-view-versus-a-copy\n",
            "  This is separate from the ipykernel package so we can avoid doing imports until\n"
          ],
          "name": "stderr"
        },
        {
          "output_type": "execute_result",
          "data": {
            "text/html": [
              "<div>\n",
              "<style scoped>\n",
              "    .dataframe tbody tr th:only-of-type {\n",
              "        vertical-align: middle;\n",
              "    }\n",
              "\n",
              "    .dataframe tbody tr th {\n",
              "        vertical-align: top;\n",
              "    }\n",
              "\n",
              "    .dataframe thead th {\n",
              "        text-align: right;\n",
              "    }\n",
              "</style>\n",
              "<table border=\"1\" class=\"dataframe\">\n",
              "  <thead>\n",
              "    <tr style=\"text-align: right;\">\n",
              "      <th></th>\n",
              "      <th>Age</th>\n",
              "      <th>Patient's Years</th>\n",
              "      <th>N_positive_ax</th>\n",
              "      <th>Prob to survive &lt; 5</th>\n",
              "    </tr>\n",
              "  </thead>\n",
              "  <tbody>\n",
              "    <tr>\n",
              "      <th>0</th>\n",
              "      <td>66</td>\n",
              "      <td>58</td>\n",
              "      <td>0</td>\n",
              "      <td>0.000000</td>\n",
              "    </tr>\n",
              "    <tr>\n",
              "      <th>1</th>\n",
              "      <td>57</td>\n",
              "      <td>62</td>\n",
              "      <td>14</td>\n",
              "      <td>0.879324</td>\n",
              "    </tr>\n",
              "    <tr>\n",
              "      <th>2</th>\n",
              "      <td>76</td>\n",
              "      <td>67</td>\n",
              "      <td>0</td>\n",
              "      <td>0.239743</td>\n",
              "    </tr>\n",
              "    <tr>\n",
              "      <th>3</th>\n",
              "      <td>63</td>\n",
              "      <td>66</td>\n",
              "      <td>0</td>\n",
              "      <td>0.083699</td>\n",
              "    </tr>\n",
              "    <tr>\n",
              "      <th>4</th>\n",
              "      <td>62</td>\n",
              "      <td>65</td>\n",
              "      <td>19</td>\n",
              "      <td>0.634530</td>\n",
              "    </tr>\n",
              "  </tbody>\n",
              "</table>\n",
              "</div>"
            ],
            "text/plain": [
              "   Age  Patient's Years  N_positive_ax  Prob to survive < 5\n",
              "0   66               58              0             0.000000\n",
              "1   57               62             14             0.879324\n",
              "2   76               67              0             0.239743\n",
              "3   63               66              0             0.083699\n",
              "4   62               65             19             0.634530"
            ]
          },
          "metadata": {
            "tags": []
          },
          "execution_count": 314
        }
      ]
    }
  ]
}